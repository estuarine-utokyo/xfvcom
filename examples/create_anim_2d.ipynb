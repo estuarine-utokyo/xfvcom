{
 "cells": [
  {
   "cell_type": "markdown",
   "id": "99c8a851-57dc-46c1-8639-79a9fe5f311d",
   "metadata": {},
   "source": [
    "# Create GIF/MP4 animation for 2D horizontal plots\n",
    "**Author: Jun Sasaki  Coded on 2025-01-12  Updated on 2025-01-13**<br>\n",
    "Create a GIF/MP4 animation. Customization can be made by defining `post_process_func` statically (no time change) or dynamically (change with time), or `post_process_func=None` without customization. Currently, `create_mp4` does not work and converting GIF to MP4 using `convert_gif_to_mp4`. \n",
    "\n",
    "```Python\n",
    "def post_process_func(ax, da=None, time=None):\n",
    "    \"\"\"\n",
    "    Example of post_process_func for customizing plot (e.g., add text or markers)\n",
    "    \n",
    "    Parameters:\n",
    "    - ax: matplotlib axis.\n",
    "    - da: DataArray (optional and used for dynamic customizing).\n",
    "    - time: Frame time (optional and used for dynamic customizing).\n",
    "    \"\"\"\n",
    "```"
   ]
  },
  {
   "cell_type": "code",
   "execution_count": 1,
   "id": "fd523fff-08bd-424b-9c7b-90fbc6569089",
   "metadata": {},
   "outputs": [],
   "source": [
    "from xfvcom import FvcomDataLoader, FvcomPlotConfig, FvcomPlotter\n",
    "from xfvcom.helpers import FrameGenerator\n",
    "from xfvcom.plot_utils import create_anim_2d_plot\n",
    "import pandas as pd\n",
    "from functools import partial\n",
    "import warnings\n",
    "warnings.filterwarnings(\"ignore\", category=RuntimeWarning)"
   ]
  },
  {
   "cell_type": "markdown",
   "id": "50e8f7b5-33d5-4242-8149-a817e1e8dd98",
   "metadata": {},
   "source": [
    "### Prepare FvcomDataLoader instance of `fvcom` using FVCOM output netcdf.\n",
    "Dataset is `fvcom.ds`."
   ]
  },
  {
   "cell_type": "code",
   "execution_count": 2,
   "id": "b1eb75d2-400e-4caf-912d-38d6b4ca242f",
   "metadata": {},
   "outputs": [],
   "source": [
    "# Loading FVCOM output netcdf\n",
    "base_path = \"~/Github/TB-FVCOM/goto2023/output\"\n",
    "# List of netcdf files convenient to switch to another netcdf by specifying its index\n",
    "ncfiles = [\"TokyoBay18_r16_crossed_0001.nc\"]\n",
    "index_ncfile = 0\n",
    "# Create an instance of FvcomDataLoader where fvcom.ds is a Dataset\n",
    "fvcom = FvcomDataLoader(base_path=base_path, ncfile=ncfiles[index_ncfile], time_tolerance=5)"
   ]
  },
  {
   "cell_type": "markdown",
   "id": "566d4f21-41f9-41a6-85e9-7a7fd64910b4",
   "metadata": {},
   "source": [
    "### Additionally creating MP4 and setting `cleanup`\n",
    "- generate_mp4 (bool): Whether creating MP4 animation from GIF animation.\n",
    "- cleanup (bool): Whether each frame is removed after creating animation."
   ]
  },
  {
   "cell_type": "code",
   "execution_count": 3,
   "id": "709bba3e-a370-41aa-a11e-93f688759882",
   "metadata": {},
   "outputs": [],
   "source": [
    "# Switch GIF/MP4 and set `cleanup`\n",
    "generate_mp4 = True\n",
    "cleanup = False\n"
   ]
  },
  {
   "cell_type": "markdown",
   "id": "72cbb5c0-1b8c-4811-8f4d-e2053f5f2140",
   "metadata": {},
   "source": [
    "### Create GIF and/or MP4 animation with static customizing.\n",
    "- 2-D horizontal plot with static customization by updating `ax`, which does not change with time.\n",
    "- Prepare `add_custom_plot` for customizing or `post_process_func=None` without customizing.  "
   ]
  },
  {
   "cell_type": "code",
   "execution_count": 6,
   "id": "7ae7b6de-2b39-44a2-937a-f815a587f9cd",
   "metadata": {},
   "outputs": [
    {
     "name": "stdout",
     "output_type": "stream",
     "text": [
      "Plot saved to: frames/salinity_20200101-20200104_frame_0.png\n",
      "Plot saved to: frames/salinity_20200101-20200104_frame_1.png\n",
      "Plot saved to: frames/salinity_20200101-20200104_frame_2.png\n",
      "Plot saved to: frames/salinity_20200101-20200104_frame_3.png\n",
      "Plot saved to: frames/salinity_20200101-20200104_frame_4.png\n",
      "Plot saved to: frames/salinity_20200101-20200104_frame_5.png\n",
      "Plot saved to: frames/salinity_20200101-20200104_frame_7.png\n",
      "Plot saved to: frames/salinity_20200101-20200104_frame_6.png\n",
      "Plot saved to: frames/salinity_20200101-20200104_frame_8.png\n",
      "Plot saved to: frames/salinity_20200101-20200104_frame_9.png\n",
      "Plot saved to: frames/salinity_20200101-20200104_frame_12.png\n",
      "Plot saved to: frames/salinity_20200101-20200104_frame_11.png\n",
      "Plot saved to: frames/salinity_20200101-20200104_frame_13.png\n",
      "Plot saved to: frames/salinity_20200101-20200104_frame_10.png\n",
      "Plot saved to: frames/salinity_20200101-20200104_frame_14.png\n",
      "Plot saved to: frames/salinity_20200101-20200104_frame_15.png\n",
      "Plot saved to: frames/salinity_20200101-20200104_frame_16.png\n",
      "Plot saved to: frames/salinity_20200101-20200104_frame_17.png\n",
      "Plot saved to: frames/salinity_20200101-20200104_frame_18.png\n",
      "Plot saved to: frames/salinity_20200101-20200104_frame_19.png\n",
      "Saved the GIF animation as 'salinity_20200101-20200104.gif'.\n",
      "Converted from salinity_20200101-20200104.gif to salinity_20200101-20200104.mp4.\n"
     ]
    },
    {
     "data": {
      "text/plain": [
       "'salinity_20200101-20200104'"
      ]
     },
     "execution_count": 6,
     "metadata": {},
     "output_type": "execute_result"
    }
   ],
   "source": [
    "def static_custom_plot(ax):\n",
    "    \"\"\"\n",
    "    Customizing plot by updating ax\n",
    "\n",
    "    Parameters:\n",
    "    - ax: matplotlib axis\n",
    "    \"\"\"\n",
    "\n",
    "    # Further customization can be added.\n",
    "    ax.set_title(\"Title with Custom Plot\")\n",
    "\n",
    "'''\n",
    "# Loading FVCOM output netcdf\n",
    "base_path = \"~/Github/TB-FVCOM/goto2023/output\"\n",
    "# List of netcdf files convenient to switch to another netcdf by specifying its index\n",
    "ncfiles = [\"TokyoBay18_r16_crossed_0001.nc\"]\n",
    "index_ncfile = 0\n",
    "# Create an instance of FvcomDataLoader where fvcom.ds is a Dataset\n",
    "fvcom = FvcomDataLoader(base_path=base_path, ncfile=ncfiles[index_ncfile], time_tolerance=5)\n",
    "'''\n",
    "\n",
    "# Create an instance of FvcomPlotter\n",
    "dataset = fvcom.ds.isel(time=slice(0, 20)) # You may slice by the time index range. The whole range is `time=slice(0, None)`.\n",
    "plotter = FvcomPlotter(dataset, FvcomPlotConfig(figsize=(6, 8)))\n",
    "# Specify var_name and siglay if any\n",
    "var_name = \"salinity\"\n",
    "siglay = 0\n",
    "# Set plot_kwargs for `ax.tricontourf(**kwargs)`.\n",
    "plot_kwargs={\"verbose\": False, \"vmin\": 10, \"vmax\": 20, \"levels\": [9.5, 10, 10.5, 11, 11.5, 12, 12.5, 13, 13.5, 14, 15, 16, 17, 18, 19, 20]}\n",
    "plot_kwargs={\"verbose\": False, \"vmin\": 28, \"vmax\": 34, \"levels\": 20, \"cmap\": \"jet\"}\n",
    "plot_kwargs={\"verbose\": False, \"vmin\": 28, \"vmax\": 34, \"levels\": 20, \"cmap\": \"jet\", \"with_mesh\": True, \"plot_grid\": True}\n",
    "#plot_kwargs={}\n",
    "\n",
    "# Invoke xfvcom.plot_utils.create_gif_anim_2d_plot\n",
    "create_anim_2d_plot(plotter, var_name, siglay=siglay, fps=10,\n",
    "                    generate_mp4=generate_mp4, cleanup=cleanup,\n",
    "                    post_process_func=static_custom_plot, plot_kwargs=plot_kwargs)"
   ]
  },
  {
   "cell_type": "markdown",
   "id": "2e4d1005-db95-4976-aea8-b922a6c16733",
   "metadata": {},
   "source": [
    "### Create GIF animation with dynamic customizing.\n",
    "- 2-D horizontal plot with dynamic customizing by updating `ax`, which changes with time.\n",
    "- Prepare `dynamic_custom_plot` for dynamic customizing.  "
   ]
  },
  {
   "cell_type": "code",
   "execution_count": 5,
   "id": "b6f0bd4c-688a-4a96-9fc2-7db9aa014a74",
   "metadata": {},
   "outputs": [
    {
     "name": "stdout",
     "output_type": "stream",
     "text": [
      "Plot saved to: frames/salinity_20200101-20200102_frame_0.png\n",
      "Plot saved to: frames/salinity_20200101-20200102_frame_1.png\n",
      "Plot saved to: frames/salinity_20200101-20200102_frame_2.png\n",
      "Plot saved to: frames/salinity_20200101-20200102_frame_3.png\n",
      "Plot saved to: frames/salinity_20200101-20200102_frame_4.png\n",
      "Plot saved to: frames/salinity_20200101-20200102_frame_5.png\n",
      "Plot saved to: frames/salinity_20200101-20200102_frame_6.png\n",
      "Plot saved to: frames/salinity_20200101-20200102_frame_7.png\n",
      "Plot saved to: frames/salinity_20200101-20200102_frame_8.png\n",
      "Plot saved to: frames/salinity_20200101-20200102_frame_9.png\n",
      "Saved the GIF animation as 'salinity_20200101-20200102.gif'.\n",
      "Converted from salinity_20200101-20200102.gif to salinity_20200101-20200102.mp4.\n"
     ]
    },
    {
     "data": {
      "text/plain": [
       "'salinity_20200101-20200102'"
      ]
     },
     "execution_count": 5,
     "metadata": {},
     "output_type": "execute_result"
    }
   ],
   "source": [
    "def dynamic_custom_plot(ax, da, time):\n",
    "    \"\"\"\n",
    "    Plot the corresponding datetime at each frame\n",
    "\n",
    "    Parameters:\n",
    "    - ax: matplotib axis.\n",
    "    - da: DataArray.\n",
    "    - time: Frame time.    \n",
    "    \"\"\"\n",
    "    datetime = pd.Timestamp(da.time.item()).strftime('%Y-%m-%d %H:%M:%S')\n",
    "    ax.set_title(f\"Time: {datetime}\")\n",
    "\n",
    "dataset = fvcom.ds.isel(time=slice(0, 10)) # You may slice by the time index range. The whole range is `time=slice(0, None)`.\n",
    "plotter = FvcomPlotter(dataset, FvcomPlotConfig(figsize=(6, 8)))\n",
    "# Specify var_name and siglay if any\n",
    "var_name = \"salinity\"\n",
    "siglay = 0\n",
    "# Set plot_kwargs for `ax.tricontourf(**kwargs)`\n",
    "plot_kwargs={\"verbose\": False, \"vmin\": 10, \"vmax\": 20, \"levels\": [9.5, 10, 10.5, 11, 11.5, 12, 12.5, 13, 13.5, 14, 15, 16, 17, 18, 19, 20]}\n",
    "plot_kwargs={\"verbose\": False, \"vmin\": 28, \"vmax\": 34, \"levels\": 20, \"cmap\": \"jet\"}\n",
    "#plot_kwargs={\"verbose\": False, \"vmin\": 28, \"vmax\": 34, \"levels\": 20, \"cmap\": \"jet\", \"with_mesh\": True}\n",
    "#plot_kwargs={}\n",
    "\n",
    "# Invoke xfvcom.plot_utils.create_gif_anim_2d_plot\n",
    "create_anim_2d_plot(plotter, var_name, siglay=siglay, fps=10,\n",
    "                    generate_mp4=generate_mp4, cleanup=cleanup,\n",
    "                    post_process_func=static_custom_plot, plot_kwargs=plot_kwargs)"
   ]
  },
  {
   "cell_type": "code",
   "execution_count": null,
   "id": "429e17e3-d022-44a1-bd2b-931c21369d67",
   "metadata": {},
   "outputs": [],
   "source": []
  }
 ],
 "metadata": {
  "kernelspec": {
   "display_name": "Python 3 (ipykernel)",
   "language": "python",
   "name": "python3"
  },
  "language_info": {
   "codemirror_mode": {
    "name": "ipython",
    "version": 3
   },
   "file_extension": ".py",
   "mimetype": "text/x-python",
   "name": "python",
   "nbconvert_exporter": "python",
   "pygments_lexer": "ipython3",
   "version": "3.12.8"
  },
  "widgets": {
   "application/vnd.jupyter.widget-state+json": {
    "state": {},
    "version_major": 2,
    "version_minor": 0
   }
  }
 },
 "nbformat": 4,
 "nbformat_minor": 5
}
