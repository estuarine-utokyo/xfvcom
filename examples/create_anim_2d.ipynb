{
 "cells": [
  {
   "cell_type": "markdown",
   "id": "99c8a851-57dc-46c1-8639-79a9fe5f311d",
   "metadata": {},
   "source": [
    "# Create GIF/MP4 animation for 2D horizontal plots\n",
    "**Author: Jun Sasaki  Coded on 2025-01-12  Updated on 2025-04-27**<br>\n",
    "Create a GIF/MP4 animation. Customization can be made by defining `post_process_func` statically (no time change) or dynamically (change with time), or `post_process_func=None` without customization. Currently, `create_mp4` does not work and converting GIF to MP4 using `convert_gif_to_mp4`. \n",
    "\n",
    "```Python\n",
    "def post_process_func(ax, da=None, time=None):\n",
    "    \"\"\"\n",
    "    Example of post_process_func for customizing plot (e.g., add text or markers)\n",
    "    \n",
    "    Parameters:\n",
    "    - ax: matplotlib axis.\n",
    "    - da: DataArray (optional and used for dynamic customizing).\n",
    "    - time: Frame time (optional and used for dynamic customizing).\n",
    "    \"\"\"\n",
    "```"
   ]
  },
  {
   "cell_type": "code",
   "execution_count": null,
   "id": "fd523fff-08bd-424b-9c7b-90fbc6569089",
   "metadata": {},
   "outputs": [],
   "source": [
    "from xfvcom import FvcomDataLoader, FvcomPlotConfig, FvcomPlotter\n",
    "# from xfvcom.helpers import FrameGenerator\n",
    "from xfvcom.plot_utils import create_anim_2d_plot\n",
    "from xfvcom.plot_options import FvcomPlotOptions\n",
    "import os\n",
    "import pandas as pd\n",
    "import numpy as np\n",
    "# from functools import partial\n",
    "import warnings\n",
    "warnings.filterwarnings(\"ignore\", category=RuntimeWarning)\n",
    "\n",
    "from IPython.core.magic import register_cell_magic\n",
    "@register_cell_magic\n",
    "def skip(line, cell):\n",
    "    print(\"This cell is skipped.\")"
   ]
  },
  {
   "cell_type": "markdown",
   "id": "50e8f7b5-33d5-4242-8149-a817e1e8dd98",
   "metadata": {},
   "source": [
    "### Prepare FvcomDataLoader instance of `fvcom` using FVCOM output netcdf.\n",
    "- It will take time.\n",
    "- Dataset is `fvcom.ds`."
   ]
  },
  {
   "cell_type": "code",
   "execution_count": null,
   "id": "b1eb75d2-400e-4caf-912d-38d6b4ca242f",
   "metadata": {},
   "outputs": [],
   "source": [
    "# Loading FVCOM output netcdf\n",
    "# List of netcdf files convenient to switch to another netcdf by specifying its index\n",
    "base_path = \"~/Github/TB-FVCOM/goto2023/output\"\n",
    "ncfiles = [\"TokyoBay18_r16_crossed_0001.nc\"]\n",
    "#base_path =  \"/home/pj24001722/ku40003295/Ersem_TokyoBay/output_5times\"\n",
    "#ncfiles = [\"tb_0001.nc\"]\n",
    "base_path = os.path.expanduser(base_path)\n",
    "index_ncfile = 0\n",
    "ncfile_path = f\"{base_path}/{ncfiles[index_ncfile]}\"\n",
    "# Create an instance of FvcomDataLoader where fvcom.ds is a Dataset\n",
    "fvcom = FvcomDataLoader(ncfile_path=ncfile_path, time_tolerance=5)"
   ]
  },
  {
   "cell_type": "code",
   "execution_count": null,
   "id": "6ae18af7-6ed4-4698-a3d5-c0b7b50591d4",
   "metadata": {},
   "outputs": [],
   "source": [
    "fvcom.ds"
   ]
  },
  {
   "cell_type": "markdown",
   "id": "566d4f21-41f9-41a6-85e9-7a7fd64910b4",
   "metadata": {},
   "source": [
    "### Additionally creating MP4 and setting `cleanup`\n",
    "- generate_mp4 (bool): Whether creating MP4 animation from GIF animation.\n",
    "- cleanup (bool): Whether each frame is removed after creating animation."
   ]
  },
  {
   "cell_type": "code",
   "execution_count": null,
   "id": "709bba3e-a370-41aa-a11e-93f688759882",
   "metadata": {},
   "outputs": [],
   "source": [
    "# Switch GIF/MP4 and set `cleanup`\n",
    "generate_gif = True\n",
    "generate_mp4 = False\n",
    "cleanup = False"
   ]
  },
  {
   "cell_type": "markdown",
   "id": "2e4d1005-db95-4976-aea8-b922a6c16733",
   "metadata": {},
   "source": [
    "### Create GIF and/or MP4 animation\n",
    "- 2-D horizontal plot with customizing by updating `ax`, which changes with time.\n",
    "- Prepare `custome_plot` for customizing or `post_process_func=None` without customizing.  "
   ]
  },
  {
   "cell_type": "code",
   "execution_count": null,
   "id": "b6f0bd4c-688a-4a96-9fc2-7db9aa014a74",
   "metadata": {},
   "outputs": [],
   "source": [
    "def custom_plot(ax, da, time):\n",
    "    \"\"\"\n",
    "    Plot the corresponding datetime at each frame\n",
    "\n",
    "    Parameters:\n",
    "    - ax: matplotib axis.\n",
    "    - da: DataArray.\n",
    "    - time: Frame time.    \n",
    "    \"\"\"\n",
    "    datetime = pd.Timestamp(da.time.item()).strftime('%Y-%m-%d %H:%M:%S')\n",
    "    ax.set_title(f\"Time: {datetime}\")\n",
    "\n",
    "time = slice(0, 72)\n",
    "# Check the time slice is within the valid range.\n",
    "time_size = fvcom.ds.sizes['time']\n",
    "print(f\"Time dimension size: {time_size}\")\n",
    "start_index = time.start if time.start is not None else 0\n",
    "end_index = time.stop if time.stop is not None else time_size\n",
    "if start_index < 0 or end_index > time_size:\n",
    "    raise IndexError(f\"Time slice is out of bounds. Valid range is [0, {time_size}), \"\n",
    "                     f\"but got slice({start_index}, {end_index}).\")\n",
    "\n",
    "dataset = fvcom.ds.isel(time=time) # You may slice by the time index range. The whole range is `time=slice(0, None)`.\n",
    "plotter = FvcomPlotter(dataset, FvcomPlotConfig(figsize=(6, 8)))\n",
    "# Specify the number of maximum processes.\n",
    "# 16 may be the optimum number.\n",
    "processes = 16\n",
    "# Specify var_name and siglay if any\n",
    "#var_name = \"O2_o\"\n",
    "var_name = \"temp\"\n",
    "siglay = 0\n",
    "# Set plot_kwargs for `ax.tricontourf(**kwargs)`\n",
    "plot_kwargs={\"verbose\": False, \"vmin\": 10, \"vmax\": 20, \"levels\": [9.5, 10, 10.5, 11, 11.5, 12, 12.5, 13, 13.5, 14, 15, 16, 17, 18, 19, 20]}\n",
    "plot_kwargs={\"verbose\": False, \"vmin\": 28, \"vmax\": 34, \"levels\": 20, \"cmap\": \"jet\"}\n",
    "#plot_kwargs={\"verbose\": False, \"vmin\": 28, \"vmax\": 34, \"levels\": 20, \"cmap\": \"jet\", \"with_mesh\": True}\n",
    "plot_kwargs={}\n",
    "\n",
    "# Invoke xfvcom.plot_utils.create_gif_anim_2d_plot\n",
    "opts = FvcomPlotOptions.from_kwargs(**plot_kwargs)\n",
    "create_anim_2d_plot(plotter, processes, var_name, siglay=siglay, fps=10,\n",
    "                    generate_mp4=generate_mp4, cleanup=cleanup,\n",
    "                    post_process_func=custom_plot, opts=opts)"
   ]
  },
  {
   "cell_type": "code",
   "execution_count": null,
   "id": "429e17e3-d022-44a1-bd2b-931c21369d67",
   "metadata": {},
   "outputs": [],
   "source": []
  }
 ],
 "metadata": {
  "kernelspec": {
   "display_name": "Python 3 (ipykernel)",
   "language": "python",
   "name": "python3"
  },
  "language_info": {
   "codemirror_mode": {
    "name": "ipython",
    "version": 3
   },
   "file_extension": ".py",
   "mimetype": "text/x-python",
   "name": "python",
   "nbconvert_exporter": "python",
   "pygments_lexer": "ipython3",
   "version": "3.12.8"
  },
  "widgets": {
   "application/vnd.jupyter.widget-state+json": {
    "state": {},
    "version_major": 2,
    "version_minor": 0
   }
  }
 },
 "nbformat": 4,
 "nbformat_minor": 5
}
