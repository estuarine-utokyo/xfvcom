{
 "cells": [
  {
   "cell_type": "markdown",
   "id": "defcc9ee-3cdb-4c4f-aceb-0c29d2015b13",
   "metadata": {},
   "source": [
    "# River input data\n",
    "**Author: Jun Sasaki  Coded on 2025-05-10 Updated on 2025-05-10**<br>\n"
   ]
  },
  {
   "cell_type": "code",
   "execution_count": null,
   "id": "76419d57-ecd0-45d5-b9da-c4b9c4759a62",
   "metadata": {},
   "outputs": [],
   "source": [
    "from pathlib import Path\n",
    "import cartopy.crs as ccrs\n",
    "from cartopy.io.img_tiles import GoogleTiles\n",
    "import matplotlib.pyplot as plt\n",
    "\n",
    "from xfvcom import FvcomDataLoader\n",
    "from xfvcom import FvcomPlotter, FvcomPlotConfig, FvcomPlotOptions\n",
    "from xfvcom import parse_river_namelist\n",
    "from xfvcom import make_node_marker_post\n",
    "# from xfvcom.plot.markers_debug import make_node_marker_post_debug\n",
    "\n",
    "from IPython.core.magic import register_cell_magic\n",
    "@register_cell_magic\n",
    "def skip(line, cell):\n",
    "    print(\"This cell is skipped.\")\n",
    "\n",
    "png_dir = Path(\"PNG\"); png_dir.mkdir(exist_ok=True)"
   ]
  },
  {
   "cell_type": "code",
   "execution_count": null,
   "id": "71622a62-2f58-43f0-aa40-5d67116cbe45",
   "metadata": {},
   "outputs": [],
   "source": [
    "base_path = Path(\"~/Github/TB-FVCOM/goto2023\").expanduser()\n",
    "ncfile = \"TokyoBay18_r16_crossed_0001.nc\"\n",
    "obcfile = \"TokyoBay18_obc.dat\"\n",
    "# nc_river = \"TokyoBayfinal_river.nc\"\n",
    "river_nc = \"TokyoBayfinal16_river.nc\"\n",
    "river_nml = \"RIVERS_NAMELIST16.nml\" \n",
    "ncfile_path = base_path / \"output\" / ncfile\n",
    "obcfile_path = base_path / \"input\" / obcfile\n",
    "river_nc_path = base_path / \"input\" / river_nc\n",
    "river_nml_path = base_path / \"input\" / river_nml\n",
    "river = FvcomDataLoader(ncfile_path=river_nc_path, time_tolerance=5)\n",
    "df = parse_river_namelist(river_nml_path)\n",
    "\n",
    "fvcom = FvcomDataLoader(ncfile_path=ncfile_path, obcfile_path=obcfile_path, time_tolerance=5)\n",
    "cfg = FvcomPlotConfig()\n",
    "plotter = FvcomPlotter(fvcom.ds, cfg)"
   ]
  },
  {
   "cell_type": "code",
   "execution_count": null,
   "id": "94632825-dd5d-462c-8114-b7ecd9f7451f",
   "metadata": {},
   "outputs": [],
   "source": [
    "pp = make_node_marker_post(\n",
    "    df.grid_location,\n",
    "    plotter,\n",
    "    text_kwargs={\"color\": \"cyan\"},\n",
    "    index_base=1,\n",
    ")\n",
    "\n",
    "#pp = make_node_marker_post_debug(\n",
    "#    df.grid_location,   # pandas.Series[int]\n",
    "#    plotter,\n",
    "#    index_base=1,\n",
    "#)\n",
    "\n",
    "opts = FvcomPlotOptions(\n",
    "    figsize=(6,9),\n",
    "    add_tiles=True,\n",
    "    tile_provider=GoogleTiles(style=\"satellite\"),\n",
    "    mesh_color=\"#ffffff\",\n",
    "    mesh_linewidth=0.3,\n",
    "    xlim = (\"139:40:00\", \"140:00:00\"),\n",
    "    ylim = (\"35:12:00\", \"35:42\"),\n",
    "    lon_tick_skip=2,\n",
    ")\n",
    "\n",
    "plotter.plot_2d(da=None, post_process_func=pp, opts=opts)"
   ]
  },
  {
   "cell_type": "code",
   "execution_count": null,
   "id": "92b7ac2a-5f2c-41e3-a31c-879c229cf7b6",
   "metadata": {},
   "outputs": [],
   "source": [
    "# ------------------------------------------------------------\n",
    "# Factory that creates a post_process_func capturing df/plotter\n",
    "# ------------------------------------------------------------\n",
    "def make_river_marker_post(df, plotter, *, show_name=True,\n",
    "                           marker_kwargs=None, text_kwargs=None,\n",
    "                           index_base: int = 0):\n",
    "    \"\"\"\n",
    "    Return a post_process_func that plots river nodes on an existing axis.\n",
    "\n",
    "    Parameters\n",
    "    ----------\n",
    "    df : pandas.DataFrame\n",
    "        Output of ``parse_river_namelist`` with a ``grid_location`` column\n",
    "        already 0-based.\n",
    "    plotter : FvcomPlotter\n",
    "        The plotter used for mesh plotting (to access lon/lat arrays).\n",
    "    show_name : bool, default True\n",
    "        Whether to write river names beside markers.\n",
    "    marker_kwargs : dict | None\n",
    "        Extra kwargs passed to ``ax.plot`` for the marker.\n",
    "    text_kwargs : dict | None\n",
    "        Extra kwargs passed to ``ax.text`` for the label.\n",
    "    index_base : int, default 0\n",
    "        Add this offset to the displayed node number (0→Python, 1→Fortran).\n",
    "    \"\"\"\n",
    "    transform = ccrs.PlateCarree()\n",
    "    mkw = {\"marker\": \"o\", \"color\": \"red\", \"markersize\": 3,\n",
    "           \"transform\": transform, \"zorder\": 4} | (marker_kwargs or {})\n",
    "    tkw = {\"fontsize\": 8, \"color\": \"yellow\", \"ha\": \"center\", \"va\": \"bottom\",\n",
    "           \"transform\": transform, \"zorder\": 5, \"clip_on\": True} | (text_kwargs or {})\n",
    "\n",
    "    lon = plotter.ds.lon.values     # cached for speed\n",
    "    lat = plotter.ds.lat.values\n",
    "\n",
    "    def _post(ax):                  # ← 実際に plot_2d が呼ぶ関数\n",
    "        for _, row in df.iterrows():\n",
    "            idx = int(row.grid_location)         # already 0-indexed\n",
    "            ax.plot(lon[idx], lat[idx], **mkw)   # marker\n",
    "            if show_name:\n",
    "                label = f\"{idx + index_base}\"\n",
    "                ax.text(lon[idx], lat[idx], label, **tkw)\n",
    "\n",
    "    return _post\n",
    "\n",
    "opts = FvcomPlotOptions(\n",
    "    figsize=(6,9),\n",
    "    add_tiles=True,\n",
    "    tile_provider=GoogleTiles(style=\"satellite\"),\n",
    "    mesh_color=\"#ffffff\",\n",
    "    mesh_linewidth=0.3,\n",
    "    xlim = (\"139:40:00\", \"140:00:00\"),\n",
    "    ylim = (\"35:12:00\", \"35:42\"),\n",
    "    lon_tick_skip=2,\n",
    ")\n",
    "\n",
    "post_process_func = make_river_marker_post(df, plotter,\n",
    "                                 show_name=True,\n",
    "                                 index_base=1)\n",
    "plotter.plot_2d(da=None, post_process_func=post_process_func, opts=opts)"
   ]
  },
  {
   "cell_type": "code",
   "execution_count": null,
   "id": "4b9fd476-f1f1-4bd4-a4d6-3dcf2a63b25d",
   "metadata": {},
   "outputs": [],
   "source": [
    "river.ds.river_names.values"
   ]
  },
  {
   "cell_type": "code",
   "execution_count": null,
   "id": "da3fe0f6-ed2a-44ac-9aeb-f7c9f05d1611",
   "metadata": {},
   "outputs": [],
   "source": []
  }
 ],
 "metadata": {
  "kernelspec": {
   "display_name": "Python 3 (ipykernel)",
   "language": "python",
   "name": "python3"
  },
  "language_info": {
   "codemirror_mode": {
    "name": "ipython",
    "version": 3
   },
   "file_extension": ".py",
   "mimetype": "text/x-python",
   "name": "python",
   "nbconvert_exporter": "python",
   "pygments_lexer": "ipython3",
   "version": "3.12.8"
  },
  "widgets": {
   "application/vnd.jupyter.widget-state+json": {
    "state": {},
    "version_major": 2,
    "version_minor": 0
   }
  }
 },
 "nbformat": 4,
 "nbformat_minor": 5
}
