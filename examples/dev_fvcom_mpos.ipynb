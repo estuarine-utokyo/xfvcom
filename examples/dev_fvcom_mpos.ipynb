{
 "cells": [
  {
   "cell_type": "markdown",
   "id": "9e236d4e-471b-40c1-8667-9e4f21006d5b",
   "metadata": {},
   "source": [
    "# Evaluate FVCOM results with Mpos observations\n",
    "**Author: Jun Sasaki  Coded on 2025-01-05  Updated on 2025-01-05  MIT license**<br>\n",
    "Evaluate FVCOM time-series netcdf output with observations at the Monitoring Posts in Tokyo Bay.\n",
    "## Methods\n",
    "1. Load the FVCOM output netcdf file into xfvcom, specify the node or nele value for the horizontal coordinate in the scalar and the siglay or siglev values for the vertical coordinate in the list, extract the corresponding parts, and plot them.\n",
    "2. Load the Mpos observation data and extract the data closest to the datetime and depth corresponding to 1. In doing so, set the allowable error and extract the data.\n",
    "3. Extract the common parts of 1 and 2.\n",
    "4. Use 3 to evaluate the accuracy of the calculation results."
   ]
  },
  {
   "cell_type": "code",
   "execution_count": null,
   "id": "9fa7c6e0-6613-47cd-a0d8-06ccde3c6161",
   "metadata": {},
   "outputs": [],
   "source": [
    "from xmpos import MposDataLoader, MposPlotConfig, MposPlotter\n",
    "import xarray as xr\n",
    "import os\n",
    "import matplotlib.pyplot as plt\n",
    "import pandas as pd"
   ]
  },
  {
   "cell_type": "code",
   "execution_count": null,
   "id": "3a1b53c3-8ad2-4a25-90f5-d55130335444",
   "metadata": {},
   "outputs": [],
   "source": [
    "base_path = '~/Github/TB-FVCOM/data/MLIT_edited_Mpos/nc_structured/'\n",
    "# base_path = '~/Github/TB-FVCOM/data/MLIT_edited_Mpos/nc/'\n",
    "# kemigawa = loader.load_nc(stn='01kemigawa', start=2010, end=2020, dask=False)\n",
    "loader = MposDataLoader(base_path=base_path)\n",
    "kemigawa = loader.load_structured_nc(stn='01kemigawa', start=2010, end=2020, dask=False)\n",
    "kemigawa"
   ]
  },
  {
   "cell_type": "code",
   "execution_count": null,
   "id": "6b63c4ad-8cc9-4321-bdb0-fb533c105dba",
   "metadata": {},
   "outputs": [],
   "source": [
    "config = MposPlotConfig(figsize=(8, 2), dpi=200, cmap=\"coolwarm\", levels=20)\n",
    "plotter = MposPlotter(kemigawa, config=config)\n",
    "# Create the contour plot\n",
    "fig, ax, cbar = plotter.plot_contour(\n",
    "    varname=\"DO\",\n",
    "    xlim=('2010-01-01', '2020-01-01'),\n",
    "    ylim=(0, 10),\n",
    "    clim=(0, 15),\n",
    "    stn=\"Kemigawa\",\n",
    "    rolling=False,\n",
    "    window=25\n",
    ")\n",
    "\n",
    "# Adjust the x-axis and add more annotations\n",
    "ax.set_xlim(pd.Timestamp('2015-01-01'), pd.Timestamp('2020-01-01'))\n",
    "ax.set_title(\"Adjusted DO at Kemigawa\")\n",
    "plt.show()"
   ]
  },
  {
   "cell_type": "code",
   "execution_count": null,
   "id": "d4536c60-ad68-425d-b544-95cd66f83b1f",
   "metadata": {},
   "outputs": [],
   "source": [
    "config = MposPlotConfig(figsize=(8, 2), dpi=200, cmap=\"coolwarm\", levels=[0,1,2,3,4,5,6,7,8,9,10,11,12,13,14,15])\n",
    "plotter = MposPlotter(kemigawa, config=config)\n",
    "fig, ax, cbar = plotter.plot_mean_annual_cycle(\n",
    "    varname=\"DO\", xlim=(\"2020-01-01\", \"2022-12-31\"),\n",
    "    ylim=(0, 10), clim=(0, 15), stn=\"01kemigawa\",\n",
    "    rolling=True, window=24*30+1\n",
    ")\n",
    "plt.show()"
   ]
  },
  {
   "cell_type": "code",
   "execution_count": null,
   "id": "9ec6d417-6ac3-462c-ae85-14a8bf8b00f6",
   "metadata": {},
   "outputs": [],
   "source": [
    "'''\n",
    "config = MposPlotConfig(figsize=(8, 2), dpi=300, cmap=\"coolwarm\", levels=30)\n",
    "plotter = MposPlotter(kemigawa, config=config)\n",
    "fig, ax, cbar = plotter.plot_mean_annual_cycle(\n",
    "    varname=\"DO\", \n",
    "    xlim=(\"2020-01-01\", \"2022-12-31\"), \n",
    "    ylim=(0, 10), \n",
    "    clim=(0, 15), \n",
    "    stn=\"01kemigawa\", \n",
    ")\n",
    "plt.show()\n",
    "'''"
   ]
  }
 ],
 "metadata": {
  "kernelspec": {
   "display_name": "Python 3 (ipykernel)",
   "language": "python",
   "name": "python3"
  },
  "language_info": {
   "codemirror_mode": {
    "name": "ipython",
    "version": 3
   },
   "file_extension": ".py",
   "mimetype": "text/x-python",
   "name": "python",
   "nbconvert_exporter": "python",
   "pygments_lexer": "ipython3",
   "version": "3.12.8"
  },
  "widgets": {
   "application/vnd.jupyter.widget-state+json": {
    "state": {},
    "version_major": 2,
    "version_minor": 0
   }
  }
 },
 "nbformat": 4,
 "nbformat_minor": 5
}
