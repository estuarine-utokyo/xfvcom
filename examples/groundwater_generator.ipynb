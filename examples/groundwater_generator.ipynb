{
 "cells": [
  {
   "cell_type": "markdown",
   "metadata": {},
   "source": [
    "# Groundwater Forcing Generator\n",
    "\n",
    "This notebook demonstrates how to generate groundwater forcing files for FVCOM using the `GroundwaterNetCDFGenerator`."
   ]
  },
  {
   "cell_type": "code",
   "execution_count": null,
   "metadata": {},
   "outputs": [],
   "source": [
    "import numpy as np\n",
    "from pathlib import Path\n",
    "from xfvcom.io import GroundwaterNetCDFGenerator"
   ]
  },
  {
   "cell_type": "markdown",
   "metadata": {},
   "source": [
    "## 1. Constant Values Example\n",
    "\n",
    "Generate a groundwater forcing file with constant values for all nodes and times:"
   ]
  },
  {
   "cell_type": "code",
   "execution_count": null,
   "metadata": {},
   "outputs": [],
   "source": [
    "# Assuming you have a grid file\n",
    "grid_file = Path(\"../tests/data/sample_grid.nc\")  # Update with your grid file\n",
    "\n",
    "# Create generator with constant values\n",
    "gen = GroundwaterNetCDFGenerator(\n",
    "    grid_nc=grid_file,\n",
    "    start=\"2025-01-01T00:00:00Z\",\n",
    "    end=\"2025-01-07T00:00:00Z\",\n",
    "    dt_seconds=3600,  # hourly\n",
    "    flux=0.001,       # m³/s\n",
    "    temperature=15.0, # °C\n",
    "    salinity=0.5,     # PSU\n",
    ")\n",
    "\n",
    "# Write to file\n",
    "output_file = Path(\"groundwater_constant.nc\")\n",
    "gen.write(output_file)\n",
    "print(f\"Generated: {output_file}\")"
   ]
  },
  {
   "cell_type": "markdown",
   "metadata": {},
   "source": [
    "## 2. Node-Varying Values Example\n",
    "\n",
    "Create forcing with different values for each node (but constant in time):"
   ]
  },
  {
   "cell_type": "code",
   "execution_count": null,
   "metadata": {},
   "outputs": [],
   "source": [
    "# First, check how many nodes in the grid\n",
    "import xarray as xr\n",
    "with xr.open_dataset(grid_file) as ds:\n",
    "    n_nodes = ds.dims[\"node\"]\n",
    "    print(f\"Grid has {n_nodes} nodes\")\n",
    "\n",
    "# Create node-specific values\n",
    "flux_by_node = np.random.uniform(0.0, 0.01, n_nodes)  # Random flux values\n",
    "temp_by_node = np.random.uniform(10.0, 20.0, n_nodes) # Random temperatures\n",
    "\n",
    "# Create generator\n",
    "gen = GroundwaterNetCDFGenerator(\n",
    "    grid_nc=grid_file,\n",
    "    start=\"2025-01-01T00:00:00Z\",\n",
    "    end=\"2025-01-02T00:00:00Z\",\n",
    "    dt_seconds=3600,\n",
    "    flux=flux_by_node,\n",
    "    temperature=temp_by_node,\n",
    "    salinity=0.0,  # Fresh water\n",
    ")\n",
    "\n",
    "output_file = Path(\"groundwater_nodes.nc\")\n",
    "gen.write(output_file)\n",
    "print(f\"Generated: {output_file}\")"
   ]
  },
  {
   "cell_type": "markdown",
   "metadata": {},
   "source": [
    "## 3. Time-Varying Values Example\n",
    "\n",
    "Create forcing that varies in both space and time:"
   ]
  },
  {
   "cell_type": "code",
   "execution_count": null,
   "metadata": {},
   "outputs": [],
   "source": [
    "# Define time parameters\n",
    "start = \"2025-01-01T00:00:00Z\"\n",
    "end = \"2025-01-03T00:00:00Z\"\n",
    "dt_hours = 6  # 6-hourly data\n",
    "\n",
    "# Calculate number of time steps\n",
    "import pandas as pd\n",
    "times = pd.date_range(start, end, freq=f\"{dt_hours}h\", inclusive=\"both\")\n",
    "n_times = len(times)\n",
    "print(f\"Time steps: {n_times}\")\n",
    "\n",
    "# Create time-varying flux (e.g., tidal influence)\n",
    "flux_data = np.zeros((n_nodes, n_times))\n",
    "for i in range(n_nodes):\n",
    "    # Sinusoidal variation with different phase for each node\n",
    "    phase = i * 2 * np.pi / n_nodes\n",
    "    flux_data[i, :] = 0.005 * (1 + np.sin(2 * np.pi * np.arange(n_times) / 4 + phase))\n",
    "\n",
    "# Create generator\n",
    "gen = GroundwaterNetCDFGenerator(\n",
    "    grid_nc=grid_file,\n",
    "    start=start,\n",
    "    end=end,\n",
    "    dt_seconds=dt_hours * 3600,\n",
    "    flux=flux_data,\n",
    "    temperature=15.0,  # Constant temperature\n",
    "    salinity=0.0,      # Fresh water\n",
    ")\n",
    "\n",
    "output_file = Path(\"groundwater_timevarying.nc\")\n",
    "gen.write(output_file)\n",
    "print(f\"Generated: {output_file}\")"
   ]
  },
  {
   "cell_type": "markdown",
   "metadata": {},
   "source": [
    "## 4. Using the CLI\n",
    "\n",
    "You can also use the command-line interface:"
   ]
  },
  {
   "cell_type": "code",
   "execution_count": null,
   "metadata": {},
   "outputs": [],
   "source": [
    "# Display CLI help\n",
    "!xfvcom-make-groundwater-nc --help"
   ]
  },
  {
   "cell_type": "markdown",
   "metadata": {},
   "source": [
    "### CLI Examples:\n",
    "\n",
    "```bash\n",
    "# Constant values\n",
    "xfvcom-make-groundwater-nc grid.nc \\\n",
    "    --start 2025-01-01T00:00Z --end 2025-01-07T00:00Z \\\n",
    "    --flux 0.001 --temperature 15.0 --salinity 0.0\n",
    "\n",
    "# Using CSV files for node-specific values\n",
    "xfvcom-make-groundwater-nc grid.nc \\\n",
    "    --start 2025-01-01 --end 2025-12-31 \\\n",
    "    --start-tz Asia/Tokyo \\\n",
    "    --flux groundwater_flux_by_node.csv \\\n",
    "    --temperature 10.0 --salinity 0.0\n",
    "\n",
    "# For .dat grid files, specify UTM zone\n",
    "xfvcom-make-groundwater-nc grid.dat --utm-zone 54 \\\n",
    "    --start 2025-01-01T00:00Z --end 2025-01-02T00:00Z \\\n",
    "    --flux 0.005 --temperature 18.0 --salinity 32.0\n",
    "```"
   ]
  },
  {
   "cell_type": "markdown",
   "metadata": {},
   "source": [
    "## 5. Verify Output\n",
    "\n",
    "Check the generated NetCDF file:"
   ]
  },
  {
   "cell_type": "code",
   "execution_count": null,
   "metadata": {},
   "outputs": [],
   "source": [
    "# Read with decode_times=False to handle FVCOM time format\n",
    "with xr.open_dataset(\"groundwater_constant.nc\", decode_times=False) as ds:\n",
    "    print(ds)\n",
    "    print(\"\\nVariables:\")\n",
    "    for var in ds.data_vars:\n",
    "        print(f\"  {var}: {ds[var].dims} - {ds[var].attrs.get('long_name', '')}\")"
   ]
  }
 ],
 "metadata": {
  "kernelspec": {
   "display_name": "Python 3",
   "language": "python",
   "name": "python3"
  },
  "language_info": {
   "codemirror_mode": {
    "name": "ipython",
    "version": 3
   },
   "file_extension": ".py",
   "mimetype": "text/x-python",
   "name": "python",
   "nbconvert_exporter": "python",
   "pygments_lexer": "ipython3",
   "version": "3.12.0"
  }
 },
 "nbformat": 4,
 "nbformat_minor": 4
}