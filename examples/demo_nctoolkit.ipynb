{
 "cells": [
  {
   "cell_type": "markdown",
   "id": "a7c12506-5a63-49bb-9c30-e887fafc8031",
   "metadata": {},
   "source": [
    "# Demo nctoolkit\n",
    "**Author: Jun Sasaki  Coded on 2024-12-27  Updated on 2024-12-27**<br>\n",
    "Demonstration of [nctoolkit](https://nctoolkit.readthedocs.io/en/latest/)\n",
    "### Install\n",
    "```bash\n",
    "$ conda install nctoolkit\n",
    "$ conda install dask\n",
    "```\n",
    "### FVCOM's netcdf\n",
    "```Python\n",
    "ds = nc.open_data(ncpath)\n",
    "ds = ds.to_xarray()"
   ]
  },
  {
   "cell_type": "code",
   "execution_count": null,
   "id": "78c504a4-fa07-4217-91c4-7c888287030c",
   "metadata": {},
   "outputs": [],
   "source": [
    "import nctoolkit as nc\n",
    "import os"
   ]
  },
  {
   "cell_type": "code",
   "execution_count": null,
   "id": "1c1738e5-5d28-4bad-b1f8-f3bebcf135fa",
   "metadata": {},
   "outputs": [],
   "source": [
    "'''\n",
    "ds = nc.open_thredds(\"https://psl.noaa.gov/thredds/dodsC/Datasets/COBE2/sst.mon.ltm.1991-2020.nc\")\n",
    "ds.plot()\n",
    "'''"
   ]
  },
  {
   "cell_type": "code",
   "execution_count": null,
   "id": "6ed5da6b-5ea5-4d80-86a4-45178de0709e",
   "metadata": {},
   "outputs": [],
   "source": [
    "indir = \"~/Github/TB-FVCOM/goto_dye/input/input_steady/2020\"\n",
    "indir = os.path.expanduser(indir)\n",
    "ncfile = \"obc_dye2020.nc\" # \"TokyoBay18_2020_wnd.nc\" # Unsupported: \"obc_dye2020.nc\"\n",
    "ncfile_path= f\"{indir}/{ncfile}\"\n",
    "if os.path.isfile(ncfile_path):\n",
    "    ds_nc = nc.open_data(ncfile_path)\n",
    "else:\n",
    "    print(f\"ERROR: File not found: {ncfile_path}\")"
   ]
  },
  {
   "cell_type": "code",
   "execution_count": null,
   "id": "067ed9cf-015d-4935-b447-3e0b1c796034",
   "metadata": {},
   "outputs": [],
   "source": [
    "ds_nc"
   ]
  },
  {
   "cell_type": "code",
   "execution_count": null,
   "id": "b3a597eb-53ce-42ea-9835-33bb0528b876",
   "metadata": {},
   "outputs": [],
   "source": [
    "ds = ds_nc.to_xarray()"
   ]
  },
  {
   "cell_type": "code",
   "execution_count": null,
   "id": "1aee3053-0576-427e-a1cf-cd3758ea418e",
   "metadata": {},
   "outputs": [],
   "source": [
    "ds"
   ]
  },
  {
   "cell_type": "code",
   "execution_count": null,
   "id": "7cf4b59e-0a3d-4cf9-a60a-ae37ad19400c",
   "metadata": {},
   "outputs": [],
   "source": []
  }
 ],
 "metadata": {
  "kernelspec": {
   "display_name": "Python 3 (ipykernel)",
   "language": "python",
   "name": "python3"
  },
  "language_info": {
   "codemirror_mode": {
    "name": "ipython",
    "version": 3
   },
   "file_extension": ".py",
   "mimetype": "text/x-python",
   "name": "python",
   "nbconvert_exporter": "python",
   "pygments_lexer": "ipython3",
   "version": "3.11.9"
  },
  "widgets": {
   "application/vnd.jupyter.widget-state+json": {
    "state": {},
    "version_major": 2,
    "version_minor": 0
   }
  }
 },
 "nbformat": 4,
 "nbformat_minor": 5
}
