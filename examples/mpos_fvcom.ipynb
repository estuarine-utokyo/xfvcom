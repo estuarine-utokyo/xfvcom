{
 "cells": [
  {
   "cell_type": "markdown",
   "id": "f561e046-5c09-443c-915c-c0488a1e5daa",
   "metadata": {},
   "source": [
    "# Time series comparison between Mpos and FVCOM netCDF\n",
    "**Author: Jun Sasaki, Coded on January 8, 2024, Updated on January 19, 2024 ([MIT License](https://opensource.org/licenses/MIT))**<br>\n",
    "- Compare Mpos data and FVCOM output netcdf at a specified siglay. See **dev_mpos_fvcom.ipynb** for development processes.\n",
    "- **Mpos:** [Monitoring Post](https://www.tbeic.go.jp/MonitoringPost/Top) dataset in Tokyo Bay by MLIT, which should be cleaned and edited using\n",
    "**create_mpos_nc.ipynb** and **edit_mpos.ipynb**\n",
    "- Suppose Mpos netCDF and FVCOM output netCDF are prepared.\n",
    "- FVCOM variables are defined at siglay. The depth at a specified siglay will change with time because of the change in the surface level.\n",
    "- Interpolate Mpos item values at the specified siglay in FVCOM to precisely compare them."
   ]
  },
  {
   "cell_type": "code",
   "execution_count": null,
   "id": "3321e27c-996c-4347-9780-e1ffc591221e",
   "metadata": {},
   "outputs": [],
   "source": [
    "from xfvcom import Fvcom, FvcomPlotConfig, FvcomDataArray, FvcomPlotter\n",
    "from mpos import Mpos\n",
    "import hvplot.xarray"
   ]
  },
  {
   "cell_type": "markdown",
   "id": "3bc96950-6ad1-4f29-8c80-88186ffcf78b",
   "metadata": {},
   "source": [
    "## Set parameters"
   ]
  },
  {
   "cell_type": "code",
   "execution_count": null,
   "id": "9e31e988-da9b-4d32-a5af-f6dbaa77247b",
   "metadata": {},
   "outputs": [],
   "source": [
    "var='temp'\n",
    "varname='Temperature'\n",
    "resample='1H'\n",
    "siglay = 10  # 0: surface\n",
    "start = \"2020-01-01T00:00:00\"\n",
    "end = \"2020-12-31T23:00:00\""
   ]
  },
  {
   "cell_type": "markdown",
   "id": "a3c87d03-ab62-489a-b9c4-42c73c681d2e",
   "metadata": {},
   "source": [
    "## Loading Mpos netcdf and creating an mpos instance"
   ]
  },
  {
   "cell_type": "code",
   "execution_count": null,
   "id": "a698c3ee-e425-4353-a71b-c3c2889812b5",
   "metadata": {},
   "outputs": [],
   "source": [
    "stn = 'kawasaki'  # 'urayasu', 'chibaharo', 'chiba1buoy', 'kawasaki'\n",
    "year = 2020\n",
    "dirpath='../Mpos/edited/'\n",
    "mpos = Mpos(dirpath=dirpath, stn=stn, year=year, nc=True)\n",
    "mpos.ds"
   ]
  },
  {
   "cell_type": "markdown",
   "id": "791c934d-f121-457d-9128-fc1802ad21d4",
   "metadata": {},
   "source": [
    "## Loading FVCOM netcdf and creating an `fvcom` instance\n",
    "```Python\n",
    "fvcom = xfvcom.Fvcom(dirpath=dirpath, ncfile=ncfile, utm2geo=True, zone=54, north=True, inverse=False)\n",
    "fvcom.ds  # xarray.Dataset\n",
    "```"
   ]
  },
  {
   "cell_type": "code",
   "execution_count": null,
   "id": "14ce4fa3-5008-454c-86b7-5019eb382fee",
   "metadata": {},
   "outputs": [],
   "source": [
    "dirpath = '../../goto2023/output/'\n",
    "ncfile = 'TokyoBay18_r16_crossed_0001_20s.nc'\n",
    "fvcom = Fvcom(dirpath=dirpath, ncfile=ncfile, utm2geo=True, zone=54, north=True, inverse=False)\n",
    "fvcom.ds"
   ]
  },
  {
   "cell_type": "markdown",
   "id": "d2b7266d-7136-4f11-a0ab-b55fa0a1ec33",
   "metadata": {},
   "source": [
    "## Extracting FVCOM time series depth from the surface `z_dfs` at node\n",
    "```Python\n",
    "node = fvcom.nearest_neighbor(lon, lat)  # (lon, lat) -> node\n",
    "fvcom.ds[\"z_dfs\"][:, siglay, node].sel(time=slice(start, end))  # xarray.DataArray[time, siglay, node]\n",
    "```"
   ]
  },
  {
   "cell_type": "code",
   "execution_count": null,
   "id": "733a1eaf-f9c0-4a5f-a067-007bc0dcc818",
   "metadata": {},
   "outputs": [],
   "source": [
    "node_mpos = fvcom.nearest_neighbor(mpos.lon, mpos.lat)\n",
    "print(f\"Node number = {node_mpos}\")"
   ]
  },
  {
   "cell_type": "code",
   "execution_count": null,
   "id": "3f17f10b-1048-452e-8598-c2dc37e111b0",
   "metadata": {},
   "outputs": [],
   "source": [
    "%%script false --no-raise-error\n",
    "## Editing locally if necessary\n",
    "siglay = 1  # 0: surface\n",
    "start = \"2020-01-01T00:00:00\"\n",
    "end = \"2020-12-31T23:00:00\""
   ]
  },
  {
   "cell_type": "code",
   "execution_count": null,
   "id": "19f2bcd3-98e1-4539-b06a-6a1f525c0cff",
   "metadata": {},
   "outputs": [],
   "source": [
    "fvcom.ds[\"z_dfs\"][:, siglay, node_mpos].sel(time=slice(start, end))"
   ]
  },
  {
   "cell_type": "code",
   "execution_count": null,
   "id": "9c9c994b-e4bc-4dad-8a9e-e55a79fdbdfe",
   "metadata": {},
   "outputs": [],
   "source": [
    "fvcom.ds[\"z_dfs\"][:, siglay, node_mpos].sel(time=slice(start, end)).hvplot()"
   ]
  },
  {
   "cell_type": "markdown",
   "id": "e1e8db8e-4bbf-49b1-b8e7-c90859c633ba",
   "metadata": {},
   "source": [
    "## Resampling by a specified time interval\n",
    "- The datetime of the FVCOM netcdf may not be hourly or a multiple thereof, but may be slightly off. So it is safe to resampling with interpolation.\n",
    "- Time index may be different between FVCOM netcdf and Mpos if the time index of Mpos contains that of FVCOM.\n",
    "```Python\n",
    "# Resampling by specifying 1 hour interval with linear interpolation\n",
    "fvcom.ds.resample(time='1H').interpolate('linear')\n",
    "```\n",
    "### Resampling by specifying a time origin\n",
    "- Starting at `'01:00:00'` rather than `'00:00:00'`\n",
    "```Python\n",
    "fvcom.ds.resample(time='1H', origin='01:00').interpolate(\"linear\")\n",
    "```\n",
    "### Resampling by specifying a `start` and `end` datetime\n",
    "```Python\n",
    "fvcom.ds.sel(time=slice(start, end)).resample(time='1H').interpolate('linear')\n",
    "```\n",
    "### Downsampling:\n",
    "- From `1H` To `4H` interval by slicing\n",
    "```Python\n",
    "fvcom.ds.sel(time=slice(start, end)).isel(datetime=slice(0, None, 4))\n",
    "```\n",
    "- To `4H` interval by resampling with taking mean.\n",
    "```Python                                     \n",
    "fvcom.ds.resample(time='4H').mean()\n",
    "```\n",
    "### Upsampling\n",
    "- From '4H` to `1H` interval by intapolation\n",
    "```Python\n",
    "fvcom.ds.resample(time='1H').asfreq().interpolate_na(dim='time', method='linear')\n",
    "# Quick plotting\n",
    "fvcom.ds.resample(time='1H').asfreq().interpolate_na(dim='time', method='linear').hvplot()\n",
    "```"
   ]
  },
  {
   "cell_type": "code",
   "execution_count": null,
   "id": "b6d122d1-71ef-4249-9745-6d659427d4e0",
   "metadata": {},
   "outputs": [],
   "source": [
    "fvcom.ds[\"z_dfs\"][:, siglay, node_mpos].sel(time=slice(start, end)).resample(time='1H').asfreq().interpolate_na(\n",
    "    dim='time', method='linear').hvplot()"
   ]
  },
  {
   "cell_type": "markdown",
   "id": "95ca92d3-1400-4884-90d3-f490de6a04c9",
   "metadata": {},
   "source": [
    "## FVCOM time series depth at (siglay, node) with resapled time interval and range"
   ]
  },
  {
   "cell_type": "code",
   "execution_count": null,
   "id": "7f5e06a7-8e13-46b4-8cb2-f986a6e7f8d9",
   "metadata": {},
   "outputs": [],
   "source": [
    "z_dfs_ser = fvcom.ds[\"z_dfs\"][:, siglay, node_mpos].sel(time=slice(start, end)).resample(time='1H').asfreq().interpolate_na(\n",
    "    dim='time', method='linear').to_series()\n",
    "z_dfs_ser"
   ]
  },
  {
   "cell_type": "markdown",
   "id": "a29db09b-9614-4645-9f90-6855b8b32f08",
   "metadata": {},
   "source": [
    "## Time series var comparison between FVCOM and Mpos\n",
    "Var names are defined in FVCOM netcdf like below:\n",
    "```\n",
    "temp: Temperature, salinity: Salinity\n",
    "```"
   ]
  },
  {
   "cell_type": "code",
   "execution_count": null,
   "id": "964fbf46-4aa8-41e6-95d6-0ff0153edf13",
   "metadata": {},
   "outputs": [],
   "source": [
    "%%script false --no-raise-error\n",
    "## Editing below if necessary\n",
    "var='temp'\n",
    "varname='Temperature'\n",
    "resample='1H'"
   ]
  },
  {
   "cell_type": "markdown",
   "id": "2c5d5bfe-56a0-4592-83f9-72114feea216",
   "metadata": {},
   "source": [
    "### FVCOM time series item at (siglay, node) with resampled time interval and range"
   ]
  },
  {
   "cell_type": "code",
   "execution_count": null,
   "id": "2d5d88b8-e5cb-4c25-9230-38495a170cf1",
   "metadata": {},
   "outputs": [],
   "source": [
    "%%script false --no-raise-error\n",
    "p_fvcom = fvcom.ds[var][:, siglay, node_mpos].sel(time=slice(start, end)).resample(time=resample).asfreq().interpolate_na(\n",
    "    dim='time', method='linear').hvplot(label='Computed')\n",
    "p_fvcom"
   ]
  },
  {
   "cell_type": "markdown",
   "id": "7731ef4d-033a-419c-9917-e8c045442bed",
   "metadata": {},
   "source": [
    "### Using class FvcomDataArray, FvcomPlotConfig, and FvcomPlotter"
   ]
  },
  {
   "cell_type": "code",
   "execution_count": null,
   "id": "ccd3b3cf-0fcf-413e-8893-969026ec64ee",
   "metadata": {},
   "outputs": [],
   "source": [
    "fvcom_data = FvcomDataArray(fvcom, var='temp', start=start, end=end, resample=resample)"
   ]
  },
  {
   "cell_type": "code",
   "execution_count": null,
   "id": "63522776-2668-4fd2-b1b9-51d76ed309a4",
   "metadata": {},
   "outputs": [],
   "source": [
    "fvcom_cfg = FvcomPlotConfig(width=800, height=300)\n",
    "fvcom_plot = FvcomPlotter(plot_config=fvcom_cfg, fvcom=fvcom_data)"
   ]
  },
  {
   "cell_type": "code",
   "execution_count": null,
   "id": "fff9048d-fc13-4413-b2e4-1e98363e697d",
   "metadata": {},
   "outputs": [],
   "source": [
    "fvcom_data.da[:, siglay, node_mpos].hvplot()"
   ]
  },
  {
   "cell_type": "code",
   "execution_count": null,
   "id": "6146ba98-5bf6-45b9-b3d3-9f2ae5160c1f",
   "metadata": {},
   "outputs": [],
   "source": [
    "p_fvcom = fvcom_plot.ts_hvplot(siglay=siglay, node=node_mpos, title='Kawasaki', ylim=(8, 30), label='Computed')\n",
    "p_fvcom"
   ]
  },
  {
   "cell_type": "markdown",
   "id": "542fc1f1-9100-4df3-abe5-8d08ec94f970",
   "metadata": {},
   "source": [
    "### Mpos time series item at the specified depth from the surface (z_dfs)\n",
    "```Python\n",
    "# Hide toolbar for html\n",
    "hvplot.save(plot.options(toolbar=None), 'test.html')\n",
    "```"
   ]
  },
  {
   "cell_type": "code",
   "execution_count": null,
   "id": "fd356455-3a48-456b-b3ce-26d23809947c",
   "metadata": {},
   "outputs": [],
   "source": [
    "# Time series of observation for a specified item corresponding to FVCOM depth time series\n",
    "p_mpos = mpos.interp_depth(var, z_dfs_ser, varname).hvplot(label='Measured')\n",
    "p_mpos"
   ]
  },
  {
   "cell_type": "markdown",
   "id": "5e69f9da-ee9d-44ed-954f-a66cf681144a",
   "metadata": {},
   "source": [
    "### Exporting html\n",
    "You may delete a toolbar by setting `toolbar=None` when exporting to html. The html file can be zoomed in to enhance resolution."
   ]
  },
  {
   "cell_type": "code",
   "execution_count": null,
   "id": "863501d7-e957-4b38-9aff-c65691860c5f",
   "metadata": {},
   "outputs": [],
   "source": [
    "plot = (p_fvcom * p_mpos).options(title='Temperature', legend_position='top_left')\n",
    "hvplot.save(plot.options(toolbar=None), 'mpos_fvcom.html')\n",
    "plot"
   ]
  },
  {
   "cell_type": "markdown",
   "id": "aa6a91f4-64a7-455f-a259-fbb069595f38",
   "metadata": {},
   "source": [
    "## Close netcdf files"
   ]
  },
  {
   "cell_type": "code",
   "execution_count": null,
   "id": "8543dee4-db20-46da-af80-325b5e42ac48",
   "metadata": {},
   "outputs": [],
   "source": [
    "%%script false --no-raise-error\n",
    "Mpos.close()\n",
    "Fvcom.close()"
   ]
  },
  {
   "cell_type": "code",
   "execution_count": null,
   "id": "cf5e3437-1d50-4f54-af4e-3a04c2cca5c0",
   "metadata": {},
   "outputs": [],
   "source": []
  }
 ],
 "metadata": {
  "kernelspec": {
   "display_name": "Python 3 (ipykernel)",
   "language": "python",
   "name": "python3"
  },
  "language_info": {
   "codemirror_mode": {
    "name": "ipython",
    "version": 3
   },
   "file_extension": ".py",
   "mimetype": "text/x-python",
   "name": "python",
   "nbconvert_exporter": "python",
   "pygments_lexer": "ipython3",
   "version": "3.12.8"
  },
  "widgets": {
   "application/vnd.jupyter.widget-state+json": {
    "state": {},
    "version_major": 2,
    "version_minor": 0
   }
  }
 },
 "nbformat": 4,
 "nbformat_minor": 5
}
