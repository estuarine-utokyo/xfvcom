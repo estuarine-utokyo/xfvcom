{
 "cells": [
  {
   "cell_type": "markdown",
   "id": "f561e046-5c09-443c-915c-c0488a1e5daa",
   "metadata": {},
   "source": [
    "# Time series comparison between FVCOM and MPOS\n",
    "**Author: Jun Sasaki, Coded on January 7, 2025, Updated on January 8, 2025 ([MIT License](https://opensource.org/licenses/MIT))**<br>\n",
    "Compare FVCOM output netcdf and Mpos data at a specified node/nele and siglay.\n",
    "- Suppose Mpos netCDF and FVCOM output netCDF are prepared.\n",
    "- FVCOM variables are defined at siglay. The depth at a specified siglay will change with time because of the change in the surface level.\n",
    "- Interpolate Mpos item values at the specified siglay in FVCOM to precisely compare them.\n",
    "\n",
    "## Methods\n",
    "1. Load the FVCOM output netcdf file into xfvcom, specify the node or nele value for the horizontal coordinate in the scalar and the siglay or siglev values for the vertical coordinate in the list, extract the corresponding parts, and plot them.\n",
    "2. Load the Mpos observation data and extract the data closest to the datetime and depth corresponding to 1. In doing so, set the allowable error and extract the data.\n",
    "3. Extract the common parts of 1 and 2.\n",
    "4. Use 3 to evaluate the accuracy of the calculation results."
   ]
  },
  {
   "cell_type": "code",
   "execution_count": null,
   "id": "3321e27c-996c-4347-9780-e1ffc591221e",
   "metadata": {},
   "outputs": [],
   "source": [
    "from xfvcom import FvcomDataLoader, FvcomAnalyzer, FvcomPlotConfig, FvcomPlotter\n",
    "from xmpos import MposDataLoader, MposAnalyzer, MposPlotConfig, MposPlotter\n",
    "import matplotlib.pyplot as plt\n",
    "import numpy as np\n",
    "import xarray as xr\n",
    "import pandas as pd\n",
    "import hvplot.xarray\n",
    "import panel.widgets as pnw\n",
    "import holoviews as hv\n",
    "## Global parameters\n",
    "width=800; height=200"
   ]
  },
  {
   "cell_type": "markdown",
   "id": "3bc96950-6ad1-4f29-8c80-88186ffcf78b",
   "metadata": {},
   "source": [
    "### Load FVCOM output netcdf into xarray.Dataset"
   ]
  },
  {
   "cell_type": "code",
   "execution_count": null,
   "id": "aeb1008c-e613-43b6-a1c9-a3a7258e3116",
   "metadata": {},
   "outputs": [],
   "source": [
    "base_path = \"~/Github/TB-FVCOM/goto2023/output\"\n",
    "ncfiles = [\"TokyoBay18_r16_crossed_0001.nc\"]\n",
    "index_ncfile=0\n",
    "fvcom = FvcomDataLoader(base_path=base_path, ncfile=ncfiles[index_ncfile], time_tolerance=5)\n",
    "ds_fvcom = fvcom.ds\n",
    "ds_fvcom"
   ]
  },
  {
   "cell_type": "markdown",
   "id": "47fe3509-3b5c-4818-8d1a-1879b2d443e6",
   "metadata": {},
   "source": [
    "### Select a specified `node` of MPOS\n",
    "Note: `nele` is unsupported."
   ]
  },
  {
   "cell_type": "code",
   "execution_count": null,
   "id": "90e9a3ec-fbc1-4bae-a4bf-755b6d408e40",
   "metadata": {},
   "outputs": [],
   "source": [
    "bl_stns = [(140.023333, 35.610833),  # 01kemigawa\n",
    "           (139.833889, 35.490278),  # 02kawasaki\n",
    "           (139.941667, 35.640000),  # 03urayasu\n",
    "           (139.954167, 35.536944)]  # 04chiba1gou\n",
    "stns = [\"01kemigawa\", \"02kawasaki\", \"03urayasu\", \"04chiba1gou\"]\n",
    "index_stn = 0\n",
    "stn = stns[index_stn]\n",
    "lon, lat = bl_stns[index_stn]\n",
    "f_a = FvcomAnalyzer(ds_fvcom)\n",
    "node = f_a.nearest_neighbor(lon, lat, node=True, distances=False)\n",
    "print(f\"node={node} for ({lon}, {lat})\")"
   ]
  },
  {
   "cell_type": "markdown",
   "id": "eddac50b-0731-4165-b9d5-217378be8a88",
   "metadata": {},
   "source": [
    "### Slice `ds_fvcom` with specifying `var_name` and siglay and plot its time-series.\n",
    "First, quick plot interactively."
   ]
  },
  {
   "cell_type": "code",
   "execution_count": null,
   "id": "31613ae5-ea19-4dbf-b8b4-3d612c1ef867",
   "metadata": {},
   "outputs": [],
   "source": [
    "var_name = 'temp'\n",
    "siglay_slider =  pnw.IntSlider(name='siglay', start=0, end=len(ds_fvcom.siglay) - 1, value=0)\n",
    "ds_fvcom[var_name].isel(node=node).interactive.isel(siglay=siglay_slider).hvplot().opts(width=width, height=height)"
   ]
  },
  {
   "cell_type": "markdown",
   "id": "726a13d9-6e97-4bec-bdca-8561d733adfe",
   "metadata": {},
   "source": [
    "Multiple siglays can be plotted by defining a list of `siglays` and `colors`."
   ]
  },
  {
   "cell_type": "code",
   "execution_count": null,
   "id": "939babb3-eefb-4581-b6b9-85b2e8a6a2e9",
   "metadata": {},
   "outputs": [],
   "source": [
    "start=None; end=None\n",
    "siglays=[10, 20, 29]  # siglay values\n",
    "for siglay in siglays:\n",
    "    print(f\"siglay={siglay}: {ds_fvcom.z_dfs[:,siglay,node].min().item()} <= z <= {ds_fvcom.z_dfs[:,siglay,node].max().item()} \")\n",
    "colors = ['blue', 'black', 'red']  # Line colors\n",
    "plot_config = FvcomPlotConfig(width=8, height=2)\n",
    "plotter = FvcomPlotter(ds_fvcom, plot_config)\n",
    "save_path = f\"fc_ts_{var_name}.png\"\n",
    "fig, ax = plt.subplots(1, 1, figsize=(8, 2)) \n",
    "for i, siglay in enumerate(siglays):\n",
    "    if i < len(siglays) - 1:\n",
    "        ax=plotter.plot_timeseries(var_name, log=False, index=node, k=siglay, start=start, end=end, ax=ax, color=colors[i], alpha=0.7)\n",
    "    else:\n",
    "        plotter.plot_timeseries(var_name, log=False, index=node, k=siglay, start=start, end=end, ax=ax, color=colors[i], alpha=0.7, save_path=save_path)"
   ]
  },
  {
   "cell_type": "markdown",
   "id": "1bcc12c2-7d56-4f85-8100-b447036e2095",
   "metadata": {},
   "source": [
    "### Extract time-series depth from the surface, `z_dfs`, at the specified `node` and `siglay`."
   ]
  },
  {
   "cell_type": "code",
   "execution_count": null,
   "id": "82c94944-c980-4883-b176-0cdfb6e3bc0d",
   "metadata": {},
   "outputs": [],
   "source": [
    "fvcom_z_dfs=[]\n",
    "for i, siglay in enumerate(siglays):\n",
    "    fvcom_z_dfs.append(ds_fvcom.z_dfs[:,siglay,node])\n",
    "    \n",
    "combined_plot = fvcom_z_dfs[0].hvplot(label=f\"siglay={siglays[0]}\")\n",
    "if len(fvcom_z_dfs) >1:\n",
    "    for i, da in enumerate(fvcom_z_dfs[1:]):\n",
    "        combined_plot *= da.hvplot(label=f\"siglay={siglays[i+1]}\")\n",
    "combined_plot.opts(width=width, height=height, legend_position='right', invert_yaxis=True)"
   ]
  },
  {
   "cell_type": "markdown",
   "id": "a3c87d03-ab62-489a-b9c4-42c73c681d2e",
   "metadata": {},
   "source": [
    "## Load vertically structured Mpos."
   ]
  },
  {
   "cell_type": "code",
   "execution_count": null,
   "id": "a698c3ee-e425-4353-a71b-c3c2889812b5",
   "metadata": {},
   "outputs": [],
   "source": [
    "base_path = '~/Github/xmpos/data/MLIT_edited_Mpos/nc_structured/'\n",
    "# base_path = '~/Github/TB-FVCOM/data/MLIT_edited_Mpos/nc/'\n",
    "# kemigawa = loader.load_nc(stn='01kemigawa', start=2010, end=2020, dask=False)\n",
    "loader = MposDataLoader(base_path=base_path)\n",
    "ds_mpos = loader.load_structured_nc(stn=stn, start=2015, end=2020, dask=False)\n",
    "#print(ds_mpos.temp[30000:,5].values)\n",
    "#print(ds_mpos.z[5].item())"
   ]
  },
  {
   "cell_type": "markdown",
   "id": "be2cc3b6-c9f1-4cc2-a6ea-d0feeea73cb5",
   "metadata": {},
   "source": [
    "### Plot time-series of vertical profile"
   ]
  },
  {
   "cell_type": "code",
   "execution_count": null,
   "id": "bc09e96a-07df-4f04-95c4-e322b59546f3",
   "metadata": {},
   "outputs": [],
   "source": [
    "time_slice=(pd.Timestamp('2020-01-01'), pd.Timestamp('2020-01-15'))\n",
    "mpos_config = MposPlotConfig(figsize=(8, 2), dpi=72, cmap=\"jet\", levels=21)\n",
    "plotter = MposPlotter(ds_mpos, config=mpos_config)\n",
    "# Create the contour plot\n",
    "fig, ax, cbar = plotter.plot_contour(\n",
    "    varname=var_name, xlim=('2015-01-01', '2021-02-01'), ylim=(0, 9), clim=(10, 13),\n",
    "    stn=stn, rolling=False, window=25\n",
    ")\n",
    "# Adjust the x-axis and add more annotations\n",
    "#ax.set_xlim(pd.Timestamp('2020-01-01'), pd.Timestamp('2020-01-15'))\n",
    "ax.set_xlim(time_slice)\n",
    "#ax.set_title(\"Adjusted DO at Kemigawa\")\n",
    "plt.show()"
   ]
  },
  {
   "cell_type": "markdown",
   "id": "f57fb9d6-68df-404d-9c5d-6c18bdbd56ad",
   "metadata": {},
   "source": [
    "### Time-series interactive plot at each z "
   ]
  },
  {
   "cell_type": "code",
   "execution_count": null,
   "id": "f50b65fe-98a8-4d14-8a44-07ad744a71ce",
   "metadata": {},
   "outputs": [],
   "source": [
    "z_slider =  pnw.IntSlider(name='z', start=0, end=len(ds_mpos.z) - 1, value=0)\n",
    "ds_mpos[var_name].sel(time=slice(time_slice[0], time_slice[1])).interactive.isel(z=z_slider).hvplot().opts(width=700, height=height)"
   ]
  },
  {
   "cell_type": "markdown",
   "id": "66216814-d916-4f59-9275-47d0335159bc",
   "metadata": {},
   "source": [
    "### Interpolate ds_mpos at time-series depth of FVCOM `z_dfs` with interactive plot\n",
    "`da_mpos_interp_list` is a list of DataArrays."
   ]
  },
  {
   "cell_type": "code",
   "execution_count": null,
   "id": "ff4d505a-9f65-4699-b4e3-707d7b46844a",
   "metadata": {},
   "outputs": [],
   "source": [
    "hv.renderer('bokeh').theme = 'caliber'\n",
    "width=800; height=200\n",
    "size=20; alpha=0.5; marker='o'\n",
    "\n",
    "mpos_analyzer = MposAnalyzer(ds_mpos)\n",
    "\n",
    "da_mpos_interp_list = []\n",
    "for i, siglay in enumerate(siglays):\n",
    "    da_mpos_interp_list.append(mpos_analyzer.interpolate_timeseries_by_depth(var_name, fvcom_z_dfs[i]))\n",
    "\n",
    "combined_plot = da_mpos_interp_list[0].hvplot.line(alpha=alpha, label=f\"siglay={siglays[0]}\") \\\n",
    "              * da_mpos_interp_list[0].hvplot.scatter(marker=marker, size=size, alpha=alpha)\n",
    "if len(da_mpos_interp_list) >1:\n",
    "    for i, da in enumerate(da_mpos_interp_list[1:]):\n",
    "        combined_plot *= da.hvplot.line(alpha=alpha, label=f\"siglay={siglays[i+1]}\")\n",
    "        combined_plot *= da.hvplot.scatter(marker=marker, size=size, alpha=alpha)\n",
    "combined_plot.opts(width=width, height=height, legend_position='right')\n",
    "hvplot.save(combined_plot.options(toolbar=None), f\"MPOS {var_name} at siglays={siglays}.html\")\n",
    "combined_plot"
   ]
  },
  {
   "cell_type": "markdown",
   "id": "c8010723-a4cf-4c77-a952-e5f1a730a4d0",
   "metadata": {},
   "source": [
    "### Compare ds_fvcom[var_name] and MPOS\n",
    "1. `da_mpos_interp_list` is a list of MPOS DataArrays. `da_fvcom = ds_fvcom[var_name].isel(node=node, siglay=siglay))` is a DataArray of FVCOM. Its list is defined as `da_fvcom_list`.\n",
    "2. When either of the two DataArrays contains missing values, a `common_mask` is created to mark those time values as missing.\n",
    "3. Apply `common_mask` to both DataArrays and create DataArray lists of `da_fvcom_cleaned_list` and `da_mpos_interp_cleaned_list`."
   ]
  },
  {
   "cell_type": "code",
   "execution_count": null,
   "id": "dcc83161-aaca-46b5-9bbc-e441a04ad1a2",
   "metadata": {},
   "outputs": [],
   "source": [
    "da_fvcom_list = []\n",
    "for i in range(len(siglays)):\n",
    "    da = ds_fvcom[var_name].isel(node=node, siglay=siglays[i])\n",
    "    da_fvcom_list.append(da)\n",
    "common_mask = []\n",
    "da_mpos_interp_cleaned_list = []\n",
    "da_fvcom_cleaned_list = []\n",
    "for i in range(len(siglays)):\n",
    "    common_mask.append(~np.isnan(da_mpos_interp_list[i]) & ~np.isnan(da_fvcom_list[i]))\n",
    "    da_mpos_interp_cleaned_list.append(da_mpos_interp_list[i].where(common_mask[i]))\n",
    "    da_fvcom_cleaned_list.append(da_fvcom_list[i].where(common_mask[i]))\n",
    "\n",
    "combined_plot = da_mpos_interp_cleaned_list[0].hvplot.line(alpha=alpha, label=f\"siglay={siglays[0]}\") \\\n",
    "              * da_fvcom_cleaned_list[0].hvplot.scatter(marker=marker, size=size, alpha=alpha)\n",
    "\n",
    "if len(siglays) >1:\n",
    "    for i in range(1, len(siglays)):\n",
    "        combined_plot *= da_mpos_interp_cleaned_list[i].hvplot.line(alpha=alpha, label=f\"siglay={siglays[i]}\")\n",
    "        combined_plot *= da_fvcom_cleaned_list[i].hvplot.scatter(marker=marker, size=size, alpha=alpha)\n",
    "\n",
    "combined_plot.opts(width=width, height=height, legend_position='right')\n",
    "hvplot.save(combined_plot.options(toolbar=None), f\"FVCOM-MPOS {var_name} at siglays={siglays}.html\")\n",
    "combined_plot\n"
   ]
  },
  {
   "cell_type": "code",
   "execution_count": null,
   "id": "9128d7ef-1947-4632-8ade-863fbe94a1b8",
   "metadata": {},
   "outputs": [],
   "source": []
  }
 ],
 "metadata": {
  "kernelspec": {
   "display_name": "Python 3 (ipykernel)",
   "language": "python",
   "name": "python3"
  },
  "language_info": {
   "codemirror_mode": {
    "name": "ipython",
    "version": 3
   },
   "file_extension": ".py",
   "mimetype": "text/x-python",
   "name": "python",
   "nbconvert_exporter": "python",
   "pygments_lexer": "ipython3",
   "version": "3.12.8"
  },
  "widgets": {
   "application/vnd.jupyter.widget-state+json": {
    "state": {},
    "version_major": 2,
    "version_minor": 0
   }
  }
 },
 "nbformat": 4,
 "nbformat_minor": 5
}
