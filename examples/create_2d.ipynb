{
 "cells": [
  {
   "cell_type": "markdown",
   "id": "99c8a851-57dc-46c1-8639-79a9fe5f311d",
   "metadata": {},
   "source": [
    "# Create 2D horizontal plots\n",
    "**Author: Jun Sasaki  Coded on 2025-01-13  Updated on 2025-04-27**<br>\n",
    "Create a 2D horizontal contour plots. Customization can be made by defining `post_process_func`, or `post_process_func=None` (default) without customization. \n",
    "\n",
    "```Python\n",
    "def post_process_func(ax, da, time):\n",
    "    \"\"\"\n",
    "    Example of post_process_func for customizing plot (e.g., add text or markers)\n",
    "    \n",
    "    Parameters:\n",
    "    - ax: matplotlib axis.\n",
    "    - da: DataArray (optional and used for dynamic customizing).\n",
    "    - time: Frame time (optional and used for dynamic customizing).\n",
    "    \"\"\"\n",
    "```"
   ]
  },
  {
   "cell_type": "code",
   "execution_count": null,
   "id": "fd523fff-08bd-424b-9c7b-90fbc6569089",
   "metadata": {},
   "outputs": [],
   "source": [
    "import os\n",
    "import numpy as np\n",
    "import pandas as pd\n",
    "from xfvcom import FvcomDataLoader, FvcomPlotConfig, FvcomPlotter\n",
    "from xfvcom.helpers import FrameGenerator\n",
    "from xfvcom.helpers_utils import apply_xlim_ylim\n",
    "import cartopy.crs as ccrs\n",
    "import matplotlib.pyplot as plt\n",
    "import matplotlib.ticker as ticker\n",
    "import matplotlib.tri as tri\n",
    "\n",
    "from IPython.core.magic import register_cell_magic\n",
    "@register_cell_magic\n",
    "def skip(line, cell):\n",
    "    print(\"This cell is skipped.\")\n",
    "\n",
    "png_dir = \"PNG\"\n",
    "os.makedirs(png_dir, exist_ok=True)"
   ]
  },
  {
   "cell_type": "markdown",
   "id": "50e8f7b5-33d5-4242-8149-a817e1e8dd98",
   "metadata": {},
   "source": [
    "## Prepare FvcomDataLoader instance of `fvcom` using FVCOM output netcdf.\n",
    "Dataset is `fvcom.ds`."
   ]
  },
  {
   "cell_type": "code",
   "execution_count": null,
   "id": "b1eb75d2-400e-4caf-912d-38d6b4ca242f",
   "metadata": {},
   "outputs": [],
   "source": [
    "# Loading FVCOM output netcdf\n",
    "base_path = \"~/Github/TB-FVCOM/goto2023\"\n",
    "#base_path =  \"/home/pj24001722/ku40003295/Ersem_TokyoBay/output_5times\"\n",
    "base_path = os.path.expanduser(base_path)\n",
    "# List of netcdf files convenient to switch to another netcdf by specifying its index\n",
    "ncfiles = [\"TokyoBay18_r16_crossed_0001.nc\"]\n",
    "#ncfiles = [\"tb_0001.nc\"]\n",
    "index_ncfile = 0\n",
    "ncfile_path = f\"{base_path}/output/{ncfiles[index_ncfile]}\"\n",
    "# Loading FVCOM input open boundary node file of tst_obc.dat.\n",
    "obcfile_path =  f\"{base_path}/input/TokyoBay18_obc.dat\"\n",
    "# Create an instance of FvcomDataLoader where fvcom.ds is a Dataset\n",
    "fvcom = FvcomDataLoader(ncfile_path=ncfile_path, obcfile_path=obcfile_path, time_tolerance=5)\n",
    "cfg = FvcomPlotConfig(figsize=(6, 8))\n",
    "plotter = FvcomPlotter(fvcom.ds, cfg)"
   ]
  },
  {
   "cell_type": "code",
   "execution_count": null,
   "id": "dc48a4c0-0412-4449-a15a-1bf7bc823929",
   "metadata": {},
   "outputs": [],
   "source": [
    "print(fvcom.ds.lon.values)\n",
    "fvcom.ds"
   ]
  },
  {
   "cell_type": "markdown",
   "id": "f4674b4e-1168-4f07-a1b8-5c0bb4587fbd",
   "metadata": {},
   "source": [
    "## Bathymetry and mesh plot\n",
    "Plots can be modified by applying `post_process_func` (optional). "
   ]
  },
  {
   "cell_type": "code",
   "execution_count": null,
   "id": "80330676-32cb-4ad1-aeff-741d1de74889",
   "metadata": {},
   "outputs": [],
   "source": [
    "def custom_plot_bathymetry(ax):\n",
    "    \"\"\"\n",
    "    Customizing the plot by updating the ax\n",
    "\n",
    "    Parameters:\n",
    "    - ax: matplotlib axis\n",
    "    \"\"\"\n",
    "\n",
    "    # Further customization can be added.\n",
    "    ax.set_title(\"FVCOM bathymetry and mesh\")\n",
    "    transform=ccrs.PlateCarree()\n",
    "    lon = fvcom.ds.lon.values\n",
    "    lat = fvcom.ds.lat.values\n",
    "\n",
    "    # Set xlim and ylim manually.\n",
    "    xlim = (\"139:40:00\", \"140:00:00\")\n",
    "    ylim = (\"35:12:00\", \"35:50\")\n",
    "    xlim = (139.9, 140.0)\n",
    "    ylim = (35.6, 35.7)\n",
    "    #xlim = (139.7, 140.1)\n",
    "    #ylim = (35, 35.6)\n",
    "\n",
    "    apply_xlim_ylim(ax, xlim, ylim, is_cartesian=False)\n",
    "    # Get the current map region to clip texts outside the map\n",
    "    xmin, xmax, ymin, ymax = ax.get_extent(crs=ccrs.PlateCarree())\n",
    "    for n in range(len(fvcom.ds.lon)):\n",
    "        # No plot outide the map\n",
    "        if lon[n] < xmin or lon[n] > xmax or lat[n] < ymin or lat[n] > ymax:\n",
    "            continue\n",
    "        ax.text(lon[n], lat[n], str(n+1), fontsize=10, color='yellow', ha='center', va='bottom',\n",
    "                transform=transform, clip_on=True)\n",
    "        ax.plot(lon[n], lat[n], 'ro', transform=transform, clip_on=True)  # Marker plot at (lon, lat)\n",
    "\n",
    "# Specify bathymetry \"h\"\n",
    "var_name = \"h\"\n",
    "da = plotter.ds[var_name]\n",
    "da = None # only mesh plot\n",
    "\n",
    "# Set plot_kwargs for `ax.tricontourf()` kwargs, including `**kwargs`.\n",
    "vmin = 0; vmax = 500  # = None for automated\n",
    "levels = [3, 4, 5, 6, 7, 8, 9, 10, 12, 14, 16, 18, 20, 25, 30, 35, 40, 50, 100, 200, 300, 400, 500]\n",
    "# levels = 20\n",
    "cmap = \"jet\"  # \"jet\", \"Blues\"\n",
    "plot_kwargs = {\"verbose\": False, \"vmin\": vmin, \"vmax\": vmax, \"levels\": levels,\n",
    "             \"cmap\": cmap, \"with_mesh\": True, \"coastlines\": True, \"obclines\": True,\n",
    "             \"plot_grid\": False, \"add_tiles\": True, \"color\": \"yellow\", \"coastline_color\": \"yellow\"}\n",
    "# plot_kwargs = {} # Default plot\n",
    "save_path = os.path.join(png_dir, f\"{var_name}.png\")\n",
    "\n",
    "ax = FrameGenerator.plot_data(da=da, plotter=plotter, post_process_func=custom_plot_bathymetry, plot_kwargs=plot_kwargs)\n",
    "fig=ax.figure\n",
    "ax.set_extent([139.9, 140.0, 35.6, 35.7], crs=ccrs.PlateCarree())\n",
    "fig.savefig(save_path, bbox_inches='tight', dpi=300)"
   ]
  },
  {
   "cell_type": "markdown",
   "id": "72cbb5c0-1b8c-4811-8f4d-e2053f5f2140",
   "metadata": {},
   "source": [
    "## Create 2D plot with `post_process_func`.\n",
    "- 2-D horizontal plot with customization by updating `ax` `if post_process_func is not None`."
   ]
  },
  {
   "cell_type": "code",
   "execution_count": null,
   "id": "7ae7b6de-2b39-44a2-937a-f815a587f9cd",
   "metadata": {},
   "outputs": [],
   "source": [
    "def static_custom_plot(ax):\n",
    "    \"\"\"\n",
    "    Customizing plot by updating ax\n",
    "\n",
    "    Parameters:\n",
    "    - ax: matplotlib axis\n",
    "    \"\"\"\n",
    "\n",
    "    # Further customization can be added.\n",
    "    ax.set_title(\"Title with Custom Plot\")\n",
    "\n",
    "def dynamic_custom_plot(ax, da, time):\n",
    "    \"\"\"\n",
    "    Plot the corresponding datetime at each frame\n",
    "\n",
    "    Parameters:\n",
    "    - ax: matplotib axis.\n",
    "    - da: DataArray.\n",
    "    - time: Frame time.    \n",
    "    \"\"\"\n",
    "    datetime = pd.Timestamp(da.time.item()).strftime('%Y-%m-%d %H:%M:%S')\n",
    "    ax.set_title(f\"Time: {datetime}\")\n",
    "\n",
    "# Specify var_name and siglay if any\n",
    "var_name = \"salinity\"\n",
    "time = 20\n",
    "siglay = 0\n",
    "da = plotter.ds[var_name][:,siglay,:] # time must be included in da as reusing a tool for animation.\n",
    "time_str = fvcom.ds.time.isel(time=time).values\n",
    "time_str = pd.to_datetime(time_str).strftime(\"%Y%m%d\")\n",
    "# Set plot_kwargs for `ax.tricontourf(**kwargs)`.\n",
    "plot_kwargs={\"verbose\": False, \"vmin\": 10, \"vmax\": 20, \"levels\": [9.5, 10, 10.5, 11, 11.5, 12, 12.5, 13, 13.5, 14, 15, 16, 17, 18, 19, 20]}\n",
    "plot_kwargs={\"verbose\": False, \"vmin\": 28, \"vmax\": 34, \"levels\": 20, \"cmap\": \"jet\"}\n",
    "plot_kwargs={\"verbose\": False, \"vmin\": 28, \"vmax\": 34, \"levels\": 20, \"cmap\": \"Blues\", \"with_mesh\": False, \"coastlines\": True, \"obclines\": True,\n",
    "             \"plot_grid\": True, \"add_tiles\": True}\n",
    "#plot_kwargs={}\n",
    "save_path = os.path.join(png_dir, f\"{var_name}_{time_str}.png\")\n",
    "\n",
    "ax = FrameGenerator.plot_data(da=da, time=time, plotter=plotter,\n",
    "    save_path=None, post_process_func=dynamic_custom_plot, plot_kwargs=plot_kwargs)\n",
    "fig=ax.figure\n",
    "fig.savefig(\"test10.png\")"
   ]
  },
  {
   "cell_type": "markdown",
   "id": "eec1464b-249c-41cd-99dc-1a5f744bf8d3",
   "metadata": {},
   "source": [
    "### Specify xlim and ylim\n",
    "Suppose `fvcom` and `plotter` instances, `var_name`, `siglay`, `time`, and `save_path` are prepared above."
   ]
  },
  {
   "cell_type": "code",
   "execution_count": null,
   "id": "fc28870a-40b6-491d-8d74-499d34763acf",
   "metadata": {},
   "outputs": [],
   "source": [
    "def custom_plot(ax, da, time):\n",
    "    \"\"\"\n",
    "    Plot the corresponding datetime at each frame and set xlim and ylim\n",
    "\n",
    "    Parameters:\n",
    "    - ax: matplotib axis.\n",
    "    - da: DataArray.\n",
    "    - time: Frame time.\n",
    "    \"\"\"\n",
    "\n",
    "    # Put datetime text.\n",
    "    datetime = pd.Timestamp(da.time.item()).strftime('%Y-%m-%d %H:%M:%S')\n",
    "    ax.set_title(f\"Time: {datetime}\")\n",
    "\n",
    "    # Set xlim and ylim manually.\n",
    "    xlim = (\"139:40:00\", \"140:00:00\")\n",
    "    ylim = (\"35:12:00\", \"35:50\")\n",
    "    #xlim = (139.7, 140.1)\n",
    "    #ylim = (35, 35.6)\n",
    "\n",
    "    apply_xlim_ylim(ax, xlim, ylim, is_cartesian=False)\n",
    "\n",
    "# Set plot_kwargs for `ax.tricontourf(**kwargs)`.\n",
    "plot_kwargs={\"verbose\": False, \"vmin\": 10, \"vmax\": 20, \"levels\": [9.5, 10, 10.5, 11, 11.5, 12, 12.5, 13, 13.5, 14, 15, 16, 17, 18, 19, 20]}\n",
    "plot_kwargs={\"verbose\": False, \"vmin\": 28, \"vmax\": 34, \"levels\": 20, \"cmap\": \"jet\", \"with_mesh\": True, \"coastlines\": True}\n",
    "\n",
    "FrameGenerator.plot_data(da=da, time=time, plotter=plotter,\n",
    "    save_path=save_path, post_process_func=custom_plot, plot_kwargs=plot_kwargs)"
   ]
  },
  {
   "cell_type": "code",
   "execution_count": null,
   "id": "a16ff890-56a2-4409-a767-dd5b9dfd0ecb",
   "metadata": {},
   "outputs": [],
   "source": []
  }
 ],
 "metadata": {
  "kernelspec": {
   "display_name": "Python 3 (ipykernel)",
   "language": "python",
   "name": "python3"
  },
  "language_info": {
   "codemirror_mode": {
    "name": "ipython",
    "version": 3
   },
   "file_extension": ".py",
   "mimetype": "text/x-python",
   "name": "python",
   "nbconvert_exporter": "python",
   "pygments_lexer": "ipython3",
   "version": "3.12.8"
  },
  "widgets": {
   "application/vnd.jupyter.widget-state+json": {
    "state": {},
    "version_major": 2,
    "version_minor": 0
   }
  }
 },
 "nbformat": 4,
 "nbformat_minor": 5
}
