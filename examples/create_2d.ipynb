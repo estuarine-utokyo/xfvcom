{
 "cells": [
  {
   "cell_type": "markdown",
   "id": "99c8a851-57dc-46c1-8639-79a9fe5f311d",
   "metadata": {},
   "source": [
    "# Create 2D horizontal plots\n",
    "**Author: Jun Sasaki  Coded on 2025-01-13  Updated on 2025-01-14**<br>\n",
    "Create a 2D horizontal contour plots. Customization can be made by defining `post_process_func`, or `post_process_func=None` without customization. \n",
    "\n",
    "```Python\n",
    "def post_process_func(ax, da, time):\n",
    "    \"\"\"\n",
    "    Example of post_process_func for customizing plot (e.g., add text or markers)\n",
    "    \n",
    "    Parameters:\n",
    "    - ax: matplotlib axis.\n",
    "    - da: DataArray (optional and used for dynamic customizing).\n",
    "    - time: Frame time (optional and used for dynamic customizing).\n",
    "    \"\"\"\n",
    "```"
   ]
  },
  {
   "cell_type": "code",
   "execution_count": null,
   "id": "fd523fff-08bd-424b-9c7b-90fbc6569089",
   "metadata": {},
   "outputs": [],
   "source": [
    "import os\n",
    "import numpy as np\n",
    "import pandas as pd\n",
    "from xfvcom import FvcomDataLoader, FvcomPlotConfig, FvcomPlotter\n",
    "from xfvcom.helpers import FrameGenerator\n",
    "import matplotlib.pyplot as plt\n",
    "import matplotlib.ticker as ticker\n",
    "import matplotlib.tri as tri"
   ]
  },
  {
   "cell_type": "markdown",
   "id": "50e8f7b5-33d5-4242-8149-a817e1e8dd98",
   "metadata": {},
   "source": [
    "### Prepare FvcomDataLoader instance of `fvcom` using FVCOM output netcdf.\n",
    "Dataset is `fvcom.ds`."
   ]
  },
  {
   "cell_type": "code",
   "execution_count": null,
   "id": "b1eb75d2-400e-4caf-912d-38d6b4ca242f",
   "metadata": {},
   "outputs": [],
   "source": [
    "# Loading FVCOM output netcdf\n",
    "output_dir = \"./\"\n",
    "output_dir = os.path.expanduser(output_dir)\n",
    "if not os.path.exists(output_dir):\n",
    "    os.makedirs(output_dir)\n",
    "base_path = \"~/Github/TB-FVCOM/goto2023\"\n",
    "base_path = os.path.expanduser(base_path)\n",
    "# List of netcdf files convenient to switch to another netcdf by specifying its index\n",
    "ncfiles = [\"TokyoBay18_r16_crossed_0001.nc\"]\n",
    "index_ncfile = 0\n",
    "obcfile_path =  f\"{base_path}/input/TokyoBay18_obc.dat\"\n",
    "# Create an instance of FvcomDataLoader where fvcom.ds is a Dataset\n",
    "fvcom = FvcomDataLoader(base_path=f\"{base_path}/output\", ncfile=ncfiles[index_ncfile], obcfile_path=obcfile_path, time_tolerance=5)\n",
    "cfg = FvcomPlotConfig(figsize=(6, 8))\n",
    "plotter = FvcomPlotter(fvcom.ds, cfg)\n",
    "print(fvcom.ds.nv_ccw)\n",
    "print(fvcom.ds.nv)\n",
    "# Prepare for coastlines and open boundary lines.\n",
    "#nv = fvcom.ds.nv_ucw.values\n",
    "#triang = tri.Triangulation(x, y, triangles=nv)\n",
    "#nbe = np.array([[nv[n, j], nv[n, (j+2)%3]] for n in range(len(triang.neighbors)) for j in range(3) if triang.neighbors[n,j] == -1])\n",
    "#obc_file =  f\"{base_path}/input/TokyoBay18_obc.dat\"\n",
    "#obcfile_path =  f\"{base_path}/input/TokyoBay18_obc.dat\"\n",
    "if os.path.isfile(obcfile_path):\n",
    "    df = pd.read_csv(obcfile_path, header=None, skiprows=1, delim_whitespace=True)\n",
    "else:\n",
    "    print(f\"{obc_file} does not exist\")\n",
    "# -1 because index in FVCOM starts from 1 while from 0 in Python\n",
    "node_bc = df.iloc[:,1].values - 1"
   ]
  },
  {
   "cell_type": "code",
   "execution_count": null,
   "id": "f5beef6e-dde2-4eae-a406-3ff2aa7914dd",
   "metadata": {},
   "outputs": [],
   "source": [
    "node_bc"
   ]
  },
  {
   "cell_type": "code",
   "execution_count": null,
   "id": "07c68d38-e36b-4994-a2c4-ca3de5a726ca",
   "metadata": {},
   "outputs": [],
   "source": [
    "x = fvcom.ds.x\n",
    "y = fvcom.ds.y\n",
    "nv = fvcom.ds.nv.T - 1\n",
    "#nv = fvcom.ds.nv_ucw.values\n",
    "triang = tri.Triangulation(x, y, triangles=nv)\n",
    "# FVCOMでは時計回りに定義されているので，matplotlib.triの仕様である反時計回りに変更する\n",
    "nv = fvcom.ds.nv_ccw.values\n",
    "nbe = np.array([[nv[n, j], nv[n, (j+2)%3]] for n in range(len(triang.neighbors)) for j in range(3) if triang.neighbors[n,j] == -1])\n",
    "fig, ax = plt.subplots()\n",
    "plt.gca().set_aspect('equal') ### Aspect ratio\n",
    "plt.gca().patch.set_facecolor('0.8') ### Background color\n",
    "# Plot triangular grids\n",
    "ax.triplot(triang, color='b', linewidth=0.1)\n",
    "# Plot boundary lines (solid and open)\n",
    "for m in range(len(nbe)):\n",
    "    ax.plot(x[nbe[m,:]], y[nbe[m,:]], color = 'r', linewidth = 0.5)\n",
    "# Plot open boundary lines\n",
    "ax.plot(x[node_bc[:]], y[node_bc[:]], color = 'b', linewidth = 1)\n",
    "# Format x-axis and y-axis\n",
    "xmin,xmax,ymin,ymax=375000, 420000, 3870000, 3952000\n",
    "# xmin,xmax,ymin,ymax=-20000,25000,-50000,-20000 # Set range in m\n",
    "#xmin,xmax,ymin,ymax=-20000,25000,-90000,-20000 # Set range in m\n",
    "#xmin,xmax,ymin,ymax=-20000,25000,-90000,-20000 # Set range in m\n",
    "\n",
    "ax.set_xlim(xmin, xmax); ax.set_ylim(ymin, ymax)\n",
    "ax.xaxis.set_major_locator(ticker.MultipleLocator(10000))  # Set x major tick interval in m\n",
    "ax.xaxis.set_minor_locator(ticker.MultipleLocator(2000))   # Set x minor tick interval in m\n",
    "ax.yaxis.set_major_locator(ticker.MultipleLocator(10000))  # Set y major tick interval in m\n",
    "ax.yaxis.set_minor_locator(ticker.MultipleLocator(2000))   # Set y minor tick interval in m\n",
    "# Format in km without changing coordinates\n",
    "def x_label(value, pos):  # m to km and start from 0\n",
    "    global xmin\n",
    "    value=int(value - xmin)//1000  # Integer\n",
    "    return '{0:d}'.format(value)\n",
    "def y_label(value, pos):  # m to km and start from 0\n",
    "    global ymin\n",
    "    value=int(value - ymin)//1000  # Integer\n",
    "    return '{0:d}'.format(value)\n",
    "ax.xaxis.set_major_formatter(ticker.FuncFormatter(x_label))\n",
    "ax.yaxis.set_major_formatter(ticker.FuncFormatter(y_label))\n",
    "ax.set_xlabel('x (km)')\n",
    "ax.set_ylabel('y (km)')\n",
    "# Plot a marker at node number 10\n",
    "ax.plot(x[10],y[10], marker = 'o', color='k', markersize = 5)\n",
    "# Plot a marker at center of cell number 100\n",
    "# Put text using map coordinates\n",
    "ax.text(400000,3875000, 'Tokyo Bay', fontsize=12)"
   ]
  },
  {
   "cell_type": "markdown",
   "id": "72cbb5c0-1b8c-4811-8f4d-e2053f5f2140",
   "metadata": {},
   "source": [
    "### Create 2D plot with `post_process_plot`.\n",
    "- 2-D horizontal plot with customization by updating `ax` if `post_process_plot` is defined.  "
   ]
  },
  {
   "cell_type": "code",
   "execution_count": null,
   "id": "7ae7b6de-2b39-44a2-937a-f815a587f9cd",
   "metadata": {},
   "outputs": [],
   "source": [
    "def static_custom_plot(ax):\n",
    "    \"\"\"\n",
    "    Customizing plot by updating ax\n",
    "\n",
    "    Parameters:\n",
    "    - ax: matplotlib axis\n",
    "    \"\"\"\n",
    "\n",
    "    # Further customization can be added.\n",
    "    ax.set_title(\"Title with Custom Plot\")\n",
    "\n",
    "def dynamic_custom_plot(ax, da, time):\n",
    "    \"\"\"\n",
    "    Plot the corresponding datetime at each frame\n",
    "\n",
    "    Parameters:\n",
    "    - ax: matplotib axis.\n",
    "    - da: DataArray.\n",
    "    - time: Frame time.    \n",
    "    \"\"\"\n",
    "    datetime = pd.Timestamp(da.time.item()).strftime('%Y-%m-%d %H:%M:%S')\n",
    "    ax.set_title(f\"Time: {datetime}\")\n",
    "\n",
    "# Specify var_name and siglay if any\n",
    "var_name = \"salinity\"\n",
    "time = 20\n",
    "siglay = 0\n",
    "da = plotter.ds[var_name][:,siglay,:] # time must be included in da as reusing a tool for animation.\n",
    "time_str = fvcom.ds.time.isel(time=time).values\n",
    "time_str = pd.to_datetime(time_str).strftime(\"%Y%m%d\")\n",
    "# Set plot_kwargs for `ax.tricontourf(**kwargs)`.\n",
    "plot_kwargs={\"verbose\": False, \"vmin\": 10, \"vmax\": 20, \"levels\": [9.5, 10, 10.5, 11, 11.5, 12, 12.5, 13, 13.5, 14, 15, 16, 17, 18, 19, 20]}\n",
    "plot_kwargs={\"verbose\": False, \"vmin\": 28, \"vmax\": 34, \"levels\": 20, \"cmap\": \"jet\"}\n",
    "plot_kwargs={\"verbose\": False, \"vmin\": 28, \"vmax\": 34, \"levels\": 20, \"cmap\": \"Blues\", \"with_mesh\": False, \"coastlines\": True, \"obclines\": True,\n",
    "             \"plot_grid\": True, \"add_tiles\": True}\n",
    "#plot_kwargs={}\n",
    "save_path = os.path.join(output_dir, f\"{var_name}_{time_str}.png\")\n",
    "\n",
    "ax = FrameGenerator.plot_data(data_array=da, time=time, plotter=plotter,\n",
    "    save_path=None, post_process_func=dynamic_custom_plot, plot_kwargs=plot_kwargs)\n",
    "fig=ax.figure\n",
    "fig.savefig(\"test10.png\")"
   ]
  },
  {
   "cell_type": "markdown",
   "id": "eec1464b-249c-41cd-99dc-1a5f744bf8d3",
   "metadata": {},
   "source": [
    "### Specify xlim and ylim\n",
    "Suppose `fvcom` and `plotter` instances, `var_name`, `siglay`, `time`, and `save_path` are prepared above."
   ]
  },
  {
   "cell_type": "code",
   "execution_count": null,
   "id": "aa78f2e2-169e-48d4-a2ff-fa2da797051d",
   "metadata": {},
   "outputs": [],
   "source": [
    "from xfvcom.helpers_utils import apply_xlim_ylim\n",
    "import cartopy.crs as ccrs"
   ]
  },
  {
   "cell_type": "code",
   "execution_count": null,
   "id": "fc28870a-40b6-491d-8d74-499d34763acf",
   "metadata": {},
   "outputs": [],
   "source": [
    "def custom_plot(ax, da, time):\n",
    "    \"\"\"\n",
    "    Plot the corresponding datetime at each frame and set xlim and ylim\n",
    "\n",
    "    Parameters:\n",
    "    - ax: matplotib axis.\n",
    "    - da: DataArray.\n",
    "    - time: Frame time.\n",
    "    \"\"\"\n",
    "\n",
    "    # Put datetime text.\n",
    "    datetime = pd.Timestamp(da.time.item()).strftime('%Y-%m-%d %H:%M:%S')\n",
    "    ax.set_title(f\"Time: {datetime}\")\n",
    "\n",
    "    # Set xlim and ylim manually.\n",
    "    xlim = (\"139:40:00\", \"140:00:00\")\n",
    "    ylim = (\"35:12:00\", \"35:50\")\n",
    "    #xlim = (139.7, 140.1)\n",
    "    #ylim = (35, 35.6)\n",
    "\n",
    "    apply_xlim_ylim(ax, xlim, ylim, is_cartesian=False)\n",
    "\n",
    "# Set plot_kwargs for `ax.tricontourf(**kwargs)`.\n",
    "plot_kwargs={\"verbose\": False, \"vmin\": 10, \"vmax\": 20, \"levels\": [9.5, 10, 10.5, 11, 11.5, 12, 12.5, 13, 13.5, 14, 15, 16, 17, 18, 19, 20]}\n",
    "plot_kwargs={\"verbose\": False, \"vmin\": 28, \"vmax\": 34, \"levels\": 20, \"cmap\": \"jet\"}\n",
    "plot_kwargs={\"verbose\": False, \"vmin\": 28, \"vmax\": 34, \"levels\": 20, \"cmap\": \"jet\", \"with_mesh\": True, \"projection\": ccrs.PlateCarree()}\n",
    "plot_kwargs={\"verbose\": False, \"vmin\": 28, \"vmax\": 34, \"levels\": 20, \"cmap\": \"jet\", \"with_mesh\": True, \"projection\": ccrs.Mercator()}\n",
    "\n",
    "FrameGenerator.plot_data(data_array=da, time=time, plotter=plotter,\n",
    "    save_path=save_path, post_process_func=custom_plot, plot_kwargs=plot_kwargs)"
   ]
  },
  {
   "cell_type": "code",
   "execution_count": null,
   "id": "5008ab72-64d3-4428-b787-5d83c13fa945",
   "metadata": {},
   "outputs": [],
   "source": []
  },
  {
   "cell_type": "code",
   "execution_count": null,
   "id": "a16ff890-56a2-4409-a767-dd5b9dfd0ecb",
   "metadata": {},
   "outputs": [],
   "source": []
  }
 ],
 "metadata": {
  "kernelspec": {
   "display_name": "Python 3 (ipykernel)",
   "language": "python",
   "name": "python3"
  },
  "language_info": {
   "codemirror_mode": {
    "name": "ipython",
    "version": 3
   },
   "file_extension": ".py",
   "mimetype": "text/x-python",
   "name": "python",
   "nbconvert_exporter": "python",
   "pygments_lexer": "ipython3",
   "version": "3.12.8"
  },
  "widgets": {
   "application/vnd.jupyter.widget-state+json": {
    "state": {},
    "version_major": 2,
    "version_minor": 0
   }
  }
 },
 "nbformat": 4,
 "nbformat_minor": 5
}
