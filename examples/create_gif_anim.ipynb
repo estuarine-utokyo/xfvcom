{
 "cells": [
  {
   "cell_type": "markdown",
   "id": "3c57dfbf-fba3-44a9-b524-5715216698ce",
   "metadata": {},
   "source": [
    "# Create animation using plot_2d\n",
    "**Author: Jun Sasaki  Coded on 2025-01-12  Updated on 2025-01-12**<br>"
   ]
  },
  {
   "cell_type": "code",
   "execution_count": null,
   "id": "e0877e32-f2dc-46d6-b527-e88dc2a44660",
   "metadata": {},
   "outputs": [],
   "source": [
    "from xfvcom import FvcomDataLoader, FvcomPlotConfig, FvcomPlotter\n",
    "import pandas as pd"
   ]
  },
  {
   "cell_type": "code",
   "execution_count": null,
   "id": "ade8c488-ec82-4500-89e7-bd3598fc01a1",
   "metadata": {},
   "outputs": [],
   "source": [
    "# Loading FVCOM output netcdf\n",
    "base_path = \"~/Github/TB-FVCOM/goto2023/output\"\n",
    "# List of netcdf files convenient to switch to another netcdf by specifying its index\n",
    "ncfiles = [\"TokyoBay18_r16_crossed_0001.nc\"]\n",
    "index_ncfile = 0\n",
    "fvcom = FvcomDataLoader(base_path=base_path, ncfile=ncfiles[index_ncfile], time_tolerance=5)\n",
    "\n",
    "# Set up FvcomPlotter\n",
    "plotter = FvcomPlotter(fvcom.ds, FvcomPlotConfig(figsize=(6, 8)))\n",
    "\n",
    "var_name = \"temp\"\n",
    "plot_kwargs={\"verbose\": False, \"vmin\": 10, \"vmax\": 20, \"levels\": [9.5, 10, 10.5, 11, 11.5, 12, 12.5, 13, 13.5, 14, 15, 16, 17, 18, 19, 20]}\n",
    "\n",
    "da = fvcom.ds[var_name].isel(siglay=0)\n",
    "start_date = da.time.isel(time=0).values\n",
    "start_date = pd.to_datetime(start_date).strftime(\"%Y%m%d\")\n",
    "end_date = da.time.isel(time=-1).values\n",
    "end_date = pd.to_datetime(end_date).strftime(\"%Y%m%d\")\n",
    "\n",
    "suffix = \"_frame\"\n",
    "len_suffix = len(suffix)\n",
    "base_name = f\"{da.long_name}_{start_date}-{end_date}{suffix}\"\n",
    "\n",
    "# Generate movie frames using helper methods in helpers.py\n",
    "output_dir = \"frames\"\n",
    "frames = plotter.generate_frames(data_array=da, output_dir=output_dir, plotter=plotter, base_name=base_name, plot_kwargs=plot_kwargs)\n",
    "\n",
    "# GIFアニメーションの作成\n",
    "output_gif = f\"{base_name[:-len_suffix]}.gif\"\n",
    "plotter.create_gif(frames, output_gif, fps=10)\n"
   ]
  },
  {
   "cell_type": "code",
   "execution_count": null,
   "id": "5b03fa62-0721-42f5-91d6-acdc263b38a9",
   "metadata": {},
   "outputs": [],
   "source": []
  }
 ],
 "metadata": {
  "kernelspec": {
   "display_name": "Python 3 (ipykernel)",
   "language": "python",
   "name": "python3"
  },
  "language_info": {
   "codemirror_mode": {
    "name": "ipython",
    "version": 3
   },
   "file_extension": ".py",
   "mimetype": "text/x-python",
   "name": "python",
   "nbconvert_exporter": "python",
   "pygments_lexer": "ipython3",
   "version": "3.12.8"
  },
  "widgets": {
   "application/vnd.jupyter.widget-state+json": {
    "state": {},
    "version_major": 2,
    "version_minor": 0
   }
  }
 },
 "nbformat": 4,
 "nbformat_minor": 5
}
