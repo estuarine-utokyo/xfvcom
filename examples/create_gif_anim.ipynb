{
 "cells": [
  {
   "cell_type": "markdown",
   "id": "3c57dfbf-fba3-44a9-b524-5715216698ce",
   "metadata": {},
   "source": [
    "# Create animation using plot_2d"
   ]
  },
  {
   "cell_type": "code",
   "execution_count": null,
   "id": "ade8c488-ec82-4500-89e7-bd3598fc01a1",
   "metadata": {},
   "outputs": [],
   "source": [
    "from xfvcom import FvcomDataLoader, FvcomPlotConfig, FvcomPlotter\n",
    "\n",
    "# FVCOMデータのロード\n",
    "base_path = \"~/Github/TB-FVCOM/goto2023/output\"\n",
    "ncfiles = [\"TokyoBay18_r16_crossed_0001.nc\"]\n",
    "index_ncfile = 0\n",
    "fvcom = FvcomDataLoader(base_path=base_path, ncfile=ncfiles[index_ncfile], time_tolerance=5)\n",
    "\n",
    "# FvcomPlotterをセットアップ\n",
    "plotter = FvcomPlotter(fvcom.ds, FvcomPlotConfig(figsize=(6, 8)))\n",
    "\n",
    "# フレームの生成\n",
    "output_dir = \"frames\"\n",
    "frames = plotter.generate_frames(\"temp\", siglay=0, output_dir=output_dir, plotter=plotter)\n",
    "\n",
    "# GIFアニメーションの作成\n",
    "output_gif = \"output.gif\"\n",
    "plotter.create_gif(frames, output_gif, fps=10)\n"
   ]
  }
 ],
 "metadata": {
  "kernelspec": {
   "display_name": "Python 3 (ipykernel)",
   "language": "python",
   "name": "python3"
  },
  "language_info": {
   "codemirror_mode": {
    "name": "ipython",
    "version": 3
   },
   "file_extension": ".py",
   "mimetype": "text/x-python",
   "name": "python",
   "nbconvert_exporter": "python",
   "pygments_lexer": "ipython3",
   "version": "3.12.8"
  },
  "widgets": {
   "application/vnd.jupyter.widget-state+json": {
    "state": {},
    "version_major": 2,
    "version_minor": 0
   }
  }
 },
 "nbformat": 4,
 "nbformat_minor": 5
}
