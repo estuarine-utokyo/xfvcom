{
 "cells": [
  {
   "cell_type": "markdown",
   "metadata": {},
   "source": [
    "# Plot Idealized Channel Grid\n",
    "\n",
    "This notebook demonstrates how to plot an idealized rectangular channel mesh from `chn_grd.dat` using xfvcom.\n",
    "The grid uses Cartesian coordinates in meters without any geographic information."
   ]
  },
  {
   "cell_type": "code",
   "execution_count": null,
   "metadata": {},
   "outputs": [],
   "source": [
    "# Import required libraries\n",
    "import matplotlib.pyplot as plt\n",
    "import matplotlib.tri as mtri\n",
    "import numpy as np\n",
    "from pathlib import Path\n",
    "\n",
    "# Import xfvcom components\n",
    "from xfvcom import FvcomInputLoader, FvcomPlotter, FvcomPlotConfig, FvcomPlotOptions"
   ]
  },
  {
   "cell_type": "markdown",
   "metadata": {},
   "source": [
    "## Using FvcomInputLoader for Grid-Only Plotting\n",
    "\n",
    "With the new `FvcomInputLoader`, we can load input files and create datasets compatible with `FvcomPlotter`. This allows us to use the same plotting tools for both input and output data."
   ]
  },
  {
   "cell_type": "code",
   "execution_count": null,
   "metadata": {},
   "outputs": [],
   "source": [
    "# Path to the grid file\n",
    "grid_file = Path(\"input/chn_grd.dat\")\n",
    "\n",
    "# Load the grid using FvcomInputLoader\n",
    "# For idealized grids, we use a dummy UTM zone (the generated lon/lat won't be meaningful)\n",
    "loader = FvcomInputLoader(\n",
    "    grid_path=grid_file, \n",
    "    utm_zone=54,\n",
    "    add_dummy_time=True,\n",
    "    add_dummy_siglay=True\n",
    ")\n",
    "\n",
    "# Display grid information\n",
    "print(f\"Grid loaded from: {loader.grid_path}\")\n",
    "print(f\"Number of nodes: {loader.grid.node}\")\n",
    "print(f\"Number of elements: {loader.grid.nele}\")\n",
    "print(f\"X range: {loader.grid.x.min():.0f} to {loader.grid.x.max():.0f} meters\")\n",
    "print(f\"Y range: {loader.grid.y.min():.0f} to {loader.grid.y.max():.0f} meters\")\n",
    "print(f\"\\nDataset dimensions: {dict(loader.ds.sizes)}\")\n",
    "print(f\"Dataset variables: {list(loader.ds.data_vars)}\")\n",
    "print(\"\\nNote: This is an idealized grid. We will use Cartesian coordinates (x,y).\")"
   ]
  },
  {
   "cell_type": "markdown",
   "metadata": {},
   "source": [
    "## Plot the mesh using FvcomPlotter\n",
    "\n",
    "Now we can use the standard `FvcomPlotter` with our input dataset, just like we would with FVCOM output data."
   ]
  },
  {
   "cell_type": "code",
   "execution_count": null,
   "metadata": {},
   "outputs": [],
   "source": [
    "# Create plot configuration and plotter\n",
    "config = FvcomPlotConfig()\n",
    "plotter = FvcomPlotter(loader.ds, config)\n",
    "\n",
    "# Create plot options for Cartesian mode\n",
    "opts = FvcomPlotOptions(\n",
    "    use_latlon=False,  # Use Cartesian coordinates for idealized grid\n",
    "    with_mesh=True,    # Show the triangular mesh\n",
    "    coastlines=False,  # No coastlines for idealized grid\n",
    "    obclines=False,    # No open boundary lines\n",
    "    mesh_linewidth=0.5,\n",
    "    mesh_color='black',\n",
    "    figsize=(12, 6)\n",
    ")\n",
    "\n",
    "# Plot the mesh only (da=None means plot mesh only)\n",
    "ax = plotter.plot_2d(da=None, opts=opts)\n",
    "\n",
    "# Add labels and title\n",
    "ax.set_xlabel('X (meters)')\n",
    "ax.set_ylabel('Y (meters)')\n",
    "ax.set_title('Idealized Channel Grid - Using FvcomPlotter')\n",
    "\n",
    "# Add grid for better visualization\n",
    "ax.grid(True, alpha=0.3)\n",
    "\n",
    "plt.tight_layout()\n",
    "plt.show()"
   ]
  },
  {
   "cell_type": "markdown",
   "metadata": {},
   "source": [
    "# Calculate element areas using the grid from loader\n",
    "grid = loader.grid\n",
    "\n",
    "# Get node coordinates for each element\n",
    "x_elem = grid.x[grid.nv]  # Shape: (3, nele)\n",
    "y_elem = grid.y[grid.nv]  # Shape: (3, nele)\n",
    "\n",
    "# Calculate areas using cross product\n",
    "# Area = 0.5 * |AB × AC| where A, B, C are the three vertices\n",
    "areas = 0.5 * np.abs(\n",
    "    (x_elem[1] - x_elem[0]) * (y_elem[2] - y_elem[0]) - \n",
    "    (x_elem[2] - x_elem[0]) * (y_elem[1] - y_elem[0])\n",
    ")\n",
    "\n",
    "print(f\"Element area statistics:\")\n",
    "print(f\"  Min area: {areas.min():.2e} m²\")\n",
    "print(f\"  Max area: {areas.max():.2e} m²\")\n",
    "print(f\"  Mean area: {areas.mean():.2e} m²\")\n",
    "print(f\"  Total area: {areas.sum():.2e} m²\")"
   ]
  },
  {
   "cell_type": "markdown",
   "metadata": {},
   "source": [
    "## Plot zoomed views using FvcomPlotter\n",
    "\n",
    "We can use the `xlim` and `ylim` options to create zoomed views of the mesh."
   ]
  },
  {
   "cell_type": "code",
   "execution_count": null,
   "metadata": {},
   "outputs": [],
   "source": [
    "# Create two plots side by side\n",
    "fig, (ax1, ax2) = plt.subplots(1, 2, figsize=(16, 6))\n",
    "\n",
    "# Full mesh\n",
    "opts_full = FvcomPlotOptions(\n",
    "    use_latlon=False,\n",
    "    with_mesh=True,\n",
    "    coastlines=False,\n",
    "    obclines=False,\n",
    "    mesh_linewidth=0.3,\n",
    "    mesh_color='black'\n",
    ")\n",
    "plotter.plot_2d(da=None, ax=ax1, opts=opts_full)\n",
    "ax1.set_xlabel('X (meters)')\n",
    "ax1.set_ylabel('Y (meters)')\n",
    "ax1.set_title('Full Channel Mesh')\n",
    "ax1.grid(True, alpha=0.3)\n",
    "\n",
    "# Zoomed view\n",
    "zoom_x = [100000, 200000]  # 100 km section\n",
    "zoom_y = [150000, 250000]  # 100 km section\n",
    "\n",
    "opts_zoom = FvcomPlotOptions(\n",
    "    use_latlon=False,\n",
    "    with_mesh=True,\n",
    "    coastlines=False,\n",
    "    obclines=False,\n",
    "    mesh_linewidth=0.5,\n",
    "    mesh_color='black',\n",
    "    xlim=zoom_x,\n",
    "    ylim=zoom_y\n",
    ")\n",
    "plotter.plot_2d(da=None, ax=ax2, opts=opts_zoom)\n",
    "ax2.set_xlabel('X (meters)')\n",
    "ax2.set_ylabel('Y (meters)')\n",
    "ax2.set_title('Zoomed View of Mesh')\n",
    "ax2.grid(True, alpha=0.3)\n",
    "\n",
    "# Add rectangle on full mesh to show zoom area\n",
    "from matplotlib.patches import Rectangle\n",
    "rect = Rectangle((zoom_x[0], zoom_y[0]), \n",
    "                 zoom_x[1] - zoom_x[0], \n",
    "                 zoom_y[1] - zoom_y[0],\n",
    "                 fill=False, edgecolor='red', linewidth=2)\n",
    "ax1.add_patch(rect)\n",
    "\n",
    "plt.tight_layout()\n",
    "plt.show()"
   ]
  },
  {
   "cell_type": "markdown",
   "metadata": {},
   "source": [
    "## Save the plot"
   ]
  },
  {
   "cell_type": "code",
   "execution_count": null,
   "metadata": {},
   "outputs": [],
   "source": [
    "# Create a high-quality plot for saving\n",
    "opts_hq = FvcomPlotOptions(\n",
    "    use_latlon=False,\n",
    "    with_mesh=True,\n",
    "    coastlines=False,\n",
    "    obclines=False,\n",
    "    mesh_linewidth=0.3,\n",
    "    mesh_color='navy',\n",
    "    figsize=(14, 7)\n",
    ")\n",
    "\n",
    "ax = plotter.plot_2d(da=None, opts=opts_hq)\n",
    "\n",
    "ax.set_xlabel('X (meters)', fontsize=12)\n",
    "ax.set_ylabel('Y (meters)', fontsize=12)\n",
    "ax.set_title('Idealized Rectangular Channel Grid - FVCOM Mesh', fontsize=14)\n",
    "ax.grid(True, alpha=0.2, linestyle='--')\n",
    "\n",
    "# Save the figure\n",
    "plt.tight_layout()\n",
    "plt.savefig('chn_mesh.png', dpi=300, bbox_inches='tight')\n",
    "print(\"Mesh plot saved as 'chn_mesh.png'\")\n",
    "\n",
    "plt.show()"
   ]
  }
 ],
 "metadata": {
  "kernelspec": {
   "display_name": "Python 3 (ipykernel)",
   "language": "python",
   "name": "python3"
  },
  "language_info": {
   "codemirror_mode": {
    "name": "ipython",
    "version": 3
   },
   "file_extension": ".py",
   "mimetype": "text/x-python",
   "name": "python",
   "nbconvert_exporter": "python",
   "pygments_lexer": "ipython3",
   "version": "3.12.8"
  },
  "widgets": {
   "application/vnd.jupyter.widget-state+json": {
    "state": {},
    "version_major": 2,
    "version_minor": 0
   }
  }
 },
 "nbformat": 4,
 "nbformat_minor": 4
}
