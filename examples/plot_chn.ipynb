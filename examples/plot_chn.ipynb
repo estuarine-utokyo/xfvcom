{
 "cells": [
  {
   "cell_type": "markdown",
   "metadata": {},
   "source": [
    "# Plot Idealized Channel Grid\n",
    "\n",
    "This notebook demonstrates how to plot an idealized rectangular channel mesh from `chn_grd.dat` using xfvcom.\n",
    "The grid uses Cartesian coordinates in meters without any geographic information."
   ]
  },
  {
   "cell_type": "code",
   "execution_count": 1,
   "metadata": {},
   "outputs": [],
   "source": [
    "# Import required libraries\n",
    "import matplotlib.pyplot as plt\n",
    "import matplotlib.tri as mtri\n",
    "import numpy as np\n",
    "from pathlib import Path\n",
    "\n",
    "# Import xfvcom components\n",
    "from xfvcom import FvcomInputLoader, FvcomPlotter, FvcomPlotConfig, FvcomPlotOptions\n",
    "from xfvcom import make_node_marker_post"
   ]
  },
  {
   "cell_type": "markdown",
   "metadata": {},
   "source": [
    "## Using FvcomInputLoader for Grid-Only Plotting\n",
    "\n",
    "With the new `FvcomInputLoader`, we can load input files and create datasets compatible with `FvcomPlotter`. This allows us to use the same plotting tools for both input and output data."
   ]
  },
  {
   "cell_type": "code",
   "execution_count": 2,
   "metadata": {},
   "outputs": [
    {
     "name": "stdout",
     "output_type": "stream",
     "text": [
      "Grid loaded from: /home/teem/Github/FVCOM/Tests/GroundwaterDye/input/chn_grd.dat\n",
      "Number of nodes: 871\n",
      "Number of elements: 1620\n",
      "X range: 0 to 800000 meters\n",
      "Y range: 0 to 400000 meters\n",
      "\n",
      "Dataset dimensions: {'node': 871, 'three': 3, 'nele': 1620, 'time': 1, 'siglay': 1, 'siglev': 2}\n",
      "Dataset variables: ['x', 'y', 'lon', 'lat', 'nv', 'h', 'xc', 'yc', 'lonc', 'latc', 'Itime', 'Itime2', 'nv_zero', 'nv_ccw']\n",
      "\n",
      "Note: This is an idealized grid. We will use Cartesian coordinates (x,y).\n"
     ]
    }
   ],
   "source": [
    "# Path to the grid file\n",
    "grid_file = Path(\"~/Github/FVCOM/Tests/GroundwaterDye/input/chn_grd.dat\").expanduser()\n",
    "\n",
    "# Load the grid using FvcomInputLoader\n",
    "# For idealized grids, we use a dummy UTM zone (the generated lon/lat won't be meaningful)\n",
    "loader = FvcomInputLoader(\n",
    "    grid_path=grid_file, \n",
    "    utm_zone=54,\n",
    "    add_dummy_time=True,\n",
    "    add_dummy_siglay=True\n",
    ")\n",
    "\n",
    "# Display grid information\n",
    "print(f\"Grid loaded from: {loader.grid_path}\")\n",
    "print(f\"Number of nodes: {loader.grid.node}\")\n",
    "print(f\"Number of elements: {loader.grid.nele}\")\n",
    "print(f\"X range: {loader.grid.x.min():.0f} to {loader.grid.x.max():.0f} meters\")\n",
    "print(f\"Y range: {loader.grid.y.min():.0f} to {loader.grid.y.max():.0f} meters\")\n",
    "print(f\"\\nDataset dimensions: {dict(loader.ds.sizes)}\")\n",
    "print(f\"Dataset variables: {list(loader.ds.data_vars)}\")\n",
    "print(\"\\nNote: This is an idealized grid. We will use Cartesian coordinates (x,y).\")"
   ]
  },
  {
   "cell_type": "markdown",
   "metadata": {},
   "source": [
    "## Plot the mesh using FvcomPlotter\n",
    "\n",
    "Now we can use the standard `FvcomPlotter` with our input dataset, just like we would with FVCOM output data."
   ]
  },
  {
   "cell_type": "code",
   "execution_count": 3,
   "metadata": {},
   "outputs": [
    {
     "name": "stderr",
     "output_type": "stream",
     "text": [
      "/tmp/ipykernel_15613/4186051146.py:17: FutureWarning: The return type of `Dataset.dims` will be changed to return a set of dimension names in future, in order to be more consistent with `DataArray.dims`. To access a mapping from dimension names to lengths, please use `Dataset.sizes`.\n",
      "  nodes=range(loader.ds.dims[\"node\"]),   # 全ノード番号を使う場合\n"
     ]
    },
    {
     "ename": "ValueError",
     "evalue": "Axes should be an instance of GeoAxes, got <class 'matplotlib.axes._axes.Axes'>",
     "output_type": "error",
     "traceback": [
      "\u001b[0;31m---------------------------------------------------------------------------\u001b[0m",
      "\u001b[0;31mValueError\u001b[0m                                Traceback (most recent call last)",
      "Cell \u001b[0;32mIn[3], line 23\u001b[0m\n\u001b[1;32m      6\u001b[0m opts \u001b[38;5;241m=\u001b[39m FvcomPlotOptions(\n\u001b[1;32m      7\u001b[0m     use_latlon\u001b[38;5;241m=\u001b[39m\u001b[38;5;28;01mFalse\u001b[39;00m,  \u001b[38;5;66;03m# Use Cartesian coordinates for idealized grid\u001b[39;00m\n\u001b[1;32m      8\u001b[0m     with_mesh\u001b[38;5;241m=\u001b[39m\u001b[38;5;28;01mTrue\u001b[39;00m,    \u001b[38;5;66;03m# Show the triangular mesh\u001b[39;00m\n\u001b[0;32m   (...)\u001b[0m\n\u001b[1;32m     13\u001b[0m     figsize\u001b[38;5;241m=\u001b[39m(\u001b[38;5;241m12\u001b[39m, \u001b[38;5;241m6\u001b[39m)\n\u001b[1;32m     14\u001b[0m )\n\u001b[1;32m     16\u001b[0m pp \u001b[38;5;241m=\u001b[39m make_node_marker_post(\n\u001b[1;32m     17\u001b[0m     nodes\u001b[38;5;241m=\u001b[39m\u001b[38;5;28mrange\u001b[39m(loader\u001b[38;5;241m.\u001b[39mds\u001b[38;5;241m.\u001b[39mdims[\u001b[38;5;124m\"\u001b[39m\u001b[38;5;124mnode\u001b[39m\u001b[38;5;124m\"\u001b[39m]),   \u001b[38;5;66;03m# 全ノード番号を使う場合\u001b[39;00m\n\u001b[1;32m     18\u001b[0m     plotter\u001b[38;5;241m=\u001b[39mplotter,\n\u001b[1;32m     19\u001b[0m     text_kwargs\u001b[38;5;241m=\u001b[39m{\u001b[38;5;124m\"\u001b[39m\u001b[38;5;124mfontsize\u001b[39m\u001b[38;5;124m\"\u001b[39m: \u001b[38;5;241m8\u001b[39m, \u001b[38;5;124m\"\u001b[39m\u001b[38;5;124mcolor\u001b[39m\u001b[38;5;124m\"\u001b[39m: \u001b[38;5;124m\"\u001b[39m\u001b[38;5;124mblue\u001b[39m\u001b[38;5;124m\"\u001b[39m},\n\u001b[1;32m     20\u001b[0m     index_base\u001b[38;5;241m=\u001b[39m\u001b[38;5;241m1\u001b[39m,                          \u001b[38;5;66;03m# 1始まりの番号を表示する例\u001b[39;00m\n\u001b[1;32m     21\u001b[0m )\n\u001b[0;32m---> 23\u001b[0m ax \u001b[38;5;241m=\u001b[39m \u001b[43mplotter\u001b[49m\u001b[38;5;241;43m.\u001b[39;49m\u001b[43mplot_2d\u001b[49m\u001b[43m(\u001b[49m\u001b[43mda\u001b[49m\u001b[38;5;241;43m=\u001b[39;49m\u001b[38;5;28;43;01mNone\u001b[39;49;00m\u001b[43m,\u001b[49m\u001b[43m \u001b[49m\u001b[43mopts\u001b[49m\u001b[38;5;241;43m=\u001b[39;49m\u001b[43mopts\u001b[49m\u001b[43m,\u001b[49m\u001b[43m \u001b[49m\u001b[43mpost_process_func\u001b[49m\u001b[38;5;241;43m=\u001b[39;49m\u001b[43mpp\u001b[49m\u001b[43m)\u001b[49m\n\u001b[1;32m     25\u001b[0m \u001b[38;5;66;03m# Plot the mesh only (da=None means plot mesh only)\u001b[39;00m\n\u001b[1;32m     26\u001b[0m ax \u001b[38;5;241m=\u001b[39m plotter\u001b[38;5;241m.\u001b[39mplot_2d(da\u001b[38;5;241m=\u001b[39m\u001b[38;5;28;01mNone\u001b[39;00m, opts\u001b[38;5;241m=\u001b[39mopts, post_process_func\u001b[38;5;241m=\u001b[39mpp)\n",
      "File \u001b[0;32m~/Github/xfvcom/xfvcom/utils/decorators.py:37\u001b[0m, in \u001b[0;36mprecedence.<locals>.decorator.<locals>.wrapper\u001b[0;34m(self, opts, *args, **kwargs)\u001b[0m\n\u001b[1;32m     34\u001b[0m     opts\u001b[38;5;241m.\u001b[39mextra\u001b[38;5;241m.\u001b[39mupdate(kwargs)\n\u001b[1;32m     36\u001b[0m \u001b[38;5;66;03m# Call the original method with merged opts and local overrides\u001b[39;00m\n\u001b[0;32m---> 37\u001b[0m \u001b[38;5;28;01mreturn\u001b[39;00m \u001b[43mfunc\u001b[49m\u001b[43m(\u001b[49m\u001b[38;5;28;43mself\u001b[39;49m\u001b[43m,\u001b[49m\u001b[43m \u001b[49m\u001b[38;5;241;43m*\u001b[39;49m\u001b[43margs\u001b[49m\u001b[43m,\u001b[49m\u001b[43m \u001b[49m\u001b[43mopts\u001b[49m\u001b[38;5;241;43m=\u001b[39;49m\u001b[43mopts\u001b[49m\u001b[43m,\u001b[49m\u001b[43m \u001b[49m\u001b[43mlocal\u001b[49m\u001b[38;5;241;43m=\u001b[39;49m\u001b[43mlocal\u001b[49m\u001b[43m,\u001b[49m\u001b[43m \u001b[49m\u001b[38;5;241;43m*\u001b[39;49m\u001b[38;5;241;43m*\u001b[39;49m\u001b[43mkwargs\u001b[49m\u001b[43m)\u001b[49m\n",
      "File \u001b[0;32m~/Github/xfvcom/xfvcom/plot/core.py:1159\u001b[0m, in \u001b[0;36mFvcomPlotter.plot_2d\u001b[0;34m(self, da, save_path, post_process_func, opts, local, **_)\u001b[0m\n\u001b[1;32m   1156\u001b[0m \u001b[38;5;28;01mif\u001b[39;00m da \u001b[38;5;129;01mis\u001b[39;00m \u001b[38;5;129;01mnot\u001b[39;00m \u001b[38;5;28;01mNone\u001b[39;00m \u001b[38;5;129;01mand\u001b[39;00m \u001b[38;5;124m\"\u001b[39m\u001b[38;5;124mtime\u001b[39m\u001b[38;5;124m\"\u001b[39m \u001b[38;5;129;01min\u001b[39;00m da\u001b[38;5;241m.\u001b[39mcoords:\n\u001b[1;32m   1157\u001b[0m     frame_time \u001b[38;5;241m=\u001b[39m da[\u001b[38;5;124m\"\u001b[39m\u001b[38;5;124mtime\u001b[39m\u001b[38;5;124m\"\u001b[39m]\u001b[38;5;241m.\u001b[39mvalues\u001b[38;5;241m.\u001b[39mitem()\n\u001b[0;32m-> 1159\u001b[0m \u001b[38;5;28;43mself\u001b[39;49m\u001b[38;5;241;43m.\u001b[39;49m\u001b[43m_finalize_plot\u001b[49m\u001b[43m(\u001b[49m\n\u001b[1;32m   1160\u001b[0m \u001b[43m    \u001b[49m\u001b[43max\u001b[49m\u001b[38;5;241;43m=\u001b[39;49m\u001b[43max\u001b[49m\u001b[43m,\u001b[49m\n\u001b[1;32m   1161\u001b[0m \u001b[43m    \u001b[49m\u001b[43mopts\u001b[49m\u001b[38;5;241;43m=\u001b[39;49m\u001b[43mopts\u001b[49m\u001b[43m,\u001b[49m\n\u001b[1;32m   1162\u001b[0m \u001b[43m    \u001b[49m\u001b[43mprojection\u001b[49m\u001b[38;5;241;43m=\u001b[39;49m\u001b[43mprojection\u001b[49m\u001b[43m,\u001b[49m\n\u001b[1;32m   1163\u001b[0m \u001b[43m    \u001b[49m\u001b[43mxmin\u001b[49m\u001b[38;5;241;43m=\u001b[39;49m\u001b[43mxmin\u001b[49m\u001b[43m,\u001b[49m\n\u001b[1;32m   1164\u001b[0m \u001b[43m    \u001b[49m\u001b[43mxmax\u001b[49m\u001b[38;5;241;43m=\u001b[39;49m\u001b[43mxmax\u001b[49m\u001b[43m,\u001b[49m\n\u001b[1;32m   1165\u001b[0m \u001b[43m    \u001b[49m\u001b[43mymin\u001b[49m\u001b[38;5;241;43m=\u001b[39;49m\u001b[43mymin\u001b[49m\u001b[43m,\u001b[49m\n\u001b[1;32m   1166\u001b[0m \u001b[43m    \u001b[49m\u001b[43mymax\u001b[49m\u001b[38;5;241;43m=\u001b[39;49m\u001b[43mymax\u001b[49m\u001b[43m,\u001b[49m\n\u001b[1;32m   1167\u001b[0m \u001b[43m    \u001b[49m\u001b[43mtitle\u001b[49m\u001b[38;5;241;43m=\u001b[39;49m\u001b[43mtitle\u001b[49m\u001b[43m,\u001b[49m\n\u001b[1;32m   1168\u001b[0m \u001b[43m    \u001b[49m\u001b[43mxlabel\u001b[49m\u001b[38;5;241;43m=\u001b[39;49m\u001b[43mxlabel\u001b[49m\u001b[43m,\u001b[49m\n\u001b[1;32m   1169\u001b[0m \u001b[43m    \u001b[49m\u001b[43mylabel\u001b[49m\u001b[38;5;241;43m=\u001b[39;49m\u001b[43mylabel\u001b[49m\u001b[43m,\u001b[49m\n\u001b[1;32m   1170\u001b[0m \u001b[43m    \u001b[49m\u001b[43mpost_process_func\u001b[49m\u001b[38;5;241;43m=\u001b[39;49m\u001b[43mpost_process_func\u001b[49m\u001b[43m,\u001b[49m\n\u001b[1;32m   1171\u001b[0m \u001b[43m    \u001b[49m\u001b[43msave_path\u001b[49m\u001b[38;5;241;43m=\u001b[39;49m\u001b[43msave_path\u001b[49m\u001b[43m,\u001b[49m\n\u001b[1;32m   1172\u001b[0m \u001b[43m    \u001b[49m\u001b[43mda\u001b[49m\u001b[38;5;241;43m=\u001b[39;49m\u001b[43mda\u001b[49m\u001b[43m,\u001b[49m\n\u001b[1;32m   1173\u001b[0m \u001b[43m    \u001b[49m\u001b[43mframe_time\u001b[49m\u001b[38;5;241;43m=\u001b[39;49m\u001b[43mframe_time\u001b[49m\u001b[43m,\u001b[49m\n\u001b[1;32m   1174\u001b[0m \u001b[43m\u001b[49m\u001b[43m)\u001b[49m\n\u001b[1;32m   1176\u001b[0m \u001b[38;5;66;03m# Draw mesh\u001b[39;00m\n\u001b[1;32m   1177\u001b[0m \u001b[38;5;28mself\u001b[39m\u001b[38;5;241m.\u001b[39m_draw_mesh(\n\u001b[1;32m   1178\u001b[0m     ax\u001b[38;5;241m=\u001b[39max,\n\u001b[1;32m   1179\u001b[0m     triang\u001b[38;5;241m=\u001b[39mtriang,\n\u001b[0;32m   (...)\u001b[0m\n\u001b[1;32m   1187\u001b[0m     obcline_color\u001b[38;5;241m=\u001b[39mobcline_color,\n\u001b[1;32m   1188\u001b[0m )\n",
      "File \u001b[0;32m~/Github/xfvcom/xfvcom/plot/core.py:3045\u001b[0m, in \u001b[0;36mFvcomPlotter._finalize_plot\u001b[0;34m(self, ax, opts, projection, xmin, xmax, ymin, ymax, title, xlabel, ylabel, post_process_func, save_path, da, frame_time)\u001b[0m\n\u001b[1;32m   3042\u001b[0m         kw[\u001b[38;5;124m\"\u001b[39m\u001b[38;5;124mopts\u001b[39m\u001b[38;5;124m\"\u001b[39m] \u001b[38;5;241m=\u001b[39m opts\n\u001b[1;32m   3044\u001b[0m     \u001b[38;5;66;03m# Call with the subset that the user function actually accepts\u001b[39;00m\n\u001b[0;32m-> 3045\u001b[0m     \u001b[43mpost_process_func\u001b[49m\u001b[43m(\u001b[49m\u001b[38;5;241;43m*\u001b[39;49m\u001b[38;5;241;43m*\u001b[39;49m\u001b[43mkw\u001b[49m\u001b[43m)\u001b[49m\n\u001b[1;32m   3047\u001b[0m \u001b[38;5;66;03m# 5) save -----------------------------------------------------------\u001b[39;00m\n\u001b[1;32m   3048\u001b[0m \u001b[38;5;28;01mif\u001b[39;00m save_path \u001b[38;5;129;01mis\u001b[39;00m \u001b[38;5;129;01mnot\u001b[39;00m \u001b[38;5;28;01mNone\u001b[39;00m:\n",
      "File \u001b[0;32m~/Github/xfvcom/xfvcom/plot/markers.py:108\u001b[0m, in \u001b[0;36mmake_node_marker_post.<locals>._post\u001b[0;34m(ax, opts, **__)\u001b[0m\n\u001b[1;32m    106\u001b[0m x, y \u001b[38;5;241m=\u001b[39m lon_arr[i], lat_arr[i]\n\u001b[1;32m    107\u001b[0m lbl \u001b[38;5;241m=\u001b[39m \u001b[38;5;28mstr\u001b[39m(i \u001b[38;5;241m+\u001b[39m index_base)\n\u001b[0;32m--> 108\u001b[0m \u001b[43max\u001b[49m\u001b[38;5;241;43m.\u001b[39;49m\u001b[43mplot\u001b[49m\u001b[43m(\u001b[49m\u001b[43mx\u001b[49m\u001b[43m,\u001b[49m\u001b[43m \u001b[49m\u001b[43my\u001b[49m\u001b[43m,\u001b[49m\u001b[43m \u001b[49m\u001b[38;5;241;43m*\u001b[39;49m\u001b[38;5;241;43m*\u001b[39;49m\u001b[43m_inject_transform\u001b[49m\u001b[43m(\u001b[49m\u001b[43max\u001b[49m\u001b[43m,\u001b[49m\u001b[43m \u001b[49m\u001b[43mmkw\u001b[49m\u001b[43m)\u001b[49m\u001b[43m)\u001b[49m\n\u001b[1;32m    109\u001b[0m ax\u001b[38;5;241m.\u001b[39mtext(x, y, lbl, \u001b[38;5;241m*\u001b[39m\u001b[38;5;241m*\u001b[39m_inject_transform(ax, tkw))\n",
      "File \u001b[0;32m~/miniforge3/envs/fvcom/lib/python3.12/site-packages/matplotlib/axes/_axes.py:1779\u001b[0m, in \u001b[0;36mAxes.plot\u001b[0;34m(self, scalex, scaley, data, *args, **kwargs)\u001b[0m\n\u001b[1;32m   1777\u001b[0m lines \u001b[38;5;241m=\u001b[39m [\u001b[38;5;241m*\u001b[39m\u001b[38;5;28mself\u001b[39m\u001b[38;5;241m.\u001b[39m_get_lines(\u001b[38;5;28mself\u001b[39m, \u001b[38;5;241m*\u001b[39margs, data\u001b[38;5;241m=\u001b[39mdata, \u001b[38;5;241m*\u001b[39m\u001b[38;5;241m*\u001b[39mkwargs)]\n\u001b[1;32m   1778\u001b[0m \u001b[38;5;28;01mfor\u001b[39;00m line \u001b[38;5;129;01min\u001b[39;00m lines:\n\u001b[0;32m-> 1779\u001b[0m     \u001b[38;5;28;43mself\u001b[39;49m\u001b[38;5;241;43m.\u001b[39;49m\u001b[43madd_line\u001b[49m\u001b[43m(\u001b[49m\u001b[43mline\u001b[49m\u001b[43m)\u001b[49m\n\u001b[1;32m   1780\u001b[0m \u001b[38;5;28;01mif\u001b[39;00m scalex:\n\u001b[1;32m   1781\u001b[0m     \u001b[38;5;28mself\u001b[39m\u001b[38;5;241m.\u001b[39m_request_autoscale_view(\u001b[38;5;124m\"\u001b[39m\u001b[38;5;124mx\u001b[39m\u001b[38;5;124m\"\u001b[39m)\n",
      "File \u001b[0;32m~/miniforge3/envs/fvcom/lib/python3.12/site-packages/matplotlib/axes/_base.py:2371\u001b[0m, in \u001b[0;36m_AxesBase.add_line\u001b[0;34m(self, line)\u001b[0m\n\u001b[1;32m   2368\u001b[0m \u001b[38;5;28;01mif\u001b[39;00m line\u001b[38;5;241m.\u001b[39mget_clip_path() \u001b[38;5;129;01mis\u001b[39;00m \u001b[38;5;28;01mNone\u001b[39;00m:\n\u001b[1;32m   2369\u001b[0m     line\u001b[38;5;241m.\u001b[39mset_clip_path(\u001b[38;5;28mself\u001b[39m\u001b[38;5;241m.\u001b[39mpatch)\n\u001b[0;32m-> 2371\u001b[0m \u001b[38;5;28;43mself\u001b[39;49m\u001b[38;5;241;43m.\u001b[39;49m\u001b[43m_update_line_limits\u001b[49m\u001b[43m(\u001b[49m\u001b[43mline\u001b[49m\u001b[43m)\u001b[49m\n\u001b[1;32m   2372\u001b[0m \u001b[38;5;28;01mif\u001b[39;00m \u001b[38;5;129;01mnot\u001b[39;00m line\u001b[38;5;241m.\u001b[39mget_label():\n\u001b[1;32m   2373\u001b[0m     line\u001b[38;5;241m.\u001b[39mset_label(\u001b[38;5;124mf\u001b[39m\u001b[38;5;124m'\u001b[39m\u001b[38;5;124m_child\u001b[39m\u001b[38;5;132;01m{\u001b[39;00m\u001b[38;5;28mlen\u001b[39m(\u001b[38;5;28mself\u001b[39m\u001b[38;5;241m.\u001b[39m_children)\u001b[38;5;132;01m}\u001b[39;00m\u001b[38;5;124m'\u001b[39m)\n",
      "File \u001b[0;32m~/miniforge3/envs/fvcom/lib/python3.12/site-packages/matplotlib/axes/_base.py:2398\u001b[0m, in \u001b[0;36m_AxesBase._update_line_limits\u001b[0;34m(self, line)\u001b[0m\n\u001b[1;32m   2395\u001b[0m \u001b[38;5;28;01mif\u001b[39;00m path\u001b[38;5;241m.\u001b[39mvertices\u001b[38;5;241m.\u001b[39msize \u001b[38;5;241m==\u001b[39m \u001b[38;5;241m0\u001b[39m:\n\u001b[1;32m   2396\u001b[0m     \u001b[38;5;28;01mreturn\u001b[39;00m\n\u001b[0;32m-> 2398\u001b[0m line_trf \u001b[38;5;241m=\u001b[39m \u001b[43mline\u001b[49m\u001b[38;5;241;43m.\u001b[39;49m\u001b[43mget_transform\u001b[49m\u001b[43m(\u001b[49m\u001b[43m)\u001b[49m\n\u001b[1;32m   2400\u001b[0m \u001b[38;5;28;01mif\u001b[39;00m line_trf \u001b[38;5;241m==\u001b[39m \u001b[38;5;28mself\u001b[39m\u001b[38;5;241m.\u001b[39mtransData:\n\u001b[1;32m   2401\u001b[0m     data_path \u001b[38;5;241m=\u001b[39m path\n",
      "File \u001b[0;32m~/miniforge3/envs/fvcom/lib/python3.12/site-packages/matplotlib/artist.py:454\u001b[0m, in \u001b[0;36mArtist.get_transform\u001b[0;34m(self)\u001b[0m\n\u001b[1;32m    451\u001b[0m     \u001b[38;5;28mself\u001b[39m\u001b[38;5;241m.\u001b[39m_transform \u001b[38;5;241m=\u001b[39m IdentityTransform()\n\u001b[1;32m    452\u001b[0m \u001b[38;5;28;01melif\u001b[39;00m (\u001b[38;5;129;01mnot\u001b[39;00m \u001b[38;5;28misinstance\u001b[39m(\u001b[38;5;28mself\u001b[39m\u001b[38;5;241m.\u001b[39m_transform, Transform)\n\u001b[1;32m    453\u001b[0m       \u001b[38;5;129;01mand\u001b[39;00m \u001b[38;5;28mhasattr\u001b[39m(\u001b[38;5;28mself\u001b[39m\u001b[38;5;241m.\u001b[39m_transform, \u001b[38;5;124m'\u001b[39m\u001b[38;5;124m_as_mpl_transform\u001b[39m\u001b[38;5;124m'\u001b[39m)):\n\u001b[0;32m--> 454\u001b[0m     \u001b[38;5;28mself\u001b[39m\u001b[38;5;241m.\u001b[39m_transform \u001b[38;5;241m=\u001b[39m \u001b[38;5;28;43mself\u001b[39;49m\u001b[38;5;241;43m.\u001b[39;49m\u001b[43m_transform\u001b[49m\u001b[38;5;241;43m.\u001b[39;49m\u001b[43m_as_mpl_transform\u001b[49m\u001b[43m(\u001b[49m\u001b[38;5;28;43mself\u001b[39;49m\u001b[38;5;241;43m.\u001b[39;49m\u001b[43maxes\u001b[49m\u001b[43m)\u001b[49m\n\u001b[1;32m    455\u001b[0m \u001b[38;5;28;01mreturn\u001b[39;00m \u001b[38;5;28mself\u001b[39m\u001b[38;5;241m.\u001b[39m_transform\n",
      "File \u001b[0;32m~/miniforge3/envs/fvcom/lib/python3.12/site-packages/cartopy/crs.py:267\u001b[0m, in \u001b[0;36mCRS._as_mpl_transform\u001b[0;34m(self, axes)\u001b[0m\n\u001b[1;32m    265\u001b[0m \u001b[38;5;28;01mimport\u001b[39;00m \u001b[38;5;21;01mcartopy\u001b[39;00m\u001b[38;5;21;01m.\u001b[39;00m\u001b[38;5;21;01mmpl\u001b[39;00m\u001b[38;5;21;01m.\u001b[39;00m\u001b[38;5;21;01mgeoaxes\u001b[39;00m \u001b[38;5;28;01mas\u001b[39;00m \u001b[38;5;21;01mgeoaxes\u001b[39;00m\n\u001b[1;32m    266\u001b[0m \u001b[38;5;28;01mif\u001b[39;00m \u001b[38;5;129;01mnot\u001b[39;00m \u001b[38;5;28misinstance\u001b[39m(axes, geoaxes\u001b[38;5;241m.\u001b[39mGeoAxes):\n\u001b[0;32m--> 267\u001b[0m     \u001b[38;5;28;01mraise\u001b[39;00m \u001b[38;5;167;01mValueError\u001b[39;00m(\n\u001b[1;32m    268\u001b[0m         \u001b[38;5;124m'\u001b[39m\u001b[38;5;124mAxes should be an instance of GeoAxes, got \u001b[39m\u001b[38;5;132;01m%s\u001b[39;00m\u001b[38;5;124m'\u001b[39m \u001b[38;5;241m%\u001b[39m \u001b[38;5;28mtype\u001b[39m(axes)\n\u001b[1;32m    269\u001b[0m     )\n\u001b[1;32m    270\u001b[0m \u001b[38;5;28;01mreturn\u001b[39;00m (\n\u001b[1;32m    271\u001b[0m     geoaxes\u001b[38;5;241m.\u001b[39mInterProjectionTransform(\u001b[38;5;28mself\u001b[39m, axes\u001b[38;5;241m.\u001b[39mprojection) \u001b[38;5;241m+\u001b[39m\n\u001b[1;32m    272\u001b[0m     axes\u001b[38;5;241m.\u001b[39mtransData\n\u001b[1;32m    273\u001b[0m )\n",
      "\u001b[0;31mValueError\u001b[0m: Axes should be an instance of GeoAxes, got <class 'matplotlib.axes._axes.Axes'>"
     ]
    },
    {
     "data": {
      "image/png": "[encoded data removed]",
      "text/plain": [
       "<Figure size 1200x600 with 1 Axes>"
      ]
     },
     "metadata": {},
     "output_type": "display_data"
    }
   ],
   "source": [
    "# Create plot configuration and plotter\n",
    "config = FvcomPlotConfig()\n",
    "plotter = FvcomPlotter(loader.ds, config)\n",
    "\n",
    "# Create plot options for Cartesian mode\n",
    "opts = FvcomPlotOptions(\n",
    "    use_latlon=False,  # Use Cartesian coordinates for idealized grid\n",
    "    with_mesh=True,    # Show the triangular mesh\n",
    "    coastlines=False,  # No coastlines for idealized grid\n",
    "    obclines=False,    # No open boundary lines\n",
    "    mesh_linewidth=0.5,\n",
    "    mesh_color='black',\n",
    "    figsize=(12, 6)\n",
    ")\n",
    "\n",
    "pp = make_node_marker_post(\n",
    "    nodes=range(loader.ds.dims[\"node\"]),   # 全ノード番号を使う場合\n",
    "    plotter=plotter,\n",
    "    text_kwargs={\"fontsize\": 8, \"color\": \"blue\"},\n",
    "    index_base=1,                          # 1始まりの番号を表示する例\n",
    ")\n",
    "\n",
    "ax = plotter.plot_2d(da=None, opts=opts, post_process_func=pp)\n",
    "\n",
    "# Plot the mesh only (da=None means plot mesh only)\n",
    "ax = plotter.plot_2d(da=None, opts=opts, post_process_func=pp)\n",
    "\n",
    "# Add labels and title\n",
    "ax.set_xlabel('X (meters)')\n",
    "ax.set_ylabel('Y (meters)')\n",
    "ax.set_title('Idealized Channel Grid - Using FvcomPlotter')\n",
    "\n",
    "# Add grid for better visualization\n",
    "ax.grid(True, alpha=0.3)\n",
    "\n",
    "plt.tight_layout()\n",
    "plt.show()"
   ]
  },
  {
   "cell_type": "markdown",
   "metadata": {},
   "source": [
    "### Calculate element areas using the grid from loader\n",
    "```Python\n",
    "grid = loader.grid\n",
    "```\n",
    "### Get node coordinates for each element\n",
    "```Python\n",
    "x_elem = grid.x[grid.nv]  # Shape: (3, nele)\n",
    "y_elem = grid.y[grid.nv]  # Shape: (3, nele)\n",
    "```\n",
    "\n",
    "### Calculate areas using cross product\n",
    "`Area = 0.5 * |AB × AC|` where A, B, C are the three vertices\n",
    "```Python\n",
    "areas = 0.5 * np.abs(\n",
    "    (x_elem[1] - x_elem[0]) * (y_elem[2] - y_elem[0]) - \n",
    "    (x_elem[2] - x_elem[0]) * (y_elem[1] - y_elem[0])\n",
    ")\n",
    "\n",
    "print(f\"Element area statistics:\")\n",
    "print(f\"  Min area: {areas.min():.2e} m²\")\n",
    "print(f\"  Max area: {areas.max():.2e} m²\")\n",
    "print(f\"  Mean area: {areas.mean():.2e} m²\")\n",
    "print(f\"  Total area: {areas.sum():.2e} m²\")\n",
    "```"
   ]
  },
  {
   "cell_type": "markdown",
   "metadata": {},
   "source": [
    "## Plot zoomed views using FvcomPlotter\n",
    "\n",
    "We can use the `xlim` and `ylim` options to create zoomed views of the mesh."
   ]
  },
  {
   "cell_type": "code",
   "execution_count": null,
   "metadata": {},
   "outputs": [],
   "source": [
    "# Create two plots side by side\n",
    "fig, (ax1, ax2) = plt.subplots(1, 2, figsize=(16, 6))\n",
    "\n",
    "# Full mesh\n",
    "opts_full = FvcomPlotOptions(\n",
    "    use_latlon=False,\n",
    "    with_mesh=True,\n",
    "    coastlines=False,\n",
    "    obclines=False,\n",
    "    mesh_linewidth=0.3,\n",
    "    mesh_color='black'\n",
    ")\n",
    "plotter.plot_2d(da=None, ax=ax1, opts=opts_full)\n",
    "ax1.set_xlabel('X (meters)')\n",
    "ax1.set_ylabel('Y (meters)')\n",
    "ax1.set_title('Full Channel Mesh')\n",
    "ax1.grid(True, alpha=0.3)\n",
    "\n",
    "# Zoomed view\n",
    "zoom_x = [100000, 200000]  # 100 km section\n",
    "zoom_y = [150000, 250000]  # 100 km section\n",
    "\n",
    "opts_zoom = FvcomPlotOptions(\n",
    "    use_latlon=False,\n",
    "    with_mesh=True,\n",
    "    coastlines=False,\n",
    "    obclines=False,\n",
    "    mesh_linewidth=0.5,\n",
    "    mesh_color='black',\n",
    "    xlim=zoom_x,\n",
    "    ylim=zoom_y\n",
    ")\n",
    "plotter.plot_2d(da=None, ax=ax2, opts=opts_zoom)\n",
    "ax2.set_xlabel('X (meters)')\n",
    "ax2.set_ylabel('Y (meters)')\n",
    "ax2.set_title('Zoomed View of Mesh')\n",
    "ax2.grid(True, alpha=0.3)\n",
    "\n",
    "# Add rectangle on full mesh to show zoom area\n",
    "from matplotlib.patches import Rectangle\n",
    "rect = Rectangle((zoom_x[0], zoom_y[0]), \n",
    "                 zoom_x[1] - zoom_x[0], \n",
    "                 zoom_y[1] - zoom_y[0],\n",
    "                 fill=False, edgecolor='red', linewidth=2)\n",
    "ax1.add_patch(rect)\n",
    "\n",
    "plt.tight_layout()\n",
    "plt.show()"
   ]
  },
  {
   "cell_type": "markdown",
   "metadata": {},
   "source": [
    "## Save the plot"
   ]
  },
  {
   "cell_type": "code",
   "execution_count": null,
   "metadata": {},
   "outputs": [],
   "source": [
    "# Create a high-quality plot for saving\n",
    "opts_hq = FvcomPlotOptions(\n",
    "    use_latlon=False,\n",
    "    with_mesh=True,\n",
    "    coastlines=False,\n",
    "    obclines=False,\n",
    "    mesh_linewidth=0.3,\n",
    "    mesh_color='navy',\n",
    "    figsize=(14, 7)\n",
    ")\n",
    "\n",
    "ax = plotter.plot_2d(da=None, opts=opts_hq)\n",
    "\n",
    "ax.set_xlabel('X (meters)', fontsize=12)\n",
    "ax.set_ylabel('Y (meters)', fontsize=12)\n",
    "ax.set_title('Idealized Rectangular Channel Grid - FVCOM Mesh', fontsize=14)\n",
    "ax.grid(True, alpha=0.2, linestyle='--')\n",
    "\n",
    "# Save the figure\n",
    "plt.tight_layout()\n",
    "plt.savefig('chn_mesh.png', dpi=300, bbox_inches='tight')\n",
    "print(\"Mesh plot saved as 'chn_mesh.png'\")\n",
    "\n",
    "plt.show()"
   ]
  },
  {
   "cell_type": "code",
   "execution_count": null,
   "metadata": {},
   "outputs": [],
   "source": []
  }
 ],
 "metadata": {
  "kernelspec": {
   "display_name": "Python 3 (ipykernel)",
   "language": "python",
   "name": "python3"
  },
  "language_info": {
   "codemirror_mode": {
    "name": "ipython",
    "version": 3
   },
   "file_extension": ".py",
   "mimetype": "text/x-python",
   "name": "python",
   "nbconvert_exporter": "python",
   "pygments_lexer": "ipython3",
   "version": "3.12.8"
  },
  "widgets": {
   "application/vnd.jupyter.widget-state+json": {
    "state": {},
    "version_major": 2,
    "version_minor": 0
   }
  }
 },
 "nbformat": 4,
 "nbformat_minor": 4
}
