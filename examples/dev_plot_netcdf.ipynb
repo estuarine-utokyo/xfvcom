{
 "cells": [
  {
   "cell_type": "markdown",
   "id": "ae521449-dd81-44e3-b972-cd6b6b7f6034",
   "metadata": {},
   "source": [
    "# Plot FVCOM netcdf files\n",
    "**Author: Jun Sasaki Coded on 2024-12-26 Updated on 2024-12-29**<br>\n",
    "Checking input netcdf files by creating a new xfvcom.py, which should be published as a package."
   ]
  },
  {
   "cell_type": "code",
   "execution_count": null,
   "id": "2fd50d5f-7847-4e3e-9fc4-f1e6c3a58362",
   "metadata": {},
   "outputs": [],
   "source": [
    "import xarray as xr\n",
    "import os\n",
    "from xfvcom import FvcomDataLoader, FvcomAnalyzer, FvcomPlotConfig, FvcomPlotter\n",
    "import numpy as np\n",
    "import matplotlib.pyplot as plt\n",
    "import matplotlib\n",
    "import pandas as pd\n",
    "from math import ceil"
   ]
  },
  {
   "cell_type": "markdown",
   "id": "47bc8c50-e089-4235-abad-ce849f20e827",
   "metadata": {},
   "source": [
    "## Plot output netcdf"
   ]
  },
  {
   "cell_type": "code",
   "execution_count": null,
   "id": "ef3cb343-6840-4418-a9f8-22fbce40a275",
   "metadata": {},
   "outputs": [],
   "source": [
    "base_path = \"~/Github/TB-FVCOM/goto2023/output\"\n",
    "base_path = os.path.expanduser(base_path)\n",
    "ncfiles = [\"TokyoBay18_r16_crossed_0001.nc\"]\n",
    "index_ncfile=0\n",
    "ncfile_path = f\"{base_path}/{ncfiles[index_ncfile]}\"\n",
    "ofc = FvcomDataLoader(ncfile_path=ncfile_path, time_tolerance=5)\n",
    "ofc.ds"
   ]
  },
  {
   "cell_type": "code",
   "execution_count": null,
   "id": "c60940ae-5174-419d-ade9-8bac1ada1dff",
   "metadata": {},
   "outputs": [],
   "source": [
    "start=None; end=None\n",
    "index=1  # node or nele number\n",
    "k=0 # siglay or siglev number\n",
    "plot_config = FvcomPlotConfig(width=8, height=2)\n",
    "plotter = FvcomPlotter(ofc.ds, plot_config)\n",
    "var_name = 'viscofm'\n",
    "save_path = f\"plot_{var_name}.png\"\n",
    "plotter.plot_timeseries(var_name, log=True, index=index, k=k,start=start, end=end, save_path=save_path)"
   ]
  },
  {
   "cell_type": "code",
   "execution_count": null,
   "id": "49d4caca-ef83-41c5-9d0b-37363610f7e6",
   "metadata": {},
   "outputs": [],
   "source": [
    "plotter = FvcomPlotter(ofc.ds, plot_config)\n",
    "var_name = 'temp'\n",
    "save_path = f\"plot_{var_name}.png\"\n",
    "ax=plotter.plot_timeseries_2d(var_name, index=index, start=start, end=end, ylim=(-4,0), depth=True,\n",
    "                              #levels=[9.8, 9.85, 9.9, 9.95, 10.0, 10.05, 10.1, 10.15],\n",
    "                              rolling_window=0, cmap=\"coolwarm\", vmin=None, vmax=10.2,\n",
    "                              method='contourf', add_contour=False, label_contours=False,\n",
    "                              save_path=save_path)"
   ]
  },
  {
   "cell_type": "markdown",
   "id": "af500aba-b75b-4f0b-b434-303beabb2476",
   "metadata": {},
   "source": [
    "## Plot input netcdf files"
   ]
  },
  {
   "cell_type": "code",
   "execution_count": null,
   "id": "30faf616-6360-4ada-aad7-6b7eb00b3b3e",
   "metadata": {},
   "outputs": [],
   "source": [
    "base_path = \"~/Github/TB-FVCOM/goto_dye/input/input_steady/2020\"\n",
    "base_path = os.path.expanduser(base_path)\n",
    "ncfiles = [\"TokyoBay18_2020_wnd.nc\",\"TokyoBay2020final_tsobc.nc\", \"TokyoBay2020julian_obc.nc\",\n",
    "           \"TokyoBay2020kisarazufinal_sewer.nc\", \"TokyoBay2020final_river.nc\",\n",
    "           \"TokyoBay2020final_sewer.nc\"]\n",
    "index_ncfiles=0\n",
    "ncfile_path = f\"{base_path}/{ncfiles[index_ncfile]}\"\n",
    "fvcom = FvcomDataLoader(ncfile_path=ncfile_path, time_tolerance=5)\n",
    "fvcom.ds"
   ]
  },
  {
   "cell_type": "code",
   "execution_count": null,
   "id": "d404aecf-cb01-4b3d-8bbd-0252fadf52a5",
   "metadata": {},
   "outputs": [],
   "source": [
    "start='2020-01-01'; end='2020-01-20'"
   ]
  },
  {
   "cell_type": "code",
   "execution_count": null,
   "id": "67de2aff-226b-4200-aa84-27c46a5d5ea6",
   "metadata": {},
   "outputs": [],
   "source": [
    "plot_config = FvcomPlotConfig(width=8, height=2)\n",
    "plotter = FvcomPlotter(fvcom.ds, plot_config)\n",
    "var_name = 'elevation'\n",
    "save_path = f\"plot_{var_name}.png\"\n",
    "plotter.plot_timeseries(var_name, 1, start=start, end=end, save_path=save_path)"
   ]
  },
  {
   "cell_type": "code",
   "execution_count": null,
   "id": "08ca8702-ceda-4280-9609-81032530b747",
   "metadata": {},
   "outputs": [],
   "source": [
    "plot_config = FvcomPlotConfig(width=8, height=2)\n",
    "plotter = FvcomPlotter(fvcom.ds, plot_config)\n",
    "# ノード0の風速ベクトル時系列を2020年1月1日から12月31日までプロット\n",
    "plotter.plot_wind_vector_timeseries(nele=0, start=start, end=end, rolling_window=25,\n",
    "                                    save_path=\"wind_vector_plot.png\"\n",
    "                                   )"
   ]
  },
  {
   "cell_type": "code",
   "execution_count": null,
   "id": "e131aa48-a483-4149-a2a9-e82426c10d84",
   "metadata": {},
   "outputs": [],
   "source": [
    "plot_config = FvcomPlotConfig(width=8, height=2)\n",
    "plotter = FvcomPlotter(fvcom.ds, plot_config)\n",
    "ax=plotter.plot_timeseries('long_wave', index=0, start=start, end=end, rolling_window=25)"
   ]
  },
  {
   "cell_type": "code",
   "execution_count": null,
   "id": "79e002e8-88ce-4950-b169-dc5335c286ac",
   "metadata": {},
   "outputs": [],
   "source": [
    "analyzer=FvcomAnalyzer(fvcom.ds)\n",
    "vars = analyzer.get_variables_by_dims((\"time\", \"node\"))\n",
    "print(vars)"
   ]
  },
  {
   "cell_type": "code",
   "execution_count": null,
   "id": "262cf7de-bb48-4810-9e71-586dfdf22490",
   "metadata": {},
   "outputs": [],
   "source": [
    "plot_config = FvcomPlotConfig(figsize=(8, 2))\n",
    "plotter = FvcomPlotter(fvcom.ds, plot_config)\n",
    "\n",
    "# HelperMixin のメソッドを利用\n",
    "plotter.plot_timeseries_in_batches(\n",
    "    plotter=plotter,\n",
    "    vars=vars,\n",
    "    index=0,\n",
    "    batch_size=5,\n",
    "    start=start,\n",
    "    end=end,\n",
    "    rolling_window=25,\n",
    "    save_prefix=\"time_node\"\n",
    ")"
   ]
  },
  {
   "cell_type": "code",
   "execution_count": null,
   "id": "6d6f9e53-1f53-485b-84d0-61c0fbbff4a7",
   "metadata": {},
   "outputs": [],
   "source": [
    "vars = analyzer.get_variables_by_dims((\"time\", \"nele\"))\n",
    "print(vars)"
   ]
  },
  {
   "cell_type": "code",
   "execution_count": null,
   "id": "6d163668-d7d5-49b5-9acc-10a31cea495d",
   "metadata": {},
   "outputs": [],
   "source": [
    "plot_config = FvcomPlotConfig(figsize=(8, 2))\n",
    "plotter = FvcomPlotter(fvcom.ds, plot_config)\n",
    "\n",
    "# HelperMixin のメソッドを利用\n",
    "plotter.plot_timeseries_in_batches(\n",
    "    plotter=plotter,\n",
    "    vars=vars,\n",
    "    index=0,\n",
    "    batch_size=5,\n",
    "    start=start,\n",
    "    end=end,\n",
    "    rolling_window=25,\n",
    "    save_prefix=\"time_nele\"\n",
    ")"
   ]
  },
  {
   "cell_type": "code",
   "execution_count": null,
   "id": "218c3ace-7ab7-44fb-838e-353caaf4cd4b",
   "metadata": {},
   "outputs": [],
   "source": [
    "plot_config = FvcomPlotConfig(figsize=(8, 2))\n",
    "plotter = FvcomPlotter(fvcom.ds, plot_config)\n",
    "\n",
    "plotter.plot_timeseries_for_river(\n",
    "    var_name=\"river_flux\",\n",
    "    river_index=0,\n",
    "    start=start,\n",
    "    end=end,\n",
    "    rolling_window=25,\n",
    "    save_path=\"river_discharge.png\"\n",
    ")"
   ]
  },
  {
   "cell_type": "code",
   "execution_count": null,
   "id": "d5653a88-3497-40b0-9ae6-bc4121eb9085",
   "metadata": {},
   "outputs": [],
   "source": [
    "plot_config = FvcomPlotConfig(figsize=(8, 2))\n",
    "plotter = FvcomPlotter(fvcom.ds, plot_config)\n",
    "var_name='river_temp'\n",
    "# HelperMixin のメソッドを利用\n",
    "plotter.plot_timeseries_for_river_in_batches(\n",
    "    plotter=plotter,\n",
    "    var_name=var_name,\n",
    "    batch_size=5,\n",
    "    start=start,\n",
    "    end=end,\n",
    "    rolling_window=25,\n",
    "    save_prefix=var_name\n",
    ")"
   ]
  },
  {
   "cell_type": "markdown",
   "id": "342cc61c-b3e0-417d-9f57-59f5cd1bf587",
   "metadata": {},
   "source": [
    "## Example for input netcdf files"
   ]
  },
  {
   "cell_type": "code",
   "execution_count": null,
   "id": "8b28f00a-26c5-4f74-a85d-0837ef5b88cb",
   "metadata": {},
   "outputs": [],
   "source": [
    "base_path = \"~/Github/TB-FVCOM/goto2023/input\"\n",
    "base_path = os.path.expanduser(base_path)\n",
    "ncfiles = [\"TokyoBay_tsobc.nc\", \"TokyoBay_julian_obc.nc\",\"TokyoBayfinal_river.nc\", \"TokyoBayfinal16_river.nc\",\n",
    "           \"TokyoBay18_z0.nc\", \"TokyoBay18_wnd.nc\",\n",
    "           \"TokyoBay2020final_sewer.nc\"]\n",
    "index_ncfiles=5\n",
    "ncfile_path = f\"{base_path}/{ncfiles[index_ncfile]}\"\n",
    "ifc = FvcomDataLoader(ncfile_path=ncfile_path, time_tolerance=5)\n",
    "ifc.ds"
   ]
  },
  {
   "cell_type": "markdown",
   "id": "e638f516-8c95-420a-95f5-fe811e3f6679",
   "metadata": {},
   "source": [
    "## Compare with meteorological data\n",
    "- Needs to install metdata; see [GitHub](https://github.com/jsasaki-utokyo/metdata)"
   ]
  },
  {
   "cell_type": "code",
   "execution_count": null,
   "id": "cc8ce0f7-2fbe-41b1-847c-4150da6a684f",
   "metadata": {},
   "outputs": [],
   "source": [
    "from metdata import gwo\n",
    "\n",
    "datetime_ini = \"2020-01-01 00:00:00\"\n",
    "datetime_end = \"2021-01-01 00:00:00\"\n",
    "stn = \"Chiba\"\n",
    "base_path = \"/mnt/c/dat/met/JMA_DataBase/GWO/Hourly/\"\n",
    "\n",
    "met = gwo.Hourly(datetime_ini=datetime_ini, datetime_end=datetime_end, stn=stn, dirpath=base_path)\n",
    "met.df.head()  # pandas.DataFrame"
   ]
  },
  {
   "cell_type": "code",
   "execution_count": null,
   "id": "026a5212-d008-49d6-ad2d-6f56a518723f",
   "metadata": {},
   "outputs": [],
   "source": [
    "met_ds = xr.Dataset.from_dataframe(met.df)\n",
    "met_ds = met_ds.rename_dims({\"index\": \"time\"}).rename_vars({\"index\": \"time\"})\n",
    "met_ds"
   ]
  },
  {
   "cell_type": "code",
   "execution_count": null,
   "id": "fd6391d1-4a30-4289-a7b4-37d6053c3784",
   "metadata": {},
   "outputs": [],
   "source": [
    "plot_config = FvcomPlotConfig(width=8, height=2)\n",
    "plotter = FvcomPlotter(met_ds, plot_config)\n",
    "start='2020-01-01'; end='2020-01-31'\n",
    "plotter.plot_wind_vector_timeseries(u_var='u', v_var='v', nele=None, start=start, end=end, rolling_window=1,\n",
    "                                    save_path=\"wind_vector_plot.png\")"
   ]
  },
  {
   "cell_type": "code",
   "execution_count": null,
   "id": "3528b845-6603-4615-a088-bb9f6ed35feb",
   "metadata": {},
   "outputs": [],
   "source": [
    "plot_config = FvcomPlotConfig(width=8, height=2)\n",
    "plotter = FvcomPlotter(ifc.ds, plot_config)\n",
    "# ノード0の風速ベクトル時系列を2020年1月1日から12月31日までプロット\n",
    "plotter.plot_wind_vector_timeseries(nele=0, start=start, end=end, rolling_window=1,\n",
    "                                    save_path=\"wind_vector_plot.png\")"
   ]
  },
  {
   "cell_type": "code",
   "execution_count": null,
   "id": "4b7c3a83-54e4-40cf-aa37-c5ad32916423",
   "metadata": {},
   "outputs": [],
   "source": []
  }
 ],
 "metadata": {
  "kernelspec": {
   "display_name": "Python 3 (ipykernel)",
   "language": "python",
   "name": "python3"
  },
  "language_info": {
   "codemirror_mode": {
    "name": "ipython",
    "version": 3
   },
   "file_extension": ".py",
   "mimetype": "text/x-python",
   "name": "python",
   "nbconvert_exporter": "python",
   "pygments_lexer": "ipython3",
   "version": "3.11.9"
  },
  "widgets": {
   "application/vnd.jupyter.widget-state+json": {
    "state": {},
    "version_major": 2,
    "version_minor": 0
   }
  }
 },
 "nbformat": 4,
 "nbformat_minor": 5
}
