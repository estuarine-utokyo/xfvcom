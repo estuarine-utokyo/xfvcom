{
 "cells": [
  {
   "cell_type": "code",
   "execution_count": null,
   "id": "fd523fff-08bd-424b-9c7b-90fbc6569089",
   "metadata": {},
   "outputs": [],
   "source": [
    "from xfvcom import FvcomDataLoader, FvcomPlotConfig, FvcomPlotter\n",
    "from xfvcom.helpers import FrameGenerator, create_gif\n",
    "import pandas as pd"
   ]
  },
  {
   "cell_type": "code",
   "execution_count": null,
   "id": "e62c3f29-8de1-40ab-955e-50166ce99cef",
   "metadata": {},
   "outputs": [],
   "source": [
    "def add_custom_plot(ax):\n",
    "    ax.set_title(\"Title with Custom Plot\")"
   ]
  },
  {
   "cell_type": "code",
   "execution_count": null,
   "id": "be31f81c-02de-49b2-937f-b4486f1dab6c",
   "metadata": {},
   "outputs": [],
   "source": [
    "# Loading FVCOM output netcdf\n",
    "base_path = \"~/Github/TB-FVCOM/goto2023/output\"\n",
    "# List of netcdf files convenient to switch to another netcdf by specifying its index\n",
    "ncfiles = [\"TokyoBay18_r16_crossed_0001.nc\"]\n",
    "index_ncfile = 0\n",
    "fvcom = FvcomDataLoader(base_path=base_path, ncfile=ncfiles[index_ncfile], time_tolerance=5)\n",
    "\n",
    "# Set up FvcomPlotter\n",
    "plotter = FvcomPlotter(fvcom.ds, FvcomPlotConfig(figsize=(6, 8)))\n",
    "\n",
    "var_name = \"salinity\"\n",
    "plot_kwargs={\"verbose\": False, \"vmin\": 10, \"vmax\": 20, \"levels\": [9.5, 10, 10.5, 11, 11.5, 12, 12.5, 13, 13.5, 14, 15, 16, 17, 18, 19, 20]}\n",
    "plot_kwargs={\"verbose\": False, \"vmin\": 28, \"vmax\": 34, \"levels\": 20}\n",
    "plot_kwargs={}\n",
    "\n",
    "da = fvcom.ds[var_name].isel(siglay=0)\n",
    "start_date = da.time.isel(time=0).values\n",
    "start_date = pd.to_datetime(start_date).strftime(\"%Y%m%d\")\n",
    "end_date = da.time.isel(time=-1).values\n",
    "end_date = pd.to_datetime(end_date).strftime(\"%Y%m%d\")\n",
    "\n",
    "suffix = \"_frame\"\n",
    "len_suffix = len(suffix)\n",
    "base_name = f\"{da.long_name}_{start_date}-{end_date}{suffix}\"\n",
    "\n",
    "# Generate movie frames using helper methods in helpers.py\n",
    "output_dir = \"frames\"\n",
    "\n",
    "frames = FrameGenerator.generate_frames(data_array=da, output_dir=output_dir, plotter=plotter, base_name=base_name,\n",
    "    post_process_func=add_custom_plot, plot_kwargs=plot_kwargs)\n",
    "\n",
    "# Create GIF animation\n",
    "output_gif = f\"{base_name[:-len_suffix]}.gif\"\n",
    "plotter.create_gif(frames, output_gif, fps=10)"
   ]
  },
  {
   "cell_type": "markdown",
   "id": "7a344811-08aa-4cfe-8fdd-aac8b0d7a9b8",
   "metadata": {},
   "source": [
    "## Example with customizing `plot_data`"
   ]
  },
  {
   "cell_type": "code",
   "execution_count": null,
   "id": "a37ea9f6-855f-4158-a229-c0432332c272",
   "metadata": {},
   "outputs": [],
   "source": [
    "class CustomFrameGenerator(FrameGenerator):\n",
    "    @staticmethod\n",
    "    def plot_data(data_array, time, plotter, save_path, post_process_func=None, plot_kwargs=plot_kwargs):\n",
    "        \"\"\"\n",
    "        Custom data plotting logic.\n",
    "        \"\"\"\n",
    "        if post_process_func is not None:\n",
    "            raise ValueError(\"post_process_func is not allowed to be defined as it must be defined in plot_data in class CustomFrameGenerator.\")\n",
    "        # Retreive DataArray\n",
    "        da = data_array.isel(time=time)\n",
    "\n",
    "        datetime = pd.Timestamp(da.time.item()).strftime('%Y-%m-%d %H:%M:%S')\n",
    "        print(datetime)\n",
    "        def add_custom_plot(ax):\n",
    "            \"\"\"\n",
    "            Custom plot function to modify ax\n",
    "            \"\"\"\n",
    "            ax.set_title(datetime)\n",
    "            return ax\n",
    "        \n",
    "        plotter.plot_2d(da=da, save_path=save_path, post_process_func=add_custom_plot, **plot_kwargs)\n",
    "\n",
    "    @staticmethod\n",
    "    def generate_frame(args):\n",
    "        \"\"\"\n",
    "        Reuse the parent class's generate_frame method.\n",
    "        \"\"\"\n",
    "        # 親クラスのgenerate_frameを呼び出し\n",
    "        return super(CustomFrameGenerator, CustomFrameGenerator).generate_frame(args)\n"
   ]
  },
  {
   "cell_type": "code",
   "execution_count": null,
   "id": "dab3185e-d79d-4eaf-aef1-75885ddf8dbb",
   "metadata": {},
   "outputs": [],
   "source": [
    "#from custom_helpers import CustomFrameGenerator  # カスタムクラス\n",
    "\n",
    "# 必要なデータを準備\n",
    "# Loading FVCOM output netcdf\n",
    "base_path = \"~/Github/TB-FVCOM/goto2023/output\"\n",
    "# List of netcdf files convenient to switch to another netcdf by specifying its index\n",
    "ncfiles = [\"TokyoBay18_r16_crossed_0001.nc\"]\n",
    "index_ncfile = 0\n",
    "fvcom = FvcomDataLoader(base_path=base_path, ncfile=ncfiles[index_ncfile], time_tolerance=5)\n",
    "\n",
    "# Set up FvcomPlotter\n",
    "plotter = FvcomPlotter(fvcom.ds, FvcomPlotConfig(figsize=(6, 8)))\n",
    "\n",
    "var_name = \"salinity\"\n",
    "plot_kwargs={\"verbose\": False, \"vmin\": 10, \"vmax\": 20, \"levels\": [9.5, 10, 10.5, 11, 11.5, 12, 12.5, 13, 13.5, 14, 15, 16, 17, 18, 19, 20]}\n",
    "plot_kwargs={\"verbose\": False, \"vmin\": 28, \"vmax\": 34, \"levels\": 20}\n",
    "#plot_kwargs={}\n",
    "\n",
    "da = fvcom.ds[var_name].isel(siglay=0)\n",
    "start_date = da.time.isel(time=0).values\n",
    "start_date = pd.to_datetime(start_date).strftime(\"%Y%m%d\")\n",
    "end_date = da.time.isel(time=-1).values\n",
    "end_date = pd.to_datetime(end_date).strftime(\"%Y%m%d\")\n",
    "\n",
    "suffix = \"_frame\"\n",
    "len_suffix = len(suffix)\n",
    "base_name = f\"{da.long_name}_{start_date}-{end_date}{suffix}\"\n",
    "\n",
    "# Generate movie frames using helper methods in helpers.py\n",
    "output_dir = \"frames\"\n",
    "\n",
    "# カスタムフレームジェネレータを使ってフレームを生成\n",
    "frames = CustomFrameGenerator.generate_frames(\n",
    "    data_array=da, output_dir=output_dir, plotter=plotter, base_name=base_name,\n",
    "    post_process_func=None, **plot_kwargs)\n",
    "\n",
    "# Create GIF animation\n",
    "output_gif = f\"{base_name[:-len_suffix]}.gif\"\n",
    "create_gif(frames, output_gif, fps=10)"
   ]
  },
  {
   "cell_type": "code",
   "execution_count": null,
   "id": "f7c0cce9-f9c8-4493-86a5-5ddc366e66df",
   "metadata": {},
   "outputs": [],
   "source": []
  },
  {
   "cell_type": "code",
   "execution_count": null,
   "id": "42638082-35ef-4d90-a6b0-72c6dfc18ce0",
   "metadata": {},
   "outputs": [],
   "source": [
    "da.time[0]"
   ]
  },
  {
   "cell_type": "code",
   "execution_count": null,
   "id": "447f9f9f-6595-4aa7-b89f-67adb347f43e",
   "metadata": {},
   "outputs": [],
   "source": []
  }
 ],
 "metadata": {
  "kernelspec": {
   "display_name": "Python 3 (ipykernel)",
   "language": "python",
   "name": "python3"
  },
  "language_info": {
   "codemirror_mode": {
    "name": "ipython",
    "version": 3
   },
   "file_extension": ".py",
   "mimetype": "text/x-python",
   "name": "python",
   "nbconvert_exporter": "python",
   "pygments_lexer": "ipython3",
   "version": "3.12.8"
  },
  "widgets": {
   "application/vnd.jupyter.widget-state+json": {
    "state": {},
    "version_major": 2,
    "version_minor": 0
   }
  }
 },
 "nbformat": 4,
 "nbformat_minor": 5
}
