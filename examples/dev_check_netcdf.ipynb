{
 "cells": [
  {
   "cell_type": "markdown",
   "id": "3e5d46d5-bdb4-48f1-a900-127ab795f6bd",
   "metadata": {},
   "source": [
    "# Check input files\n",
    "**Author: Jun Sasaki  Coded on 2024-12-26  Updated on 2024-12-29**<br>\n",
    "Checking input netcdf files"
   ]
  },
  {
   "cell_type": "code",
   "execution_count": null,
   "id": "3b10d7ca-72de-4e7c-819f-14ee12b4ae3a",
   "metadata": {},
   "outputs": [],
   "source": [
    "import xarray as xr\n",
    "import os\n",
    "#from xfvcom import Fvcom, FvcomPlotConfig, FvcomDataArray, FvcomPlotter\n",
    "from xfvcom import FvcomDataLoader, FvcomAnalyzer, FvcomPlotConfig, FvcomPlotter\n",
    "import numpy as np\n",
    "import matplotlib.pyplot as plt\n",
    "import pandas as pd"
   ]
  },
  {
   "cell_type": "code",
   "execution_count": null,
   "id": "642d0c9d-06df-4c78-ae70-b1a9bf5ef82c",
   "metadata": {},
   "outputs": [],
   "source": [
    "def get_index_by_value(array, value):\n",
    "    \"\"\"\n",
    "    指定された値のインデックスを返す関数\n",
    "\n",
    "    Parameters:\n",
    "        array (list or numpy.ndarray): 検索対象の配列（重複なし）\n",
    "        value (int or float): 検索する値\n",
    "\n",
    "    Returns:\n",
    "        int: 配列内の値のインデックス（0から始まる）\n",
    "    \"\"\"\n",
    "    try:\n",
    "        # リストの場合\n",
    "        return array.index(value)\n",
    "    except AttributeError:\n",
    "        # NumPy配列の場合\n",
    "        index_array = np.where(array == value)[0]\n",
    "        if index_array.size > 0:\n",
    "            return int(index_array[0])  # 最初のインデックスを返す\n",
    "        else:\n",
    "            raise ValueError(f\"{value} は配列内に存在しません。\")\n",
    "    except ValueError:\n",
    "        raise ValueError(f\"{value} は配列内に存在しません。\")"
   ]
  },
  {
   "cell_type": "code",
   "execution_count": null,
   "id": "be04031c-999e-4ca5-8852-a4ef0737c1ba",
   "metadata": {},
   "outputs": [],
   "source": [
    "'''\n",
    "def get_ncpath(indir, ncfile):\n",
    "    indir = os.path.expanduser(indir)\n",
    "    ncpath= f\"{indir}/{ncfile}\"\n",
    "    if os.path.isfile(ncpath):\n",
    "        return ncpath\n",
    "    else:\n",
    "        print(f\"ERROR: File not found: {ncpath}\")\n",
    "        return None\n",
    "'''"
   ]
  },
  {
   "cell_type": "code",
   "execution_count": null,
   "id": "056b1d3f-f913-4184-aca8-8f06ef4eca6e",
   "metadata": {},
   "outputs": [],
   "source": [
    "indir = \"~/Github/TB-FVCOM/goto_dye/input/input_steady/2020\"\n",
    "ncfile = \"obc_dye2020.nc\""
   ]
  },
  {
   "cell_type": "code",
   "execution_count": null,
   "id": "be73bd09-6beb-411a-af18-db0670417079",
   "metadata": {},
   "outputs": [],
   "source": [
    "#ncfile = \"TokyoBay18_2020_wnd.nc\"\n",
    "#obc_dye2020 = Fvcom(dirpath=indir, ncfile=ncfile)\n",
    "obc_dye2020 = FvcomDataLoader(indir, ncfile, time_tolerance=5)"
   ]
  },
  {
   "cell_type": "code",
   "execution_count": null,
   "id": "1bd75431-6493-4ed4-831a-a93d0841b0bb",
   "metadata": {
    "scrolled": true
   },
   "outputs": [],
   "source": [
    "obc_dye2020.ds"
   ]
  },
  {
   "cell_type": "code",
   "execution_count": null,
   "id": "0a7b83e9-ea4d-45db-8d61-3577dc56a7d0",
   "metadata": {},
   "outputs": [],
   "source": [
    "obc_nodes = obc_dye2020.ds.obc_nodes.values\n",
    "print(f\"obc_nodes={obc_nodes}\")"
   ]
  },
  {
   "cell_type": "code",
   "execution_count": null,
   "id": "5c975c11-56ce-472b-a07a-ffea2a59000f",
   "metadata": {},
   "outputs": [],
   "source": [
    "obc_node = 3150\n",
    "obc_dye = obc_dye2020.ds['obc_dye']\n",
    "obc_h = obc_dye2020.ds['obc_h']\n",
    "obc_node_index = get_index_by_value(obc_nodes, obc_node)\n",
    "time = obc_dye2020.ds['time']\n",
    "siglay = obc_dye2020.ds['siglay'][:, obc_node_index]\n",
    "dye_concentration = obc_dye[:, :, obc_node_index]\n",
    "time_grid, siglay_grid = np.meshgrid(time, siglay)"
   ]
  },
  {
   "cell_type": "code",
   "execution_count": null,
   "id": "bd505f9c-8af8-441f-949d-35be0c23e4e0",
   "metadata": {},
   "outputs": [],
   "source": [
    "plt.figure(figsize=(10, 3))\n",
    "plt.contourf(time_grid, siglay_grid, dye_concentration.T, cmap='viridis', levels=20)\n",
    "plt.colorbar(label=\"Dye Concentration\")\n",
    "plt.xlabel(\"Time\")\n",
    "plt.ylabel(\"Sigma Layer Depth (siglay)\")\n",
    "plt.title(f\"Dye Concentration at Open Boundary Node {obc_node}\")\n",
    "plt.xticks(rotation=45)\n",
    "plt.tight_layout()\n",
    "pngfile = f\"dye_concentration_at_open_bound_node_{obc_node}.png\"\n",
    "plt.savefig(pngfile, dpi=300, bbox_inches='tight')\n",
    "plt.show()"
   ]
  },
  {
   "cell_type": "code",
   "execution_count": null,
   "id": "e97072e6-c2a9-432a-845b-8338d441bb49",
   "metadata": {},
   "outputs": [],
   "source": [
    "selected_time = '2020-01-01'\n",
    "selected_time = np.datetime64(selected_time)\n",
    "dye_profile = obc_dye.sel(time=selected_time, method='nearest')\n",
    "depth = siglay * obc_h  # 各ノードごとの水深を計算\n",
    "depth = depth.transpose('siglay', 'nobc') \n",
    "nobc_indices = np.tile(obc_h.nobc.values, (len(siglay), 1)) \n",
    "nobc_numbers = np.tile(obc_nodes, (len(siglay),1))\n",
    "siglay_grid = np.tile(siglay.values[:, None], (1, len(obc_nodes)))"
   ]
  },
  {
   "cell_type": "code",
   "execution_count": null,
   "id": "55c15218-9b12-40ef-be39-006d7dffb5a9",
   "metadata": {},
   "outputs": [],
   "source": [
    "plt.close()\n",
    "yaxis_siglay=False\n",
    "plt.figure(figsize=(10, 3))\n",
    "if yaxis_siglay:\n",
    "    plt.contourf(\n",
    "        nobc_indices, siglay_grid, dye_profile.values, levels=20, cmap='viridis'\n",
    "    )\n",
    "else:\n",
    "    plt.contourf(\n",
    "        nobc_indices, depth, dye_profile.values, levels=20, cmap='viridis'\n",
    "    )\n",
    "plt.colorbar(label=\"Dye Concentration\")\n",
    "plt.xlabel(\"Boundary Node Index\")\n",
    "plt.ylabel(\"Depth (m)\")\n",
    "plt.title(f\"Dye Concentration Cross-Section on {selected_time}\")\n",
    "plt.gca().invert_yaxis()  # 水深を正の方向に（深くなるほど下へ）\n",
    "#plt.grid(True)\n",
    "plt.tight_layout()\n",
    "plt.show()"
   ]
  },
  {
   "cell_type": "code",
   "execution_count": null,
   "id": "45217bb6-e1e9-4bad-b42e-7d1da44e75bd",
   "metadata": {},
   "outputs": [],
   "source": [
    "import holoviews as hv\n",
    "import panel as pn\n",
    "import hvplot.xarray\n",
    "from datetime import datetime\n",
    "hv.extension('bokeh')\n",
    "pn.extension()"
   ]
  },
  {
   "cell_type": "code",
   "execution_count": null,
   "id": "3e0f51b2-8f3d-4e69-9b95-73bad9f08945",
   "metadata": {},
   "outputs": [],
   "source": [
    "ds = obc_dye2020.ds.copy()"
   ]
  },
  {
   "cell_type": "code",
   "execution_count": null,
   "id": "bfeac881-945e-4862-96a0-7fdace2f87b4",
   "metadata": {},
   "outputs": [],
   "source": [
    "node_select = pn.widgets.Select(\n",
    "    name='Node Index',\n",
    "    options=list(range(ds.sizes['nobc'])),  # 0〜12\n",
    "    value=0\n",
    ")\n",
    "\n",
    "def plot_time_siglay(node):\n",
    "    \"\"\"\n",
    "    指定したノードの染料濃度を時系列とsiglayに基づいてヒートマップとしてプロットします。\n",
    "    \"\"\"\n",
    "    # 指定したノードのデータを抽出（nobcを削除）\n",
    "    dye_profile = ds['obc_dye'].isel(nobc=node, drop=True)  # (time, siglay)\n",
    "    \n",
    "    # プロットは 'time' vs 'siglay'\n",
    "    heatmap = dye_profile.hvplot.quadmesh(\n",
    "        x='time',\n",
    "        y='siglay',\n",
    "        cmap='viridis',\n",
    "        colorbar=True,\n",
    "        title=f\"Dye Concentration at Node {node} Over Time\",\n",
    "        xlabel='Time',\n",
    "        ylabel='Sigma Layer'\n",
    "    )\n",
    "    \n",
    "    return heatmap\n",
    "\n",
    "# 動的なプロットを作成\n",
    "#interactive_plot1 = pn.bind(plot_time_siglay, node=node_select)\n",
    "\n",
    "# レイアウトの作成\n",
    "#layout1 = pn.Column(\n",
    "#    \"# Dye Concentration Over Time\",\n",
    "#    node_select,\n",
    "#    interactive_plot1\n",
    "#)"
   ]
  },
  {
   "cell_type": "code",
   "execution_count": null,
   "id": "bd52000b-487e-4b1e-a5a3-ae11c398b641",
   "metadata": {},
   "outputs": [],
   "source": [
    "interactive_plot1 = pn.bind(plot_time_siglay, node=node_select)\n",
    "\n",
    "# レイアウトの作成\n",
    "layout1 = pn.Column(\n",
    "    \"### Dye Concentration Over Time\",\n",
    "    node_select,\n",
    "    interactive_plot1\n",
    ")"
   ]
  },
  {
   "cell_type": "code",
   "execution_count": null,
   "id": "add8c55a-5f73-457a-b464-cae70d26da36",
   "metadata": {},
   "outputs": [],
   "source": [
    "final_layout = pn.Row(layout1)"
   ]
  },
  {
   "cell_type": "code",
   "execution_count": null,
   "id": "20e96752-09d1-4476-bc58-8ee376f750c6",
   "metadata": {},
   "outputs": [],
   "source": [
    "final_layout"
   ]
  },
  {
   "cell_type": "code",
   "execution_count": null,
   "id": "e96d4f62-8b23-4b42-9889-4afbfa995988",
   "metadata": {},
   "outputs": [],
   "source": [
    "# 時間選択用のウィジェット\n",
    "time_options = [pd.to_datetime(t).strftime('%Y-%m-%d %H:%M') for t in ds['time'].values]\n",
    "\n",
    "time_select = pn.widgets.DiscreteSlider(\n",
    "    name='Time',\n",
    "    options=time_options,  # 文字列形式のリスト\n",
    "    value=time_options[0]\n",
    ")\n",
    "\n",
    "def plot_node_depth(time):\n",
    "    \"\"\"\n",
    "    指定した時間の染料濃度をノードインデックスと水深に基づいてヒートマップとしてプロットします。\n",
    "    \"\"\"\n",
    "    # 選択された時間を np.datetime64 に変換\n",
    "    time_np = np.datetime64(time)\n",
    "    \n",
    "    # 指定した時間のデータを抽出\n",
    "    dye_profile = ds['obc_dye'].sel(time=time_np)  # (siglay, nobc)\n",
    "    \n",
    "    # ノードインデックスを0〜12に設定\n",
    "    node_indices = np.arange(ds.sizes['nobc'])\n",
    "    dye_profile = dye_profile.assign_coords(node_index=('nobc', node_indices))\n",
    "    \n",
    "    # siglayとobc_hを取得\n",
    "    # siglayは (siglay, nobc) だが、全ノードで同じと仮定\n",
    "    siglay_1d = ds['siglay'].isel(nobc=0).values  # (30,)\n",
    "    obc_h_values = ds['obc_h'].values  # (13,)\n",
    "    \n",
    "    # 水深を計算: depth = siglay * obc_h\n",
    "    depth = siglay_1d[:, np.newaxis] * obc_h_values  # shape (30,13)\n",
    "    \n",
    "    # depthを座標として追加\n",
    "    dye_profile = dye_profile.assign_coords(depth=(['siglay', 'nobc'], depth))\n",
    "\n",
    "    max_depth = depth.max()\n",
    "    min_depth = depth.min()\n",
    "    \n",
    "    # プロット\n",
    "    heatmap = dye_profile.hvplot.quadmesh(\n",
    "        x='node_index',\n",
    "        y='depth',\n",
    "        cmap='viridis',\n",
    "        colorbar=True,\n",
    "        title=f\"Dye Concentration at Time {time} by Depth\",\n",
    "        xlabel='Node Index',\n",
    "        ylabel='Depth (m)',\n",
    "        ylim=(max_depth, min_depth)\n",
    "    )\n",
    "\n",
    "    return heatmap\n",
    "\n",
    "# 動的なプロットを作成\n",
    "interactive_plot2 = pn.bind(plot_node_depth, time=time_select)\n",
    "\n",
    "# レイアウトの作成\n",
    "layout2 = pn.Column(\n",
    "    \"# Dye Concentration by Depth\",\n",
    "    time_select,\n",
    "    interactive_plot2\n",
    ")\n"
   ]
  },
  {
   "cell_type": "code",
   "execution_count": null,
   "id": "e8725071-c416-42e7-980c-a841c9406d68",
   "metadata": {},
   "outputs": [],
   "source": [
    "final_layout = pn.Row(layout2)\n",
    "final_layout"
   ]
  },
  {
   "cell_type": "markdown",
   "id": "b061ce62-1be0-480f-a958-12fda3fc0c30",
   "metadata": {},
   "source": [
    "# Slice netcdf with time\n",
    "To check netcdf files on PC, it is necessary to make their sizes much smaller; so slicing with time"
   ]
  },
  {
   "cell_type": "code",
   "execution_count": null,
   "id": "bc31dd5c-e272-44c7-9d0c-0b3cd1884558",
   "metadata": {},
   "outputs": [],
   "source": [
    "indir = \"~/Github/TB-FVCOM/goto_dye/input/input_steady/2020\"\n",
    "ncfile = \"TokyoBay18_2020_wnd.nc\"\n",
    "fvcom_wnd = FvcomDataLoader(dirpath=indir, ncfile=ncfile, time_tolerance=5)"
   ]
  },
  {
   "cell_type": "code",
   "execution_count": null,
   "id": "ab62ce19-4b69-46b1-a075-116741ae6c01",
   "metadata": {},
   "outputs": [],
   "source": [
    "start = \"2020-01-01 00:00:00\"\n",
    "end = \"2020-01-07 00:00:00\"\n",
    "output_path = f\"sliced_{ncfile}\"\n",
    "fvcom_wnd.slice_by_time(start, end).to_netcdf(output_path)"
   ]
  },
  {
   "cell_type": "code",
   "execution_count": null,
   "id": "372bee2c-b561-4b10-b1e4-03a1532e7e65",
   "metadata": {},
   "outputs": [],
   "source": [
    "fvcom_wnd.ds"
   ]
  },
  {
   "cell_type": "code",
   "execution_count": null,
   "id": "90527b62-1bff-4773-8c0b-1c6eafff3544",
   "metadata": {},
   "outputs": [],
   "source": [
    "start = \"2020-01-01 00:00:00\"\n",
    "end = \"2020-01-07 00:00:00\"\n",
    "indir = \"~/Github/TB-FVCOM/goto_dye/input/input_steady/2020\"\n",
    "ncfiles = [\"TokyoBay2020final_tsobc.nc\", \"TokyoBay2020julian_obc.nc\",\n",
    "           \"TokyoBay2020kisarazufinal_sewer.nc\", \"TokyoBay2020final_river.nc\",\n",
    "           \"TokyoBay2020final_sewer.nc\"]\n",
    "for ncfile in ncfiles:\n",
    "    output_path = f\"sliced_{ncfile}\"\n",
    "    fvcom = FvcomDataLoader(dirpath=indir, ncfile=ncfile, time_tolerance=5)\n",
    "    fvcom.slice_by_time(start, end).to_netcdf(output_path)"
   ]
  },
  {
   "cell_type": "code",
   "execution_count": null,
   "id": "61ca9585-43c3-43b8-8ad5-756ec5e63760",
   "metadata": {},
   "outputs": [],
   "source": []
  }
 ],
 "metadata": {
  "kernelspec": {
   "display_name": "Python 3 (ipykernel)",
   "language": "python",
   "name": "python3"
  },
  "language_info": {
   "codemirror_mode": {
    "name": "ipython",
    "version": 3
   },
   "file_extension": ".py",
   "mimetype": "text/x-python",
   "name": "python",
   "nbconvert_exporter": "python",
   "pygments_lexer": "ipython3",
   "version": "3.12.8"
  },
  "widgets": {
   "application/vnd.jupyter.widget-state+json": {
    "state": {},
    "version_major": 2,
    "version_minor": 0
   }
  }
 },
 "nbformat": 4,
 "nbformat_minor": 5
}
