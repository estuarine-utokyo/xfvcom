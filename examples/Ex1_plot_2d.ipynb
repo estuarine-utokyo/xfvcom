{
 "cells": [
  {
   "cell_type": "markdown",
   "id": "27c6b16a-27a4-485e-be93-328295f209e1",
   "metadata": {},
   "source": [
    "# plot_2d examples\n",
    "**Author: Jun Sasaki Coded on 2025-05-07 Updated on 2025-05-10**<br>"
   ]
  },
  {
   "cell_type": "code",
   "execution_count": null,
   "id": "0413fbed-78e0-4d75-9775-5de25a3a6008",
   "metadata": {},
   "outputs": [],
   "source": [
    "from pathlib import Path\n",
    "import cartopy.crs as ccrs\n",
    "from cartopy.io.img_tiles import GoogleTiles\n",
    "from xfvcom import FvcomDataLoader\n",
    "from xfvcom import FvcomPlotter, FvcomPlotConfig, FvcomPlotOptions\n",
    "\n",
    "from IPython.core.magic import register_cell_magic\n",
    "@register_cell_magic\n",
    "def skip(line, cell):\n",
    "    print(\"This cell is skipped.\")\n",
    "\n",
    "png_dir = Path(\"PNG\"); png_dir.mkdir(exist_ok=True)"
   ]
  },
  {
   "cell_type": "markdown",
   "id": "742b055b-5efc-44d3-ab64-595f16242557",
   "metadata": {},
   "source": [
    "## Create FvcomDataLoader, FvcomPlotConfig, and FvcomPlotter instances.\n",
    "- Specify an FVCOM output netcdf path (`ncfile_path`) and input open boundary file path (`obcfile_path`).\n",
    "- Suppose `fvcom` is the FvcomDataLoader instance, Dataset is `fvcom.ds`."
   ]
  },
  {
   "cell_type": "code",
   "execution_count": null,
   "id": "de168962-f6cf-4c1a-b3a1-d850f38cdb4e",
   "metadata": {},
   "outputs": [],
   "source": [
    "base_path = Path(\"~/Github/TB-FVCOM/goto2023\").expanduser()\n",
    "ncfile = \"TokyoBay18_r16_crossed_0001.nc\"\n",
    "obcfile = \"TokyoBay18_obc.dat\"\n",
    "ncfile_path = base_path / \"output\" / ncfile\n",
    "obcfile_path = base_path / \"input\" / obcfile\n",
    "fvcom = FvcomDataLoader(ncfile_path=ncfile_path, obcfile_path=obcfile_path, time_tolerance=5)\n",
    "cfg = FvcomPlotConfig()\n",
    "plotter = FvcomPlotter(fvcom.ds, cfg)"
   ]
  },
  {
   "cell_type": "markdown",
   "id": "3a2bba80-c30a-4c4c-a055-c33083c693d2",
   "metadata": {},
   "source": [
    "## Mesh and map tiles only"
   ]
  },
  {
   "cell_type": "code",
   "execution_count": null,
   "id": "706e0ecc-2c41-4de1-8404-728eb0d12bda",
   "metadata": {},
   "outputs": [],
   "source": [
    "opts = FvcomPlotOptions(\n",
    "    figsize=(4,6),\n",
    "    add_tiles=True,\n",
    "    tile_provider=GoogleTiles(style=\"satellite\"),\n",
    "    mesh_color=\"#ffffff\",\n",
    "    mesh_linewidth=0.3,\n",
    "    xlim = (\"139:40:00\", \"140:00:00\"),\n",
    "    ylim = (\"35:12:00\", \"35:42\"),\n",
    "    lon_tick_skip=2,\n",
    ")\n",
    "plotter.plot_2d(da=None, opts=opts)"
   ]
  },
  {
   "cell_type": "markdown",
   "id": "d0efe752-ea99-499a-951f-9875e6ad60be",
   "metadata": {},
   "source": [
    "## Scalar + vector overlay at a `time` and `siglay`\n",
    "### Pass index selected scalar and vector DataArrays\n",
    "This approach may avoid file access conflicts and efficiently create animation frames using multiprocessing."
   ]
  },
  {
   "cell_type": "code",
   "execution_count": null,
   "id": "f9da55dc-7603-45af-b43f-5c3f8e0127c4",
   "metadata": {},
   "outputs": [],
   "source": [
    "var_scalar = 'temp'\n",
    "time = 20; siglay=0\n",
    "da_s = fvcom.ds[var_scalar].isel(time=time, siglay=siglay)\n",
    "da_u = fvcom.ds['u'].isel(time=time, siglay=siglay)\n",
    "da_v = fvcom.ds['v'].isel(time=time, siglay=siglay)\n",
    "\n",
    "opts = FvcomPlotOptions(\n",
    "    figsize=(4,6),\n",
    "    plot_vec2d=True,\n",
    "    with_mesh=False,\n",
    "    coastlines=True,\n",
    "    lon_tick_skip=2,\n",
    ")\n",
    "plotter.plot_2d(da=da_s, da_u=da_u, da_v=da_v, opts=opts)"
   ]
  },
  {
   "cell_type": "markdown",
   "id": "08d7619f-ff29-41d1-8ecb-a34fd6ebefb9",
   "metadata": {},
   "source": [
    "### The same plot but pass DataArrays without selecting index and save it as PNG\n",
    "The selected index is specified in FvcomPlotOptions. The vector element varnames can be specified with `var_u` and `var_v`."
   ]
  },
  {
   "cell_type": "code",
   "execution_count": null,
   "id": "382bc28f-7cff-4432-8e0b-7614c1297279",
   "metadata": {},
   "outputs": [],
   "source": [
    "var_scalar = 'temp'\n",
    "time = 20; siglay=0\n",
    "da_s = fvcom.ds[var_scalar]\n",
    "\n",
    "opts = FvcomPlotOptions(\n",
    "    figsize=(4,6),\n",
    "    scalar_time = time,\n",
    "    scalar_siglay = siglay,\n",
    "    plot_vec2d=True,\n",
    "    vec_time = time,\n",
    "    vec_siglay = siglay,\n",
    "    with_mesh=False,\n",
    "    coastlines=True,\n",
    "    lon_tick_skip=2,\n",
    ")\n",
    "ax = plotter.plot_2d(da=da_s, var_u='u', var_v='v', opts=opts)\n",
    "ax.figure.savefig(png_dir / \"scalar_vector.png\", dpi=600, bbox_inches='tight')"
   ]
  },
  {
   "cell_type": "markdown",
   "id": "0f08a037-0815-4a44-8a64-097227b5e7ad",
   "metadata": {},
   "source": [
    "### The same plot decorating with text using `post_process_func`"
   ]
  },
  {
   "cell_type": "code",
   "execution_count": null,
   "id": "825eda1a-3119-4924-b8e7-a1df8812b0e6",
   "metadata": {},
   "outputs": [],
   "source": [
    "var_scalar = 'temp'\n",
    "time = 20; siglay=0\n",
    "da_s = fvcom.ds[var_scalar]\n",
    "\n",
    "def add_timestamp(ax, da, time):\n",
    "    import pandas as pd\n",
    "    txt = pd.to_datetime(time).strftime(\"%Y-%m-%d %H:%M\")\n",
    "    ax.text(\n",
    "        0.95, 0.05, txt,\n",
    "        transform=ax.transAxes,\n",
    "        ha=\"right\", va=\"top\",\n",
    "        color=\"white\",\n",
    "        fontsize=10,\n",
    "        bbox=dict(fc=\"0.2\", ec=\"none\", alpha=0.7, pad=2),\n",
    "    )\n",
    "\n",
    "opts = FvcomPlotOptions(\n",
    "    figsize=(4,6),\n",
    "    scalar_time = time,\n",
    "    scalar_siglay = siglay,\n",
    "    plot_vec2d=True,\n",
    "    vec_time = time,\n",
    "    vec_siglay = siglay,\n",
    "    with_mesh=False,\n",
    "    coastlines=True,\n",
    "    lon_tick_skip=2,\n",
    ")\n",
    "plotter.plot_2d(da=da_s, var_u='u', var_v='v', opts=opts, post_process_func=add_timestamp)"
   ]
  },
  {
   "cell_type": "markdown",
   "id": "00c5dc5f-ae99-4df5-8791-b63add26231b",
   "metadata": {},
   "source": [
    "## Scalar + vector overlay with time/vertical averaging"
   ]
  },
  {
   "cell_type": "code",
   "execution_count": null,
   "id": "884a2a36-a3f8-49f5-8fbc-0c74d1d2270e",
   "metadata": {},
   "outputs": [],
   "source": [
    "var_scalar = 'temp'\n",
    "da_s = fvcom.ds[var_scalar]\n",
    "scalar_time = slice(\"2020-01-03\", \"2020-01-04\")\n",
    "scalar_siglay = slice(None)\n",
    "scalar_reduce = {\"time\": \"mean\", \"siglay\": \"mean\"}\n",
    "vec_time      = slice(\"2020-01-03\", \"2020-01-04\")\n",
    "vec_siglay    = slice(None)\n",
    "vec_reduce    = {\"time\": \"mean\", \"siglay\": \"mean\"}\n",
    "\n",
    "opts = FvcomPlotOptions(\n",
    "    figsize=(4,6),\n",
    "    scalar_time = scalar_time,\n",
    "    scalar_siglay = scalar_siglay,\n",
    "    scalar_reduce = scalar_reduce,\n",
    "    plot_vec2d=True,\n",
    "    vec_time = vec_time,\n",
    "    vec_siglay = vec_siglay,\n",
    "    vec_reduce = vec_reduce,\n",
    "    with_mesh=False,\n",
    "    coastlines=True,\n",
    "    lon_tick_skip=2,\n",
    ")\n",
    "plotter.plot_2d(da=da_s, var_u='u', var_v='v', opts=opts)"
   ]
  },
  {
   "cell_type": "code",
   "execution_count": null,
   "id": "30cdfe52-bbb2-4190-a76e-3245ca8d39e3",
   "metadata": {},
   "outputs": [],
   "source": [
    "var_scalar = 'temp'\n",
    "da_s = fvcom.ds[var_scalar]\n",
    "scalar_time = 20\n",
    "scalar_siglay = slice(None)\n",
    "scalar_reduce = {\"time\": \"mean\", \"siglay\": \"mean\"}\n",
    "vec_time      = 20\n",
    "vec_siglay    = slice(None)\n",
    "vec_reduce    = {\"time\": \"mean\", \"siglay\": \"mean\"}\n",
    "\n",
    "opts = FvcomPlotOptions(\n",
    "    figsize=(4,6),\n",
    "    scalar_time = scalar_time,\n",
    "    scalar_siglay = scalar_siglay,\n",
    "    scalar_reduce = scalar_reduce,\n",
    "    plot_vec2d=True,\n",
    "    vec_time = vec_time,\n",
    "    vec_siglay = vec_siglay,\n",
    "    vec_reduce = vec_reduce,\n",
    "    with_mesh=False,\n",
    "    coastlines=True,\n",
    "    lon_tick_skip=2,\n",
    ")\n",
    "plotter.plot_2d(da=da_s, var_u='u', var_v='v', opts=opts)"
   ]
  }
 ],
 "metadata": {
  "kernelspec": {
   "display_name": "Python 3 (ipykernel)",
   "language": "python",
   "name": "python3"
  },
  "language_info": {
   "codemirror_mode": {
    "name": "ipython",
    "version": 3
   },
   "file_extension": ".py",
   "mimetype": "text/x-python",
   "name": "python",
   "nbconvert_exporter": "python",
   "pygments_lexer": "ipython3",
   "version": "3.12.8"
  },
  "widgets": {
   "application/vnd.jupyter.widget-state+json": {
    "state": {},
    "version_major": 2,
    "version_minor": 0
   }
  }
 },
 "nbformat": 4,
 "nbformat_minor": 5
}
