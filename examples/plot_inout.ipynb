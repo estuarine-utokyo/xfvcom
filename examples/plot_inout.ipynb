{
 "cells": [
  {
   "cell_type": "markdown",
   "id": "ae521449-dd81-44e3-b972-cd6b6b7f6034",
   "metadata": {},
   "source": [
    "# Plot FVCOM input and output files\n",
    "**Author: Jun Sasaki Coded: 2024-12-26 Updated: 2025-04-23**<br>\n",
    "Plot and check FVCOM input & output netCDF and text files using xfvcom with matplotlib.\n",
    "## Note\n",
    "- contourf uses the value at the center of each mesh. Thus, at the boundaries (surface, bottom, lateral), the area between the edge and the center at each boundary mesh cannot be filled with color. To improve this, pcolormesh should be used.\n",
    "- Bottom meshes become staircases. To avoid this, sigma coordinate transformation should be used.  "
   ]
  },
  {
   "cell_type": "code",
   "execution_count": null,
   "id": "2fd50d5f-7847-4e3e-9fc4-f1e6c3a58362",
   "metadata": {},
   "outputs": [],
   "source": [
    "import xarray as xr\n",
    "import os\n",
    "from xfvcom import FvcomDataLoader, FvcomAnalyzer, FvcomPlotConfig, FvcomPlotter\n",
    "import numpy as np\n",
    "import matplotlib.pyplot as plt\n",
    "import matplotlib\n",
    "import pandas as pd\n",
    "from math import ceil\n",
    "\n",
    "from IPython.core.magic import register_cell_magic\n",
    "@register_cell_magic\n",
    "def skip(line, cell):\n",
    "    print(\"This cell is skipped.\")\n",
    "\n",
    "png_dir = \"PNG\"\n",
    "os.makedirs(png_dir, exist_ok=True)"
   ]
  },
  {
   "cell_type": "markdown",
   "id": "47bc8c50-e089-4235-abad-ce849f20e827",
   "metadata": {},
   "source": [
    "# Plot output netcdf"
   ]
  },
  {
   "cell_type": "code",
   "execution_count": null,
   "id": "ef3cb343-6840-4418-a9f8-22fbce40a275",
   "metadata": {},
   "outputs": [],
   "source": [
    "base_path = \"~/Github/TB-FVCOM/goto2023/output\"\n",
    "base_path = os.path.expanduser(base_path)\n",
    "ncfiles = [\"TokyoBay18_r16_crossed_0001.nc\"]\n",
    "idx_ncfiles=0\n",
    "ncfile_path = f\"{base_path}/{ncfiles[idx_ncfiles]}\"\n",
    "ofc = FvcomDataLoader(ncfile_path=ncfile_path, time_tolerance=5)\n",
    "ofc.ds"
   ]
  },
  {
   "cell_type": "markdown",
   "id": "d11350c8-1925-400e-8eb1-df257e400017",
   "metadata": {},
   "source": [
    "## 1-D time series plot for `varname(time, idx, k)`\n",
    "Specify `varname`, node/nele/nobc number `idx`, and siglay/siglev number `k` (optional)."
   ]
  },
  {
   "cell_type": "code",
   "execution_count": null,
   "id": "c60940ae-5174-419d-ade9-8bac1ada1dff",
   "metadata": {},
   "outputs": [],
   "source": [
    "#%%skip\n",
    "varname = 'salinity'\n",
    "# start=None; end=None\n",
    "xlim=('2020-01-05',None)\n",
    "ylim=None #(None, None)\n",
    "idx=1  # node or nele number\n",
    "k=0 # siglay or siglev number\n",
    "pngfile = os.path.join(png_dir, f\"{varname}_{xlim[0]}_{xlim[1]}\")\n",
    "\n",
    "plot_config = FvcomPlotConfig(width=8, height=2)\n",
    "plotter = FvcomPlotter(ofc.ds, plot_config)\n",
    "da = ofc.ds[varname]\n",
    "fig, ax = plotter.ts_plot(da, index=idx, k=k, xlim=xlim, ylim=ylim)\n",
    "fig.savefig(pngfile, dpi=300, bbox_inches='tight')\n",
    "plt.show()\n",
    "plt.close()"
   ]
  },
  {
   "cell_type": "markdown",
   "id": "2f1eb1b0-b79d-4de3-9fce-446fd39f71b8",
   "metadata": {},
   "source": [
    "## 2-D time series plot for varname(time, k) in sigma coordinates\n",
    "Vertical 2-D time series contourf at a specified node/nele in sigma coordinates.<br>\n",
    "`fvcom` is an instance of `FvcomDataLoader`.\n",
    "```Python\n",
    "# (1) da with node/nele index=idx\n",
    "da = fvcom.ds[varname]\n",
    "fig, ax, cbar = plotter.ts_contourf(da, index=idx)\n",
    "# (2) da sliced with node/nele index=idx\n",
    "da = fvcom.ds[varname][:,:,idx]\n",
    "fig, ax, cbar = plotter.ts_contourf(da)\n",
    "```"
   ]
  },
  {
   "cell_type": "code",
   "execution_count": null,
   "id": "76842244-55e1-43bd-8054-6e64f9ce8cc7",
   "metadata": {},
   "outputs": [],
   "source": [
    "varname = 'salinity'\n",
    "start=None; end=None\n",
    "#start='2020-01-05'; end=None\n",
    "xlim=(None, None)\n",
    "#xlim=None\n",
    "ylim=(-1, 0)\n",
    "idx=1  # node or nele number\n",
    "if xlim is None:\n",
    "    pngfile = os.path.join(png_dir, f\"{varname}_node-{idx}\")\n",
    "else:\n",
    "    pngfile = os.path.join(png_dir, f\"{varname}_node-{idx}_{xlim[0]}_{xlim[1]}\")\n",
    "plot_config = FvcomPlotConfig(width=8, height=2)\n",
    "plotter = FvcomPlotter(ofc.ds, plot_config)\n",
    "#da = ofc.ds[varname][:,:,idx]  # Set index=None\n",
    "da = ofc.ds[varname]  # Set index=idx \n",
    "fig, ax, cbar = plotter.ts_contourf(da, index=idx, xlim=xlim, ylim=ylim)\n",
    "fig.savefig(pngfile, dpi=300, bbox_inches='tight')\n",
    "plt.show()\n",
    "plt.close()"
   ]
  },
  {
   "cell_type": "markdown",
   "id": "681be26c-24a9-4c3c-b185-8511980fafb9",
   "metadata": {},
   "source": [
    "### Subplots"
   ]
  },
  {
   "cell_type": "code",
   "execution_count": null,
   "id": "a9dedf9d-4e74-4303-94d9-256d7661e3fc",
   "metadata": {},
   "outputs": [],
   "source": [
    "idx=1\n",
    "xlim=(None, None)\n",
    "ylim=(-1,0)\n",
    "pngfile = os.path.join(png_dir, f\"subplots\")\n",
    "plot_config = FvcomPlotConfig()\n",
    "plotter = FvcomPlotter(ofc.ds, plot_config)\n",
    "fig, ax = plt.subplots(2,1, figsize=(8,4))\n",
    "fig, ax[0], cbar = plotter.ts_contourf(ofc.ds['temp'], index=idx, xlim=xlim, ylim=ylim, ax=ax[0], title=\"\")\n",
    "fig, ax[1], cbar = plotter.ts_contourf(ofc.ds['salinity'], index=idx, xlim=xlim, ylim=ylim, ax=ax[1], title=\"\")"
   ]
  },
  {
   "cell_type": "markdown",
   "id": "0e5e05bc-b2d7-4b37-99b2-fd280c903c3a",
   "metadata": {},
   "source": [
    "## 2-D time series plot for varname(time, k) in z coordinates"
   ]
  },
  {
   "cell_type": "code",
   "execution_count": null,
   "id": "49d4caca-ef83-41c5-9d0b-37363610f7e6",
   "metadata": {},
   "outputs": [],
   "source": [
    "varname = 'temp'\n",
    "idx=1\n",
    "xlim=None\n",
    "ylim=(None, 0.5)\n",
    "plot_config = FvcomPlotConfig()\n",
    "plotter = FvcomPlotter(ofc.ds, plot_config)\n",
    "da = ofc.ds[varname] \n",
    "save_path = f\"plot_{varname}.png\"\n",
    "surface_kwargs={\"color\":\"black\",\"linewidth\":0.5}\n",
    "ax=plotter.ts_contourf_z(da, index=idx, xlim=xlim, ylim=ylim, vmin=9.9, vmax=10.2, plot_surface=True, surface_kwargs=surface_kwargs)"
   ]
  },
  {
   "cell_type": "markdown",
   "id": "f3205a25-756f-4b73-b58a-f2fe4ab51648",
   "metadata": {},
   "source": [
    "## 2-D vertical section plot for varname(k, n) along a specified line in z coordinates\n",
    "- Plot along a latitude (lat), longitude (lon), or polyline (line) with a horizontal spacing (m).\n",
    "- Note 1: Vertical white lines (narrow rectangles) correspond to the areas between the neighboring sea and land mesh centers, which cannot be removed at present.\n",
    "```Python\n",
    "# line: A list of tuples [(lon0, lat0), (lon1, lat1), ...], creating a polyline\n",
    "plotter.section_contourf_z(da, [lat=35.7, lon=139.7, line=line], spacing=50)\n",
    "```"
   ]
  },
  {
   "cell_type": "markdown",
   "id": "a152b177-1fb8-4d2d-aadd-1b9bf8aa6ddb",
   "metadata": {},
   "source": [
    "#### Along a specified latitude `lat`"
   ]
  },
  {
   "cell_type": "code",
   "execution_count": null,
   "id": "0b0d0d59-d6f0-47a7-ad14-25a9f8744684",
   "metadata": {},
   "outputs": [],
   "source": [
    "varname = 'temp'\n",
    "plot_config = FvcomPlotConfig()\n",
    "plotter = FvcomPlotter(ofc.ds, plot_config)\n",
    "da = ofc.ds[varname].isel(time=20)\n",
    "plotter.section_contourf_z(da, lat=35.6, ylim=(-20, 0), spacing=50)"
   ]
  },
  {
   "cell_type": "markdown",
   "id": "dfbb2f78-6c2d-4836-b858-e61455c0befe",
   "metadata": {},
   "source": [
    "#### Along a specified polyline `line`"
   ]
  },
  {
   "cell_type": "code",
   "execution_count": null,
   "id": "f83af36f-0871-4283-b3aa-2340885d6e97",
   "metadata": {},
   "outputs": [],
   "source": [
    "varname = 'temp'\n",
    "line = [(140.062, 35.653), (139.72753, 35.3572), (139.74386, 35.31192),\n",
    "        (139.799387, 35.241927), (139.721814, 35.096411)]\n",
    "plot_config = FvcomPlotConfig()\n",
    "plotter = FvcomPlotter(ofc.ds, plot_config)\n",
    "da = ofc.ds[varname].isel(time=30)\n",
    "plotter.section_contourf_z(da, line=line, spacing=100)"
   ]
  },
  {
   "cell_type": "markdown",
   "id": "af500aba-b75b-4f0b-b434-303beabb2476",
   "metadata": {},
   "source": [
    "# Plot input netcdf files"
   ]
  },
  {
   "cell_type": "markdown",
   "id": "ff3a9608-7e68-413b-adb8-d164b9026b19",
   "metadata": {},
   "source": [
    "#### Prepare netCDF files"
   ]
  },
  {
   "cell_type": "code",
   "execution_count": null,
   "id": "30faf616-6360-4ada-aad7-6b7eb00b3b3e",
   "metadata": {},
   "outputs": [],
   "source": [
    "base_path = \"~/Github/TB-FVCOM/goto_dye/input/input_steady/2020\"\n",
    "base_path = os.path.expanduser(base_path)\n",
    "ncfiles = [\"TokyoBay18_2020_wnd.nc\",\"TokyoBay2020final_tsobc.nc\", \"TokyoBay2020julian_obc.nc\",\n",
    "           \"TokyoBay2020kisarazufinal_sewer.nc\", \"TokyoBay2020final_river.nc\",\n",
    "           \"TokyoBay2020final_sewer.nc\"]"
   ]
  },
  {
   "cell_type": "markdown",
   "id": "2a31ac56-71c9-457f-92b4-d7e2bd4b7abf",
   "metadata": {},
   "source": [
    "## Meteorological fields"
   ]
  },
  {
   "cell_type": "markdown",
   "id": "0e81a6f3-10f0-4fc9-a9e9-33f2b328506d",
   "metadata": {},
   "source": [
    "#### Create Dataset for `*_wnd.nc` and retrieve its `varnames(time, node)` and `varnames(time, nele)`\n",
    "```Python\n",
    "varnames = ['uwind_speed', 'vwind_speed', 'air_temperature', 'cloud_cover', 'short_wave', 'long_wave',\n",
    "            'relative_humidity', 'air_pressure', 'Precipitation']\n",
    "```\n",
    "#### Retrieve varnames automatically by specifying dims of (time, node) or (time, nele)\n",
    "```Python\n",
    "FvcomAnalyzer.get_variables_by_dims(\"time\", \"node\")\n",
    "FvcomAnalyzer.get_variables_by_dims(\"time\", \"nele\")\n",
    "```"
   ]
  },
  {
   "cell_type": "code",
   "execution_count": null,
   "id": "f747a65f-b3b1-44c5-afb6-f1d78b8c7f59",
   "metadata": {},
   "outputs": [],
   "source": [
    "nc_met = os.path.join(base_path, ncfiles[0])\n",
    "met = FvcomDataLoader(ncfile_path=nc_met, time_tolerance=5)\n",
    "analyzer=FvcomAnalyzer(met.ds)\n",
    "varnames_time_node = analyzer.get_variables_by_dims((\"time\", \"node\"))\n",
    "varnames_time_nele = analyzer.get_variables_by_dims((\"time\", \"nele\"))\n",
    "print(f\"varnames(time, node)={varnames_time_node}\")\n",
    "print(f\"varnames(time, nele)={varnames_time_nele}\")\n",
    "met.ds"
   ]
  },
  {
   "cell_type": "markdown",
   "id": "dcc26d5f-e1a9-46a6-99ac-7977c1dd400c",
   "metadata": {},
   "source": [
    "### 1-D time series plot "
   ]
  },
  {
   "cell_type": "code",
   "execution_count": null,
   "id": "fa8916e6-ea67-4a85-a208-b34c01088446",
   "metadata": {},
   "outputs": [],
   "source": [
    "varname = varnames_time_node[6]\n",
    "#varname = varnames_time_nele[0]\n",
    "print(f\"Plot {varname}\")\n",
    "index = 0  # Specify a node/nele index. \n",
    "plot_config = FvcomPlotConfig()\n",
    "plotter = FvcomPlotter(met.ds, plot_config)\n",
    "da = met.ds[varname]\n",
    "plotter.ts_plot(da, index=index)"
   ]
  },
  {
   "cell_type": "markdown",
   "id": "9fa16583-82a9-4ca4-9856-12d046e71bb2",
   "metadata": {},
   "source": [
    "### 1-D time series batch plots\n",
    "Plot (time, node) variables and (time, nele) variables. One PNG contains `batch_size` subplots."
   ]
  },
  {
   "cell_type": "markdown",
   "id": "2c004b1e-e8a6-4e19-b6c2-36bf1300130b",
   "metadata": {},
   "source": [
    "#### Batch plot for `varnames(time, node)`\n",
    "Specify the number of panels in one figure by `batch_size` and the prefix of PNG file names by `png_prefix`. \n",
    "```Python\n",
    "FvcomPlotter.ts_plot_in_batches(varnames, index, batch_size=batch_size, png_prefix=png_prefix)\n",
    "```"
   ]
  },
  {
   "cell_type": "code",
   "execution_count": null,
   "id": "0f7250a6-c1df-4b8e-bac1-a49b4ce89b80",
   "metadata": {},
   "outputs": [],
   "source": [
    "varnames = varnames_time_node\n",
    "xlim=(None, None)\n",
    "png_prefix = os.path.join(png_dir, \"time_node\")\n",
    "plot_config = FvcomPlotConfig()\n",
    "plotter = FvcomPlotter(met.ds, plot_config)\n",
    "\n",
    "# Use ts_plot_in_batches in HelperMixin in helpers.py\n",
    "plotter.ts_plot_in_batches(varnames=varnames, index=0, batch_size=5,\n",
    "                           xlim=xlim, rolling_window=25, png_prefix=png_prefix)"
   ]
  },
  {
   "cell_type": "markdown",
   "id": "a0957c45-01ec-4ab6-bd5d-1bcea341809d",
   "metadata": {},
   "source": [
    "#### Batch plot for `varnames(time, nele)`"
   ]
  },
  {
   "cell_type": "code",
   "execution_count": null,
   "id": "9beeae83-179e-4865-979e-7bac7b11bad0",
   "metadata": {},
   "outputs": [],
   "source": [
    "varnames = varnames_time_nele\n",
    "xlim=(None, None)\n",
    "png_prefix = os.path.join(png_dir, \"time_nele\")\n",
    "plot_config = FvcomPlotConfig()\n",
    "plotter = FvcomPlotter(met.ds, plot_config)\n",
    "\n",
    "# Use ts_plot_in_batches in HelperMixin in helpers.py\n",
    "plotter.ts_plot_in_batches(varnames=varnames, index=0, batch_size=5,\n",
    "                           xlim=xlim, rolling_window=25, png_prefix=png_prefix)"
   ]
  },
  {
   "cell_type": "markdown",
   "id": "11b1d89f-925c-4ad8-bd76-d61837be35f7",
   "metadata": {},
   "source": [
    "### Wind vector time series plot\n",
    "Plot time-series of vector components `(u, v)` and optionally their magnitude. Accept either DataArrays `(da_x, da_y)` or Dataset varnames `(varname_x, varname_y)` exclusively.\n",
    "```Python\n",
    "FvcomPlotter.ts_vector(da_x, da_y, index=0, rolling_window=25)\n",
    "FvcomPlotter.ts_vector(varname_x=varname_x, varname_y=varname_y, index=0, rolling_window=25)\n",
    "```"
   ]
  },
  {
   "cell_type": "code",
   "execution_count": null,
   "id": "08ca8702-ceda-4280-9609-81032530b747",
   "metadata": {},
   "outputs": [],
   "source": [
    "png_file = os.path.join(png_dir, \"wind_vector.png\")\n",
    "plot_config = FvcomPlotConfig()\n",
    "plotter = FvcomPlotter(met.ds, plot_config)\n",
    "da_x = met.ds.uwind_speed\n",
    "da_y = met.ds.vwind_speed\n",
    "fig, ax = plotter.ts_vector(da_x, da_y, index=0, rolling_window=25)\n",
    "#fig, ax = plotter.ts_vector(varname_x='uwind_speed', varname_y='vwind_speed', index=0, rolling_window=25)\n",
    "#ax.grid()\n",
    "fig.savefig(png_file, dpi=300, bbox_inches='tight')"
   ]
  },
  {
   "cell_type": "markdown",
   "id": "28ce296b-b03b-42cf-9ba7-3116ec3ab7f9",
   "metadata": {},
   "source": [
    "### River discharge time series plot"
   ]
  },
  {
   "cell_type": "code",
   "execution_count": null,
   "id": "218c3ace-7ab7-44fb-838e-353caaf4cd4b",
   "metadata": {},
   "outputs": [],
   "source": [
    "nc_discharge = os.path.join(base_path, ncfiles[4])\n",
    "discharge = FvcomDataLoader(ncfile_path=nc_discharge, time_tolerance=5)\n",
    "plot_config = FvcomPlotConfig()\n",
    "plotter = FvcomPlotter(discharge.ds, plot_config)\n",
    "plotter.ts_discharge(\"river_flux\", river_index=0, rolling_window=25, save_path='river_discharge.png')\n",
    "#plotter.ts_discharge(varname=\"river_flux\", river_index=0, start=start, end=end,\n",
    "#                                  rolling_window=25, save_path=\"river_discharge.png\"\n",
    "#)"
   ]
  },
  {
   "cell_type": "code",
   "execution_count": null,
   "id": "d5653a88-3497-40b0-9ae6-bc4121eb9085",
   "metadata": {},
   "outputs": [],
   "source": [
    "plot_config = FvcomPlotConfig(figsize=(8, 2))\n",
    "plotter = FvcomPlotter(fvcom.ds, plot_config)\n",
    "var_name='river_temp'\n",
    "# HelperMixin のメソッドを利用\n",
    "plotter.plot_timeseries_for_river_in_batches(\n",
    "    plotter=plotter,\n",
    "    var_name=var_name,\n",
    "    batch_size=5,\n",
    "    start=start,\n",
    "    end=end,\n",
    "    rolling_window=25,\n",
    "    save_prefix=var_name\n",
    ")"
   ]
  },
  {
   "cell_type": "markdown",
   "id": "342cc61c-b3e0-417d-9f57-59f5cd1bf587",
   "metadata": {},
   "source": [
    "## Example for input netcdf files"
   ]
  },
  {
   "cell_type": "code",
   "execution_count": null,
   "id": "8b28f00a-26c5-4f74-a85d-0837ef5b88cb",
   "metadata": {},
   "outputs": [],
   "source": [
    "base_path = \"~/Github/TB-FVCOM/goto2023/input\"\n",
    "base_path = os.path.expanduser(base_path)\n",
    "ncfiles = [\"TokyoBay_tsobc.nc\", \"TokyoBay_julian_obc.nc\",\"TokyoBayfinal_river.nc\", \"TokyoBayfinal16_river.nc\",\n",
    "           \"TokyoBay18_z0.nc\", \"TokyoBay18_wnd.nc\",\n",
    "           \"TokyoBay2020final_sewer.nc\"]\n",
    "index_ncfiles=5\n",
    "ncfile_path = f\"{base_path}/{ncfiles[index_ncfiles]}\"\n",
    "print(f\"ncfile_path={ncfile_path}\")\n",
    "ifc = FvcomDataLoader(ncfile_path=ncfile_path, time_tolerance=5)\n",
    "ifc.ds"
   ]
  },
  {
   "cell_type": "markdown",
   "id": "e638f516-8c95-420a-95f5-fe811e3f6679",
   "metadata": {},
   "source": [
    "## Compare with meteorological data\n",
    "- Needs to install metdata; see [GitHub](https://github.com/jsasaki-utokyo/metdata)"
   ]
  },
  {
   "cell_type": "code",
   "execution_count": null,
   "id": "cc8ce0f7-2fbe-41b1-847c-4150da6a684f",
   "metadata": {},
   "outputs": [],
   "source": [
    "from metdata import gwo\n",
    "\n",
    "datetime_ini = \"2020-01-01 00:00:00\"\n",
    "datetime_end = \"2021-01-01 00:00:00\"\n",
    "stn = \"Chiba\"\n",
    "base_path = \"/mnt/c/dat/met/JMA_DataBase/GWO/Hourly/\"\n",
    "\n",
    "met = gwo.Hourly(datetime_ini=datetime_ini, datetime_end=datetime_end, stn=stn, dirpath=base_path)\n",
    "met.df.head()  # pandas.DataFrame"
   ]
  },
  {
   "cell_type": "code",
   "execution_count": null,
   "id": "026a5212-d008-49d6-ad2d-6f56a518723f",
   "metadata": {},
   "outputs": [],
   "source": [
    "met_ds = xr.Dataset.from_dataframe(met.df)\n",
    "met_ds = met_ds.rename_dims({\"index\": \"time\"}).rename_vars({\"index\": \"time\"})\n",
    "met_ds"
   ]
  },
  {
   "cell_type": "code",
   "execution_count": null,
   "id": "fd6391d1-4a30-4289-a7b4-37d6053c3784",
   "metadata": {},
   "outputs": [],
   "source": [
    "plot_config = FvcomPlotConfig(width=8, height=2)\n",
    "plotter = FvcomPlotter(met_ds, plot_config)\n",
    "start='2020-01-01'; end='2020-01-31'\n",
    "plotter.plot_wind_vector_timeseries(u_var='u', v_var='v', nele=None, start=start, end=end, rolling_window=1,\n",
    "                                    save_path=\"wind_vector_plot.png\")"
   ]
  },
  {
   "cell_type": "code",
   "execution_count": null,
   "id": "3528b845-6603-4615-a088-bb9f6ed35feb",
   "metadata": {},
   "outputs": [],
   "source": [
    "plot_config = FvcomPlotConfig(width=8, height=2)\n",
    "plotter = FvcomPlotter(ifc.ds, plot_config)\n",
    "# ノード0の風速ベクトル時系列を2020年1月1日から12月31日までプロット\n",
    "plotter.plot_wind_vector_timeseries(nele=0, start=start, end=end, rolling_window=1,\n",
    "                                    save_path=\"wind_vector_plot.png\")"
   ]
  },
  {
   "cell_type": "code",
   "execution_count": null,
   "id": "4b7c3a83-54e4-40cf-aa37-c5ad32916423",
   "metadata": {},
   "outputs": [],
   "source": []
  }
 ],
 "metadata": {
  "kernelspec": {
   "display_name": "Python 3 (ipykernel)",
   "language": "python",
   "name": "python3"
  },
  "language_info": {
   "codemirror_mode": {
    "name": "ipython",
    "version": 3
   },
   "file_extension": ".py",
   "mimetype": "text/x-python",
   "name": "python",
   "nbconvert_exporter": "python",
   "pygments_lexer": "ipython3",
   "version": "3.12.8"
  },
  "widgets": {
   "application/vnd.jupyter.widget-state+json": {
    "state": {},
    "version_major": 2,
    "version_minor": 0
   }
  }
 },
 "nbformat": 4,
 "nbformat_minor": 5
}
