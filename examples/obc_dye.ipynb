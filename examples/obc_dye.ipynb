{
 "cells": [
  {
   "cell_type": "markdown",
   "id": "3e5d46d5-bdb4-48f1-a900-127ab795f6bd",
   "metadata": {},
   "source": [
    "# Check input files\n",
    "**Author: Jun Sasaki  Coded 2024-12-26  Updated 2025-04-08**<br>\n",
    "Checking input files interactively. When completed, rename or create check_input.ipynb. This should cover netcdf and text files."
   ]
  },
  {
   "cell_type": "code",
   "execution_count": null,
   "id": "3b10d7ca-72de-4e7c-819f-14ee12b4ae3a",
   "metadata": {},
   "outputs": [],
   "source": [
    "import xarray as xr\n",
    "import os\n",
    "from xfvcom import FvcomDataLoader, FvcomAnalyzer, FvcomPlotConfig, FvcomPlotter\n",
    "from xfvcom.helpers import get_index_by_value\n",
    "import numpy as np\n",
    "import matplotlib.pyplot as plt\n",
    "import pandas as pd\n",
    "\n",
    "from IPython.core.magic import register_cell_magic\n",
    "\n",
    "@register_cell_magic\n",
    "def skip(line, cell):\n",
    "    print(\"This cell is skipped.\")"
   ]
  },
  {
   "cell_type": "code",
   "execution_count": null,
   "id": "056b1d3f-f913-4184-aca8-8f06ef4eca6e",
   "metadata": {},
   "outputs": [],
   "source": [
    "base_path = \"~/Github/TB-FVCOM/goto_dye/input/input_steady/2020\"\n",
    "base_path = os.path.expanduser(base_path)\n",
    "ncfile = \"obc_dye2020.nc\"\n",
    "ncfile_path = os.path.join(base_path, ncfile)\n",
    "obc_dye2020 = FvcomDataLoader(ncfile_path=ncfile_path, time_tolerance=5)\n",
    "obc_dye2020.ds"
   ]
  },
  {
   "cell_type": "markdown",
   "id": "79ab06ab-f48a-4787-8133-bd49feb844cc",
   "metadata": {},
   "source": [
    "### Open boundary node numbers"
   ]
  },
  {
   "cell_type": "code",
   "execution_count": null,
   "id": "0a7b83e9-ea4d-45db-8d61-3577dc56a7d0",
   "metadata": {},
   "outputs": [],
   "source": [
    "obc_nodes = obc_dye2020.ds.obc_nodes.values\n",
    "print(f\"obc_nodes={obc_nodes}\")"
   ]
  },
  {
   "cell_type": "code",
   "execution_count": null,
   "id": "5c975c11-56ce-472b-a07a-ffea2a59000f",
   "metadata": {},
   "outputs": [],
   "source": [
    "obc_node = 3150\n",
    "obc_dye = obc_dye2020.ds['obc_dye']\n",
    "obc_h = obc_dye2020.ds['obc_h']\n",
    "obc_node_index = get_index_by_value(obc_nodes, obc_node)\n",
    "print(f\"obc_node_index={obc_node_index}\")\n",
    "#time = obc_dye2020.ds['time']\n",
    "#siglay = obc_dye2020.ds['siglay'][:, obc_node_index]\n",
    "# dye_concentration = obc_dye[:, :, obc_node_index]\n",
    "# time_grid, siglay_grid = np.meshgrid(time, siglay)"
   ]
  },
  {
   "cell_type": "code",
   "execution_count": null,
   "id": "f4d6312e-c972-4b21-afbe-c615e9706ce1",
   "metadata": {},
   "outputs": [],
   "source": [
    "da = obc_dye2020.ds['obc_dye'].isel(nobc=obc_node_index)\n",
    "da"
   ]
  },
  {
   "cell_type": "code",
   "execution_count": null,
   "id": "6d2d96a3-40bb-45f2-b841-4b3b4b004af9",
   "metadata": {},
   "outputs": [],
   "source": [
    "pngfile = \"dye_obc.png\"\n",
    "cfg = FvcomPlotConfig(figsize=(10,2), dpi=96)\n",
    "plotter = FvcomPlotter(obc_dye2020.ds, cfg)\n",
    "xlim = (da.time[0].values, da.time[-1].values)\n",
    "ylim = (1, 0)\n",
    "clim = (da.min().item(), da.max().item())\n",
    "clim = (3,7)\n",
    "#clim = (5,6)\n",
    "title = f\"Dye at node={obc_node}\"\n",
    "contourf_kwargs=dict(levels=30, vmin=3, vmax=7)\n",
    "colorbar_kwargs=dict(label=\"Dye\")\n",
    "fig, _, _ = plotter.ts_contourf(da, ylim=ylim, title=title, contourf_kwargs=contourf_kwargs, colorbar_kwargs=colorbar_kwargs)\n",
    "fig.savefig(pngfile, dpi=600, bbox_inches='tight')"
   ]
  },
  {
   "cell_type": "code",
   "execution_count": null,
   "id": "bd505f9c-8af8-441f-949d-35be0c23e4e0",
   "metadata": {},
   "outputs": [],
   "source": [
    "%%skip\n",
    "plt.figure(figsize=(10, 3))\n",
    "plt.contourf(time_grid, siglay_grid, dye_concentration.T, cmap='viridis', levels=20)\n",
    "plt.colorbar(label=\"Dye Concentration\")\n",
    "plt.xlabel(\"Time\")\n",
    "plt.ylabel(\"Sigma Layer Depth (siglay)\")\n",
    "plt.title(f\"Dye Concentration at Open Boundary Node {obc_node}\")\n",
    "plt.xticks(rotation=45)\n",
    "plt.tight_layout()\n",
    "pngfile = f\"dye_concentration_at_open_bound_node_{obc_node}.png\"\n",
    "plt.savefig(pngfile, dpi=300, bbox_inches='tight')\n",
    "plt.show()"
   ]
  },
  {
   "cell_type": "code",
   "execution_count": null,
   "id": "e97072e6-c2a9-432a-845b-8338d441bb49",
   "metadata": {},
   "outputs": [],
   "source": [
    "selected_time = '2020-01-01'\n",
    "selected_time = np.datetime64(selected_time)\n",
    "dye_profile = obc_dye.sel(time=selected_time, method='nearest')\n",
    "siglay = obc_dye2020.ds['siglay'][:, obc_node_index]\n",
    "depth = siglay * obc_h  # 各ノードごとの水深を計算\n",
    "depth = depth.transpose('siglay', 'nobc') \n",
    "nobc_indices = np.tile(obc_h.nobc.values, (len(siglay), 1)) \n",
    "nobc_numbers = np.tile(obc_nodes, (len(siglay),1))\n",
    "siglay_grid = np.tile(siglay.values[:, None], (1, len(obc_nodes)))"
   ]
  },
  {
   "cell_type": "code",
   "execution_count": null,
   "id": "55c15218-9b12-40ef-be39-006d7dffb5a9",
   "metadata": {},
   "outputs": [],
   "source": [
    "plt.close()\n",
    "yaxis_siglay=False\n",
    "plt.figure(figsize=(10, 3))\n",
    "if yaxis_siglay:\n",
    "    plt.contourf(\n",
    "        nobc_indices, siglay_grid, dye_profile.values, levels=20, cmap='viridis'\n",
    "    )\n",
    "else:\n",
    "    plt.contourf(\n",
    "        nobc_indices, depth, dye_profile.values, levels=20, cmap='viridis'\n",
    "    )\n",
    "plt.colorbar(label=\"Dye Concentration\")\n",
    "plt.xlabel(\"Boundary Node Index\")\n",
    "plt.ylabel(\"Depth (m)\")\n",
    "plt.title(f\"Dye Concentration Cross-Section on {selected_time}\")\n",
    "plt.gca().invert_yaxis()  # 水深を正の方向に（深くなるほど下へ）\n",
    "#plt.grid(True)\n",
    "plt.tight_layout()\n",
    "plt.show()"
   ]
  },
  {
   "cell_type": "code",
   "execution_count": null,
   "id": "45217bb6-e1e9-4bad-b42e-7d1da44e75bd",
   "metadata": {},
   "outputs": [],
   "source": [
    "import holoviews as hv\n",
    "import panel as pn\n",
    "import hvplot.xarray\n",
    "from datetime import datetime\n",
    "hv.extension('bokeh')\n",
    "pn.extension()"
   ]
  },
  {
   "cell_type": "code",
   "execution_count": null,
   "id": "3e0f51b2-8f3d-4e69-9b95-73bad9f08945",
   "metadata": {},
   "outputs": [],
   "source": [
    "ds = obc_dye2020.ds.copy()"
   ]
  },
  {
   "cell_type": "code",
   "execution_count": null,
   "id": "bfeac881-945e-4862-96a0-7fdace2f87b4",
   "metadata": {},
   "outputs": [],
   "source": [
    "node_select = pn.widgets.Select(\n",
    "    name='Node Index',\n",
    "    options=list(range(ds.sizes['nobc'])),  # 0〜12\n",
    "    value=0\n",
    ")\n",
    "\n",
    "def plot_time_siglay(node):\n",
    "    \"\"\"\n",
    "    指定したノードの染料濃度を時系列とsiglayに基づいてヒートマップとしてプロットします。\n",
    "    \"\"\"\n",
    "    # 指定したノードのデータを抽出（nobcを削除）\n",
    "    dye_profile = ds['obc_dye'].isel(nobc=node, drop=True)  # (time, siglay)\n",
    "    \n",
    "    # プロットは 'time' vs 'siglay'\n",
    "    heatmap = dye_profile.hvplot.quadmesh(\n",
    "        x='time',\n",
    "        y='siglay',\n",
    "        cmap='viridis',\n",
    "        colorbar=True,\n",
    "        title=f\"Dye Concentration at Node {node} Over Time\",\n",
    "        xlabel='Time',\n",
    "        ylabel='Sigma Layer'\n",
    "    )\n",
    "    \n",
    "    return heatmap\n",
    "\n",
    "# 動的なプロットを作成\n",
    "#interactive_plot1 = pn.bind(plot_time_siglay, node=node_select)\n",
    "\n",
    "# レイアウトの作成\n",
    "#layout1 = pn.Column(\n",
    "#    \"# Dye Concentration Over Time\",\n",
    "#    node_select,\n",
    "#    interactive_plot1\n",
    "#)"
   ]
  },
  {
   "cell_type": "code",
   "execution_count": null,
   "id": "bd52000b-487e-4b1e-a5a3-ae11c398b641",
   "metadata": {},
   "outputs": [],
   "source": [
    "interactive_plot1 = pn.bind(plot_time_siglay, node=node_select)\n",
    "\n",
    "# レイアウトの作成\n",
    "layout1 = pn.Column(\n",
    "    \"### Dye Concentration Over Time\",\n",
    "    node_select,\n",
    "    interactive_plot1\n",
    ")"
   ]
  },
  {
   "cell_type": "code",
   "execution_count": null,
   "id": "add8c55a-5f73-457a-b464-cae70d26da36",
   "metadata": {},
   "outputs": [],
   "source": [
    "final_layout = pn.Row(layout1)"
   ]
  },
  {
   "cell_type": "code",
   "execution_count": null,
   "id": "20e96752-09d1-4476-bc58-8ee376f750c6",
   "metadata": {},
   "outputs": [],
   "source": [
    "final_layout"
   ]
  },
  {
   "cell_type": "code",
   "execution_count": null,
   "id": "e96d4f62-8b23-4b42-9889-4afbfa995988",
   "metadata": {},
   "outputs": [],
   "source": [
    "# 時間選択用のウィジェット\n",
    "time_options = [pd.to_datetime(t).strftime('%Y-%m-%d %H:%M') for t in ds['time'].values]\n",
    "\n",
    "time_select = pn.widgets.DiscreteSlider(\n",
    "    name='Time',\n",
    "    options=time_options,  # 文字列形式のリスト\n",
    "    value=time_options[0]\n",
    ")\n",
    "\n",
    "def plot_node_depth(time):\n",
    "    \"\"\"\n",
    "    指定した時間の染料濃度をノードインデックスと水深に基づいてヒートマップとしてプロットします。\n",
    "    \"\"\"\n",
    "    # 選択された時間を np.datetime64 に変換\n",
    "    time_np = np.datetime64(time)\n",
    "    \n",
    "    # 指定した時間のデータを抽出\n",
    "    dye_profile = ds['obc_dye'].sel(time=time_np)  # (siglay, nobc)\n",
    "    \n",
    "    # ノードインデックスを0〜12に設定\n",
    "    node_indices = np.arange(ds.sizes['nobc'])\n",
    "    dye_profile = dye_profile.assign_coords(node_index=('nobc', node_indices))\n",
    "    \n",
    "    # siglayとobc_hを取得\n",
    "    # siglayは (siglay, nobc) だが、全ノードで同じと仮定\n",
    "    siglay_1d = ds['siglay'].isel(nobc=0).values  # (30,)\n",
    "    obc_h_values = ds['obc_h'].values  # (13,)\n",
    "    \n",
    "    # 水深を計算: depth = siglay * obc_h\n",
    "    depth = siglay_1d[:, np.newaxis] * obc_h_values  # shape (30,13)\n",
    "    \n",
    "    # depthを座標として追加\n",
    "    dye_profile = dye_profile.assign_coords(depth=(['siglay', 'nobc'], depth))\n",
    "\n",
    "    max_depth = depth.max()\n",
    "    min_depth = depth.min()\n",
    "    \n",
    "    # プロット\n",
    "    heatmap = dye_profile.hvplot.quadmesh(\n",
    "        x='node_index',\n",
    "        y='depth',\n",
    "        cmap='viridis',\n",
    "        colorbar=True,\n",
    "        title=f\"Dye Concentration at Time {time} by Depth\",\n",
    "        xlabel='Node Index',\n",
    "        ylabel='Depth (m)',\n",
    "        ylim=(max_depth, min_depth)\n",
    "    )\n",
    "\n",
    "    return heatmap\n",
    "\n",
    "# 動的なプロットを作成\n",
    "interactive_plot2 = pn.bind(plot_node_depth, time=time_select)\n",
    "\n",
    "# レイアウトの作成\n",
    "layout2 = pn.Column(\n",
    "    \"# Dye Concentration by Depth\",\n",
    "    time_select,\n",
    "    interactive_plot2\n",
    ")\n"
   ]
  },
  {
   "cell_type": "code",
   "execution_count": null,
   "id": "e8725071-c416-42e7-980c-a841c9406d68",
   "metadata": {},
   "outputs": [],
   "source": [
    "final_layout = pn.Row(layout2)\n",
    "final_layout"
   ]
  },
  {
   "cell_type": "markdown",
   "id": "b061ce62-1be0-480f-a958-12fda3fc0c30",
   "metadata": {},
   "source": [
    "# Slice netcdf with time\n",
    "To check netcdf files on PC, it is necessary to make their sizes much smaller; so slicing with time"
   ]
  },
  {
   "cell_type": "code",
   "execution_count": null,
   "id": "bc31dd5c-e272-44c7-9d0c-0b3cd1884558",
   "metadata": {},
   "outputs": [],
   "source": [
    "base_path = \"~/Github/TB-FVCOM/goto_dye/input/input_steady/2020\"\n",
    "base_path = os.path.expanduser(base_path)\n",
    "ncfile = \"TokyoBay18_2020_wnd.nc\"\n",
    "ncfile_path = f\"{base_path}/{ncfile}\"\n",
    "fvcom_wnd = FvcomDataLoader(ncfile_path=ncfile_path, time_tolerance=5)"
   ]
  },
  {
   "cell_type": "code",
   "execution_count": null,
   "id": "ab62ce19-4b69-46b1-a075-116741ae6c01",
   "metadata": {},
   "outputs": [],
   "source": [
    "start = \"2020-01-01 00:00:00\"\n",
    "end = \"2020-01-07 00:00:00\"\n",
    "output_path = f\"sliced_{ncfile}\"\n",
    "fvcom_wnd.slice_by_time(start, end).to_netcdf(output_path)"
   ]
  },
  {
   "cell_type": "code",
   "execution_count": null,
   "id": "372bee2c-b561-4b10-b1e4-03a1532e7e65",
   "metadata": {},
   "outputs": [],
   "source": [
    "fvcom_wnd.ds"
   ]
  },
  {
   "cell_type": "code",
   "execution_count": null,
   "id": "90527b62-1bff-4773-8c0b-1c6eafff3544",
   "metadata": {},
   "outputs": [],
   "source": [
    "start = \"2020-01-01 00:00:00\"\n",
    "end = \"2020-01-07 00:00:00\"\n",
    "base_path = \"~/Github/TB-FVCOM/goto_dye/input/input_steady/2020\"\n",
    "base_path = os.path.expanduser(base_path)\n",
    "ncfiles = [\"TokyoBay2020final_tsobc.nc\", \"TokyoBay2020julian_obc.nc\",\n",
    "           \"TokyoBay2020kisarazufinal_sewer.nc\", \"TokyoBay2020final_river.nc\",\n",
    "           \"TokyoBay2020final_sewer.nc\"]\n",
    "for ncfile in ncfiles:\n",
    "    output_path = f\"sliced_{ncfile}\"\n",
    "    ncfile_path = f\"{base_path}/{ncfile}\"\n",
    "    fvcom = FvcomDataLoader(ncfile_path=ncfile_path, time_tolerance=5)\n",
    "    fvcom.slice_by_time(start, end).to_netcdf(output_path)"
   ]
  },
  {
   "cell_type": "code",
   "execution_count": null,
   "id": "61ca9585-43c3-43b8-8ad5-756ec5e63760",
   "metadata": {},
   "outputs": [],
   "source": []
  }
 ],
 "metadata": {
  "kernelspec": {
   "display_name": "Python 3 (ipykernel)",
   "language": "python",
   "name": "python3"
  },
  "language_info": {
   "codemirror_mode": {
    "name": "ipython",
    "version": 3
   },
   "file_extension": ".py",
   "mimetype": "text/x-python",
   "name": "python",
   "nbconvert_exporter": "python",
   "pygments_lexer": "ipython3",
   "version": "3.12.8"
  },
  "widgets": {
   "application/vnd.jupyter.widget-state+json": {
    "state": {},
    "version_major": 2,
    "version_minor": 0
   }
  }
 },
 "nbformat": 4,
 "nbformat_minor": 5
}
