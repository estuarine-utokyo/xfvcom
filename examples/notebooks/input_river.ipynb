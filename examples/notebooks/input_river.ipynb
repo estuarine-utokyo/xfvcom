{
 "cells": [
  {
   "cell_type": "markdown",
   "id": "defcc9ee-3cdb-4c4f-aceb-0c29d2015b13",
   "metadata": {},
   "source": [
    "# River input data\n",
    "**Author: Jun Sasaki  Coded on 2025-05-10 Updated on 2025-09-03**<br>\n",
    "`river_input_checker.ipynb` should be used for checking river data, where the mesh is created from the grd file. This notebook has similar functionality, with the primary difference being the creation of a mesh from the FVCOM output netCDF file."
   ]
  },
  {
   "cell_type": "code",
   "execution_count": null,
   "id": "76419d57-ecd0-45d5-b9da-c4b9c4759a62",
   "metadata": {},
   "outputs": [],
   "source": [
    "from pathlib import Path\n",
    "import cartopy.crs as ccrs\n",
    "from cartopy.io.img_tiles import GoogleTiles\n",
    "import matplotlib.pyplot as plt\n",
    "\n",
    "from xfvcom import FvcomDataLoader\n",
    "from xfvcom import FvcomPlotter, FvcomPlotConfig, FvcomPlotOptions\n",
    "from xfvcom import parse_river_namelist\n",
    "from xfvcom import make_node_marker_post\n",
    "\n",
    "from IPython.core.magic import register_cell_magic\n",
    "@register_cell_magic\n",
    "def skip(line, cell):\n",
    "    print(\"This cell is skipped.\")\n",
    "\n",
    "png_dir = Path(\"PNG\"); png_dir.mkdir(exist_ok=True)"
   ]
  },
  {
   "cell_type": "markdown",
   "id": "d032c106-67f5-4f56-9876-e68128422816",
   "metadata": {},
   "source": [
    "## Loading FVCOM output and input files\n",
    "It will take long time (several minutes)."
   ]
  },
  {
   "cell_type": "code",
   "execution_count": null,
   "id": "71622a62-2f58-43f0-aa40-5d67116cbe45",
   "metadata": {},
   "outputs": [],
   "source": [
    "base_path = Path(\"~/Github/TB-FVCOM/goto2023\").expanduser()\n",
    "ncfile = \"tb_w1.8_r16_2020_0001.nc\"\n",
    "obcfile = \"TokyoBay18_obc.dat\"\n",
    "# nc_river = \"TokyoBayfinal_river.nc\"\n",
    "river_nc = \"TokyoBayfinal16_river.nc\"\n",
    "river_nml = \"RIVERS_NAMELIST16.nml\" \n",
    "ncfile_path = base_path / \"output/2020\" / ncfile\n",
    "obcfile_path = base_path / \"input/2020\" / obcfile\n",
    "river_nc_path = base_path / \"input/2020\" / river_nc\n",
    "river_nml_path = base_path / \"input/2020\" / river_nml\n",
    "river = FvcomDataLoader(ncfile_path=river_nc_path, time_tolerance=5)\n",
    "df = parse_river_namelist(river_nml_path)\n",
    "\n",
    "fvcom = FvcomDataLoader(ncfile_path=ncfile_path, obcfile_path=obcfile_path, time_tolerance=5)\n",
    "cfg = FvcomPlotConfig()\n",
    "plotter = FvcomPlotter(fvcom.ds, cfg)"
   ]
  },
  {
   "cell_type": "markdown",
   "id": "b4893896-d441-4652-b0ba-ac1cf5217b6d",
   "metadata": {},
   "source": [
    "## Plot river discharge nodes"
   ]
  },
  {
   "cell_type": "code",
   "execution_count": null,
   "id": "94632825-dd5d-462c-8114-b7ecd9f7451f",
   "metadata": {},
   "outputs": [],
   "source": [
    "mkw = {\"marker\": \"o\", \"color\": \"red\", \"markersize\": 3, \"zorder\": 4}\n",
    "tkw = {\"fontsize\": 8, \"color\": \"yellow\", \"ha\": \"center\", \"va\": \"bottom\",\n",
    "       \"zorder\": 5, \"clip_on\": True}\n",
    "\n",
    "# Convert 0-based indices to 1-based for make_node_marker_post\n",
    "# (df.grid_location is 0-based from parse_river_namelist with default to_zero_based=True)\n",
    "river_nodes_1based = df.grid_location + 1\n",
    "\n",
    "pp = make_node_marker_post(\n",
    "    river_nodes_1based,  # Pass 1-based indices\n",
    "    plotter,\n",
    "    marker_kwargs=mkw,\n",
    "    text_kwargs=tkw,\n",
    "    index_base=1,\n",
    ")\n",
    "\n",
    "opts = FvcomPlotOptions(\n",
    "    figsize=(6,9),\n",
    "    add_tiles=True,\n",
    "    tile_provider=GoogleTiles(style=\"satellite\"),\n",
    "    mesh_color=\"#ffffff\",\n",
    "    mesh_linewidth=0.3,\n",
    "    xlim = (\"139:40:00\", \"140:00:00\"),\n",
    "    ylim = (\"35:12:00\", \"35:42\"),\n",
    "    lon_tick_skip=2,\n",
    ")\n",
    "\n",
    "plotter.plot_2d(da=None, post_process_func=pp, opts=opts)"
   ]
  },
  {
   "cell_type": "code",
   "execution_count": null,
   "id": "da3fe0f6-ed2a-44ac-9aeb-f7c9f05d1611",
   "metadata": {},
   "outputs": [],
   "source": []
  }
 ],
 "metadata": {
  "kernelspec": {
   "display_name": "Python 3 (ipykernel)",
   "language": "python",
   "name": "python3"
  },
  "language_info": {
   "codemirror_mode": {
    "name": "ipython",
    "version": 3
   },
   "file_extension": ".py",
   "mimetype": "text/x-python",
   "name": "python",
   "nbconvert_exporter": "python",
   "pygments_lexer": "ipython3",
   "version": "3.11.9"
  },
  "widgets": {
   "application/vnd.jupyter.widget-state+json": {
    "state": {},
    "version_major": 2,
    "version_minor": 0
   }
  }
 },
 "nbformat": 4,
 "nbformat_minor": 5
}
