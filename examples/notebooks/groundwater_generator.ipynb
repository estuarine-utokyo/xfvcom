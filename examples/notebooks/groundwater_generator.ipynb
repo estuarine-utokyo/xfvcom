{
 "cells": [
  {
   "cell_type": "markdown",
   "metadata": {},
   "source": [
    "# Groundwater Forcing Generator\n",
    "\n",
    "This notebook demonstrates how to generate groundwater forcing files for FVCOM using the `GroundwaterNetCDFGenerator`."
   ]
  },
  {
   "cell_type": "code",
   "execution_count": null,
   "metadata": {},
   "outputs": [],
   "source": [
    "import numpy as np\n",
    "from pathlib import Path\n",
    "from xfvcom.io import GroundwaterNetCDFGenerator\n",
    "import xarray as xr"
   ]
  },
  {
   "cell_type": "markdown",
   "metadata": {},
   "source": [
    "## 1. Constant Values Example\n",
    "\n",
    "Generate a groundwater forcing file with constant values for all nodes and times:"
   ]
  },
  {
   "cell_type": "code",
   "execution_count": null,
   "metadata": {},
   "outputs": [],
   "source": [
    "# FVCOM grid files are ASCII text files (.dat format)\n",
    "grid_file = Path(\"~/Github/TB-FVCOM/goto2023/input/TokyoBay18_grd.dat\").expanduser()\n",
    "\n",
    "# Create generator with constant values\n",
    "gen = GroundwaterNetCDFGenerator(\n",
    "    grid_nc=grid_file,        # Despite the parameter name, it accepts .dat files\n",
    "    start=\"2025-01-01T00:00:00Z\",\n",
    "    end=\"2025-01-07T00:00:00Z\",\n",
    "    dt_seconds=3600,          # hourly\n",
    "    utm_zone=54,              # Required for .dat files: UTM zone\n",
    "    # northern=True,          # Default is True; set False for southern hemisphere\n",
    "    flux=0.001,               # m³/s\n",
    "    temperature=15.0,         # °C\n",
    "    salinity=0.5,             # PSU\n",
    ")\n",
    "\n",
    "# Write to file\n",
    "output_file = Path(\"groundwater_constant.nc\")\n",
    "gen.write(output_file)\n",
    "print(f\"Generated: {output_file}\")"
   ]
  },
  {
   "cell_type": "markdown",
   "metadata": {},
   "source": [
    "## 2. Node-Varying Values Example\n",
    "\n",
    "Create forcing with different values for each node (but constant in time):"
   ]
  },
  {
   "cell_type": "code",
   "execution_count": null,
   "metadata": {},
   "outputs": [],
   "source": [
    "# First, check how many nodes in the grid\n",
    "from xfvcom.grid import FvcomGrid\n",
    "\n",
    "# Load FVCOM grid file (.dat format)\n",
    "grid = FvcomGrid.from_dat(grid_file, utm_zone=54)\n",
    "n_nodes = len(grid.x)\n",
    "print(f\"Grid has {n_nodes} nodes\")\n",
    "\n",
    "# Create node-specific values\n",
    "flux_by_node = np.random.uniform(0.0, 0.01, n_nodes)  # Random flux values\n",
    "temp_by_node = np.random.uniform(10.0, 20.0, n_nodes) # Random temperatures\n",
    "\n",
    "# Create generator\n",
    "gen = GroundwaterNetCDFGenerator(\n",
    "    grid_nc=grid_file,\n",
    "    start=\"2025-01-01T00:00:00Z\",\n",
    "    end=\"2025-01-02T00:00:00Z\",\n",
    "    dt_seconds=3600,\n",
    "    utm_zone=54,\n",
    "    flux=flux_by_node,\n",
    "    temperature=temp_by_node,\n",
    "    salinity=0.0,  # Fresh water\n",
    ")\n",
    "\n",
    "output_file = Path(\"groundwater_nodes.nc\")\n",
    "gen.write(output_file)\n",
    "print(f\"Generated: {output_file}\")"
   ]
  },
  {
   "cell_type": "markdown",
   "metadata": {},
   "source": [
    "## 3. Time-Varying Values Example\n",
    "\n",
    "Create forcing that varies in both space and time:"
   ]
  },
  {
   "cell_type": "code",
   "execution_count": null,
   "metadata": {},
   "outputs": [],
   "source": [
    "# Define time parameters\n",
    "start = \"2025-01-01T00:00:00Z\"\n",
    "end = \"2025-01-03T00:00:00Z\"\n",
    "dt_hours = 6  # 6-hourly data\n",
    "\n",
    "# Calculate number of time steps\n",
    "import pandas as pd\n",
    "times = pd.date_range(start, end, freq=f\"{dt_hours}h\", inclusive=\"both\")\n",
    "n_times = len(times)\n",
    "print(f\"Time steps: {n_times}\")\n",
    "\n",
    "# Create time-varying flux (e.g., tidal influence)\n",
    "flux_data = np.zeros((n_nodes, n_times))\n",
    "for i in range(n_nodes):\n",
    "    # Sinusoidal variation with different phase for each node\n",
    "    phase = i * 2 * np.pi / n_nodes\n",
    "    flux_data[i, :] = 0.005 * (1 + np.sin(2 * np.pi * np.arange(n_times) / 4 + phase))\n",
    "\n",
    "# Create generator\n",
    "gen = GroundwaterNetCDFGenerator(\n",
    "    grid_nc=grid_file,\n",
    "    start=start,\n",
    "    end=end,\n",
    "    dt_seconds=dt_hours * 3600,\n",
    "    utm_zone=54,\n",
    "    flux=flux_data,\n",
    "    temperature=15.0,  # Constant temperature\n",
    "    salinity=0.0,      # Fresh water\n",
    ")\n",
    "\n",
    "output_file = Path(\"groundwater_timevarying.nc\")\n",
    "gen.write(output_file)\n",
    "print(f\"Generated: {output_file}\")"
   ]
  },
  {
   "cell_type": "markdown",
   "metadata": {},
   "source": [
    "## 4. Reading Spatio-Temporal Data from CSV Files\n",
    "\n",
    "For more realistic scenarios, you'll want to read groundwater data from external files. Here's how to read time-varying data from CSV files:"
   ]
  },
  {
   "cell_type": "code",
   "execution_count": null,
   "metadata": {},
   "outputs": [],
   "source": [
    "# First, let's create sample CSV files with spatio-temporal data\n",
    "# Select a subset of nodes that have groundwater (e.g., near rivers or springs)\n",
    "selected_nodes = [100, 200, 300, 400, 500]  # Example node indices\n",
    "\n",
    "# Create time series\n",
    "times_local = pd.date_range(\"2025-01-01\", \"2025-01-07\", freq=\"6h\", tz=\"Asia/Tokyo\")\n",
    "n_times = len(times_local)\n",
    "\n",
    "# Create flux CSV with realistic patterns\n",
    "flux_df = pd.DataFrame({'datetime': times_local})\n",
    "for node_idx in selected_nodes:\n",
    "    # Each node has different base flux and variation\n",
    "    base_flux = 0.001 + 0.002 * np.random.rand()\n",
    "    hours = np.array([t.hour for t in times_local])\n",
    "    \n",
    "    # Daily cycle (stronger during day) + tidal influence\n",
    "    daily_var = 0.3 * np.sin(2 * np.pi * hours / 24 - np.pi/2)\n",
    "    tidal_var = 0.2 * np.sin(2 * np.pi * np.arange(n_times) / (12.42 * 4))\n",
    "    \n",
    "    flux_df[f'node_{node_idx}'] = base_flux * (1 + daily_var + tidal_var)\n",
    "\n",
    "# Save flux data\n",
    "flux_csv = Path(\"groundwater_flux_timeseries.csv\")\n",
    "flux_df.to_csv(flux_csv, index=False)\n",
    "print(f\"Created flux CSV: {flux_csv}\")\n",
    "print(flux_df.head())"
   ]
  },
  {
   "cell_type": "code",
   "execution_count": null,
   "metadata": {},
   "outputs": [],
   "source": [
    "# Create temperature CSV\n",
    "temp_df = pd.DataFrame({'datetime': times_local})\n",
    "for node_idx in selected_nodes:\n",
    "    # Base temperature with daily variation\n",
    "    base_temp = 12 + 3 * np.random.rand()\n",
    "    hours = np.array([t.hour for t in times_local])\n",
    "    daily_var = 0.5 * np.sin(2 * np.pi * hours / 24 - np.pi/2)\n",
    "    \n",
    "    temp_df[f'node_{node_idx}'] = base_temp + daily_var\n",
    "\n",
    "temp_csv = Path(\"groundwater_temperature_timeseries.csv\")\n",
    "temp_df.to_csv(temp_csv, index=False)\n",
    "print(f\"Created temperature CSV: {temp_csv}\")"
   ]
  },
  {
   "cell_type": "markdown",
   "metadata": {},
   "source": [
    "### Read CSV Files and Convert to 2D Arrays"
   ]
  },
  {
   "cell_type": "code",
   "execution_count": null,
   "metadata": {},
   "outputs": [],
   "source": [
    "def read_spatiotemporal_csv(csv_file, selected_nodes, total_nodes):\n",
    "    \"\"\"\n",
    "    Read spatio-temporal data from CSV and prepare for FVCOM.\n",
    "    \n",
    "    CSV format:\n",
    "    datetime, node_100, node_200, node_300, ...\n",
    "    2025-01-01 00:00:00, 0.001, 0.002, 0.0015, ...\n",
    "    \"\"\"\n",
    "    df = pd.read_csv(csv_file)\n",
    "    df['datetime'] = pd.to_datetime(df['datetime'])\n",
    "    \n",
    "    times = pd.DatetimeIndex(df['datetime'])\n",
    "    n_times = len(times)\n",
    "    \n",
    "    # Initialize array with zeros for all nodes\n",
    "    data_array = np.zeros((total_nodes, n_times))\n",
    "    \n",
    "    # Fill data for nodes that have values\n",
    "    for node_idx in selected_nodes:\n",
    "        col_name = f'node_{node_idx}'\n",
    "        if col_name in df.columns:\n",
    "            data_array[node_idx, :] = df[col_name].values\n",
    "    \n",
    "    return times, data_array\n",
    "\n",
    "# Read the CSV files\n",
    "flux_times, flux_array = read_spatiotemporal_csv(flux_csv, selected_nodes, n_nodes)\n",
    "temp_times, temp_array = read_spatiotemporal_csv(temp_csv, selected_nodes, n_nodes)\n",
    "\n",
    "print(f\"Flux array shape: {flux_array.shape}\")\n",
    "print(f\"Temperature array shape: {temp_array.shape}\")\n",
    "print(f\"Active nodes: {np.sum(flux_array.sum(axis=1) > 0)} out of {n_nodes}\")"
   ]
  },
  {
   "cell_type": "markdown",
   "metadata": {},
   "source": [
    "### Create FVCOM Forcing from CSV Data"
   ]
  },
  {
   "cell_type": "code",
   "execution_count": null,
   "metadata": {},
   "outputs": [],
   "source": [
    "# Convert times to UTC (FVCOM standard)\n",
    "start_utc = flux_times[0].tz_convert('UTC').strftime('%Y-%m-%dT%H:%M:%SZ')\n",
    "end_utc = flux_times[-1].tz_convert('UTC').strftime('%Y-%m-%dT%H:%M:%SZ')\n",
    "dt_seconds = int((flux_times[1] - flux_times[0]).total_seconds())\n",
    "\n",
    "print(f\"Time range (UTC): {start_utc} to {end_utc}\")\n",
    "print(f\"Time step: {dt_seconds} seconds ({dt_seconds/3600} hours)\")\n",
    "\n",
    "# Create groundwater forcing with CSV data\n",
    "gen = GroundwaterNetCDFGenerator(\n",
    "    grid_nc=grid_file,\n",
    "    start=start_utc,\n",
    "    end=end_utc,\n",
    "    dt_seconds=dt_seconds,\n",
    "    utm_zone=54,\n",
    "    flux=flux_array,         # 2D array from CSV\n",
    "    temperature=temp_array,  # 2D array from CSV\n",
    "    salinity=0.0,           # Fresh groundwater\n",
    ")\n",
    "\n",
    "output_file = Path(\"groundwater_from_csv.nc\")\n",
    "gen.write(output_file)\n",
    "print(f\"\\\\nGenerated: {output_file}\")"
   ]
  },
  {
   "cell_type": "markdown",
   "metadata": {},
   "source": [
    "### Visualize the Data"
   ]
  },
  {
   "cell_type": "markdown",
   "metadata": {},
   "source": [
    "## 5. Alternative: Long Format CSV\n",
    "\n",
    "For larger datasets, you might prefer a long format CSV:"
   ]
  },
  {
   "cell_type": "code",
   "execution_count": null,
   "metadata": {},
   "outputs": [],
   "source": [
    "import matplotlib.pyplot as plt\n",
    "\n",
    "# Plot time series for first 3 active nodes\n",
    "fig, (ax1, ax2) = plt.subplots(2, 1, figsize=(10, 6), sharex=True)\n",
    "\n",
    "for i, node_idx in enumerate(selected_nodes[:3]):\n",
    "    ax1.plot(flux_times, flux_array[node_idx, :], label=f'Node {node_idx}')\n",
    "    ax2.plot(temp_times, temp_array[node_idx, :], label=f'Node {node_idx}')\n",
    "\n",
    "ax1.set_ylabel('Flux (m³/s)')\n",
    "ax1.set_title('Groundwater Flux Time Series')\n",
    "ax1.legend()\n",
    "ax1.grid(True, alpha=0.3)\n",
    "\n",
    "ax2.set_ylabel('Temperature (°C)')\n",
    "ax2.set_title('Groundwater Temperature Time Series')\n",
    "ax2.set_xlabel('Time')\n",
    "ax2.legend()\n",
    "ax2.grid(True, alpha=0.3)\n",
    "\n",
    "plt.tight_layout()\n",
    "plt.show()"
   ]
  },
  {
   "cell_type": "code",
   "execution_count": null,
   "metadata": {},
   "outputs": [],
   "source": [
    "# Create long format CSV (more memory efficient for sparse data)\n",
    "long_data = []\n",
    "for t_idx, time in enumerate(flux_times):\n",
    "    for node_idx in selected_nodes:\n",
    "        long_data.append({\n",
    "            'datetime': time,\n",
    "            'node_id': node_idx,\n",
    "            'flux': flux_array[node_idx, t_idx],\n",
    "            'temperature': temp_array[node_idx, t_idx]\n",
    "        })\n",
    "\n",
    "long_df = pd.DataFrame(long_data)\n",
    "long_csv = Path(\"groundwater_long_format.csv\")\n",
    "long_df.to_csv(long_csv, index=False)\n",
    "print(f\"Created long format CSV: {long_csv}\")\n",
    "print(f\"Total rows: {len(long_df)}\")\n",
    "print(long_df.head())"
   ]
  },
  {
   "cell_type": "code",
   "execution_count": null,
   "metadata": {},
   "outputs": [],
   "source": [
    "def read_long_format_csv(csv_file, total_nodes):\n",
    "    \"\"\"\n",
    "    Read long format CSV and convert to 2D arrays.\n",
    "    \n",
    "    CSV format:\n",
    "    datetime, node_id, flux, temperature\n",
    "    2025-01-01 00:00:00, 100, 0.001, 15.2\n",
    "    2025-01-01 00:00:00, 200, 0.002, 14.8\n",
    "    \"\"\"\n",
    "    df = pd.read_csv(csv_file)\n",
    "    df['datetime'] = pd.to_datetime(df['datetime'])\n",
    "    \n",
    "    # Get unique times and create mapping\n",
    "    times = pd.DatetimeIndex(df['datetime'].unique()).sort_values()\n",
    "    time_map = {t: i for i, t in enumerate(times)}\n",
    "    n_times = len(times)\n",
    "    \n",
    "    # Initialize arrays\n",
    "    flux_array = np.zeros((total_nodes, n_times))\n",
    "    temp_array = np.zeros((total_nodes, n_times))\n",
    "    \n",
    "    # Fill arrays\n",
    "    for _, row in df.iterrows():\n",
    "        t_idx = time_map[row['datetime']]\n",
    "        n_idx = int(row['node_id'])\n",
    "        flux_array[n_idx, t_idx] = row['flux']\n",
    "        temp_array[n_idx, t_idx] = row['temperature']\n",
    "    \n",
    "    return times, flux_array, temp_array\n",
    "\n",
    "# Test reading long format\n",
    "times_long, flux_long, temp_long = read_long_format_csv(long_csv, n_nodes)\n",
    "print(f\"Read {len(times_long)} time steps from long format CSV\")\n",
    "print(f\"Arrays match: flux={np.allclose(flux_array, flux_long)}, temp={np.allclose(temp_array, temp_long)}\")"
   ]
  },
  {
   "cell_type": "markdown",
   "metadata": {},
   "source": [
    "## 6. Using the CLI\n",
    "\n",
    "You can also use the command-line interface:"
   ]
  },
  {
   "cell_type": "code",
   "execution_count": null,
   "metadata": {},
   "outputs": [],
   "source": [
    "# Display CLI help\n",
    "!xfvcom-make-groundwater-nc --help"
   ]
  },
  {
   "cell_type": "markdown",
   "metadata": {},
   "source": [
    "### CLI Examples:\n",
    "\n",
    "```bash\n",
    "# Constant values\n",
    "xfvcom-make-groundwater-nc grid.nc \\\n",
    "    --start 2025-01-01T00:00Z --end 2025-01-07T00:00Z \\\n",
    "    --flux 0.001 --temperature 15.0 --salinity 0.0\n",
    "\n",
    "# Using CSV files for node-specific values (currently only reads mean values)\n",
    "xfvcom-make-groundwater-nc grid.nc \\\n",
    "    --start 2025-01-01 --end 2025-12-31 \\\n",
    "    --start-tz Asia/Tokyo \\\n",
    "    --flux groundwater_flux_by_node.csv \\\n",
    "    --temperature 10.0 --salinity 0.0\n",
    "\n",
    "# For .dat grid files, specify UTM zone\n",
    "xfvcom-make-groundwater-nc grid.dat --utm-zone 54 \\\n",
    "    --start 2025-01-01T00:00Z --end 2025-01-02T00:00Z \\\n",
    "    --flux 0.005 --temperature 18.0 --salinity 32.0\n",
    "```\n",
    "\n",
    "**Note**: The CLI currently doesn't support full time series from CSV files. Use the Python API (as shown above) for spatio-temporal data."
   ]
  },
  {
   "cell_type": "markdown",
   "metadata": {},
   "source": [
    "## 7. Verify Output\n",
    "\n",
    "Check the generated NetCDF file:"
   ]
  },
  {
   "cell_type": "code",
   "execution_count": null,
   "metadata": {},
   "outputs": [],
   "source": [
    "# Verify the constant value output\n",
    "with xr.open_dataset(\"groundwater_constant.nc\", decode_times=False) as ds:\n",
    "    print(ds)\n",
    "    print(\"\\nVariables:\")\n",
    "    for var in ds.data_vars:\n",
    "        print(f\"  {var}: {ds[var].dims} - {ds[var].attrs.get('long_name', '')}\")"
   ]
  },
  {
   "cell_type": "code",
   "execution_count": null,
   "metadata": {},
   "outputs": [],
   "source": [
    "# Verify the spatio-temporal output\n",
    "with xr.open_dataset(\"groundwater_from_csv.nc\", decode_times=False) as ds:\n",
    "    print(\"\\nSpatio-temporal groundwater forcing:\")\n",
    "    print(f\"  Time steps: {ds.sizes['time']}\")\n",
    "    print(f\"  Active nodes: {(ds.groundwater_flux.sum(dim='time') > 0).sum().values}\")\n",
    "    print(f\"  Total flux over time: {ds.groundwater_flux.sum().values:.3f} m³\")\n",
    "    \n",
    "    # Calculate mean temperature for active nodes\n",
    "    flux_data = ds.groundwater_flux.values\n",
    "    temp_data = ds.groundwater_temp.values\n",
    "    active_temps = temp_data[flux_data > 0]\n",
    "    print(f\"  Mean temperature (active nodes): {active_temps.mean():.2f} °C\")"
   ]
  },
  {
   "cell_type": "markdown",
   "metadata": {},
   "source": [
    "## Summary\n",
    "\n",
    "This notebook demonstrated several ways to create groundwater forcing files:\n",
    "\n",
    "1. **Constant values** - Same value for all nodes and times\n",
    "2. **Node-varying** - Different values per node, constant in time\n",
    "3. **Time-varying** - Programmatically generated temporal variations\n",
    "4. **CSV-based spatio-temporal** - Reading realistic data from external files:\n",
    "   - Wide format CSV (one column per node)\n",
    "   - Long format CSV (node_id column)\n",
    "\n",
    "### Key Points for Spatio-Temporal Data:\n",
    "\n",
    "- The `GroundwaterNetCDFGenerator` accepts 2D numpy arrays of shape (n_nodes, n_times)\n",
    "- CSV files can store time series data with timestamps in local timezone\n",
    "- The generator automatically converts times to UTC for FVCOM\n",
    "- Only nodes with non-zero flux will affect the model\n",
    "- Grid files can be either NetCDF (.nc) or ASCII (.dat) format\n",
    "\n",
    "### Next Steps:\n",
    "\n",
    "To make CSV input more convenient, the package could be enhanced to:\n",
    "- Add direct CSV reading support in `GroundwaterNetCDFGenerator`\n",
    "- Update CLI to accept time series files (like `--flux-ts file.csv`)\n",
    "- Add interpolation for different time resolutions\n",
    "- Support additional file formats (HDF5, NetCDF)"
   ]
  },
  {
   "cell_type": "code",
   "execution_count": null,
   "metadata": {},
   "outputs": [],
   "source": []
  }
 ],
 "metadata": {
  "kernelspec": {
   "display_name": "Python 3 (ipykernel)",
   "language": "python",
   "name": "python3"
  },
  "language_info": {
   "codemirror_mode": {
    "name": "ipython",
    "version": 3
   },
   "file_extension": ".py",
   "mimetype": "text/x-python",
   "name": "python",
   "nbconvert_exporter": "python",
   "pygments_lexer": "ipython3",
   "version": "3.12.8"
  },
  "widgets": {
   "application/vnd.jupyter.widget-state+json": {
    "state": {},
    "version_major": 2,
    "version_minor": 0
   }
  }
 },
 "nbformat": 4,
 "nbformat_minor": 4
}
