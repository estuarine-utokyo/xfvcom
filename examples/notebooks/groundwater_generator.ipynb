{
 "cells": [
  {
   "cell_type": "markdown",
   "metadata": {},
   "source": [
    "# Groundwater Forcing Generator\n",
    "**Author: Jun Sasaki | Created: 2025-09-21 Updated: 2025-09-21**\n",
    "\n",
    "**Purpose:**\n",
    "This notebook demonstrates how to generate groundwater forcing files for FVCOM using the `GroundwaterNetCDFGenerator`.\n",
    "\n",
    "**Important Note on Node Indexing:**\n",
    "- FVCOM uses **1-based node numbering** (nodes 1, 2, 3, ...)\n",
    "- Python uses **0-based array indexing** (indices 0, 1, 2, ...)\n",
    "- This notebook uses 1-based node IDs when referring to FVCOM nodes\n",
    "- When accessing Python arrays, we convert: `array[node_id - 1]`\n",
    "\n",
    "## Contents\n",
    "1. Basic Setup and Imports\n",
    "2. Constant Values (Simplest)\n",
    "3. Selective Node Forcing (Specific Locations)\n",
    "4. Node-Varying Values (Spatial Variation)\n",
    "5. Time-Varying Values (Temporal Variation)\n",
    "6. Time-Varying Selective Nodes (Combined)\n",
    "7. CSV Input - Wide Format\n",
    "8. CSV Input - Long Format\n",
    "9. Including Dye Concentration\n",
    "10. Command Line Interface\n",
    "11. Verification Examples\n",
    "12. Summary"
   ]
  },
  {
   "cell_type": "markdown",
   "metadata": {},
   "source": [
    "## 1. Basic Setup and Imports"
   ]
  },
  {
   "cell_type": "code",
   "execution_count": null,
   "metadata": {},
   "outputs": [],
   "source": [
    "import numpy as np\n",
    "from pathlib import Path\n",
    "from xfvcom.io import GroundwaterNetCDFGenerator\n",
    "from xfvcom.grid import FvcomGrid\n",
    "import xarray as xr\n",
    "import pandas as pd\n",
    "\n",
    "from IPython.core.magic import register_cell_magic\n",
    "@register_cell_magic\n",
    "def skip(line, cell):\n",
    "    print(\"This cell is skipped.\")"
   ]
  },
  {
   "cell_type": "code",
   "execution_count": null,
   "metadata": {},
   "outputs": [],
   "source": [
    "# Load FVCOM grid file (.dat format)\n",
    "grid_file = Path(\"~/Github/TB-FVCOM/goto2023/input/TokyoBay18_grd.dat\").expanduser()\n",
    "\n",
    "# Output directories\n",
    "output_nc = Path(\"NC\")  # NetCDF output directory\n",
    "output_csv = Path(\"CSV\")  # CSV output directory\n",
    "\n",
    "# Create output directories if they don't exist\n",
    "output_nc.mkdir(exist_ok=True)\n",
    "output_csv.mkdir(exist_ok=True)\n",
    "\n",
    "# Get grid information\n",
    "grid = FvcomGrid.from_dat(grid_file, utm_zone=54)\n",
    "n_nodes = len(grid.x)\n",
    "print(f\"Grid has {n_nodes} nodes\")\n",
    "print(f\"NetCDF output directory: {output_nc}\")\n",
    "print(f\"CSV output directory: {output_csv}\")"
   ]
  },
  {
   "cell_type": "markdown",
   "metadata": {},
   "source": [
    "## 2. Constant and Uniform Values (Simplest)\n",
    "\n",
    "The simplest case: apply the same groundwater properties to all nodes for all time steps."
   ]
  },
  {
   "cell_type": "code",
   "execution_count": null,
   "metadata": {},
   "outputs": [],
   "source": [
    "# Create generator with constant values\n",
    "gen = GroundwaterNetCDFGenerator(\n",
    "    grid_nc=grid_file,        # Despite the parameter name, it accepts .dat files\n",
    "    start=\"2025-01-01T00:00:00Z\",\n",
    "    end=\"2025-01-07T00:00:00Z\",\n",
    "    dt_seconds=3600,          # hourly\n",
    "    utm_zone=54,              # Required for .dat files: UTM zone\n",
    "    flux=0.001,               # m³/s - constant for all nodes\n",
    "    temperature=15.0,         # °C - constant for all nodes\n",
    "    salinity=0.5,             # PSU - constant for all nodes\n",
    ")\n",
    "\n",
    "# Write to file in NetCDF output directory\n",
    "output_file = output_nc / \"groundwater_constant.nc\"\n",
    "gen.write(output_file)\n",
    "print(f\"Generated: {output_file}\")"
   ]
  },
  {
   "cell_type": "markdown",
   "metadata": {},
   "source": [
    "## 3. Constant Uniform Selective Node Forcing (Specific Locations)\n",
    "\n",
    "Apply constant and uniform groundwater forcing only to specific nodes (e.g., known spring locations), with all other nodes set to zero."
   ]
  },
  {
   "cell_type": "code",
   "execution_count": null,
   "metadata": {},
   "outputs": [],
   "source": [
    "# Define active groundwater nodes (1-based FVCOM node IDs)\n",
    "active_gw_nodes = [1443, 1503, 1504, 1506, 1507, 1572, 1573, 1574, 1575, 1576]\n",
    "\n",
    "# Define constant values for groundwater properties\n",
    "gw_properties = {\n",
    "    'flux': 1e-7,        # m/s\n",
    "    'temperature': 14,  # °C\n",
    "    'salinity': 30,      # PSU\n",
    "    'dye': 300.0,         # Dye concentration for tracking $\\mu$ mol/L\n",
    "}\n",
    "\n",
    "print(f\"Active nodes: {len(active_gw_nodes)} out of {n_nodes} total\")"
   ]
  },
  {
   "cell_type": "code",
   "execution_count": null,
   "metadata": {},
   "outputs": [],
   "source": [
    "# Create arrays with values only at active nodes\n",
    "flux_selective = np.zeros(n_nodes)\n",
    "temp_selective = np.zeros(n_nodes)\n",
    "salt_selective = np.zeros(n_nodes)\n",
    "dye_selective = np.zeros(n_nodes)\n",
    "\n",
    "for node_id in active_gw_nodes:\n",
    "    idx = node_id - 1  # Convert 1-based to 0-based index\n",
    "    if 0 <= idx < n_nodes:\n",
    "        flux_selective[idx] = gw_properties['flux']\n",
    "        temp_selective[idx] = gw_properties['temperature']\n",
    "        salt_selective[idx] = gw_properties['salinity']\n",
    "        dye_selective[idx] = gw_properties['dye']\n",
    "\n",
    "# Generate NetCDF\n",
    "year=2021\n",
    "gen_selective = GroundwaterNetCDFGenerator(\n",
    "    grid_nc=grid_file,\n",
    "    start=f\"{year}-01-01T00:00:00Z\",\n",
    "    end=f\"{year+1}-01-01T00:00:00Z\",\n",
    "    dt_seconds=86400,\n",
    "    utm_zone=54,\n",
    "    flux=flux_selective,\n",
    "    temperature=temp_selective,\n",
    "    salinity=salt_selective,\n",
    "    dye=dye_selective,\n",
    ")\n",
    "\n",
    "output_selective = output_nc / f\"gwf_{year}.nc\"\n",
    "gen_selective.write(output_selective)\n",
    "print(f\"Generated: {output_selective}\")"
   ]
  },
  {
   "cell_type": "markdown",
   "metadata": {},
   "source": [
    "## 4. Constant Node-Varying Values (Spatial Variation)\n",
    "\n",
    "Different values for each node, but constant in time."
   ]
  },
  {
   "cell_type": "code",
   "execution_count": null,
   "metadata": {},
   "outputs": [],
   "source": [
    "# Create node-specific values\n",
    "flux_by_node = np.random.uniform(0.0, 0.01, n_nodes)  # Random flux values\n",
    "temp_by_node = np.random.uniform(10.0, 20.0, n_nodes) # Random temperatures\n",
    "salt_by_node = np.random.uniform(0.0, 2.0, n_nodes)   # Random salinities\n",
    "\n",
    "# Create generator\n",
    "gen = GroundwaterNetCDFGenerator(\n",
    "    grid_nc=grid_file,\n",
    "    start=\"2025-01-01T00:00:00Z\",\n",
    "    end=\"2025-01-02T00:00:00Z\",\n",
    "    dt_seconds=3600,\n",
    "    utm_zone=54,\n",
    "    flux=flux_by_node,\n",
    "    temperature=temp_by_node,\n",
    "    salinity=salt_by_node,\n",
    ")\n",
    "\n",
    "output_file = output_nc / \"groundwater_node_varying.nc\"\n",
    "gen.write(output_file)\n",
    "print(f\"Generated: {output_file}\")"
   ]
  },
  {
   "cell_type": "markdown",
   "metadata": {},
   "source": [
    "## 5. Time-Varying Values (Temporal Variation)\n",
    "\n",
    "Values that change over time (e.g., tidal influence on flux)."
   ]
  },
  {
   "cell_type": "code",
   "execution_count": null,
   "metadata": {},
   "outputs": [],
   "source": [
    "# Define time parameters\n",
    "start = \"2025-01-01T00:00:00Z\"\n",
    "end = \"2025-01-03T00:00:00Z\"\n",
    "dt_hours = 6  # 6-hourly data\n",
    "\n",
    "# Calculate number of time steps\n",
    "times = pd.date_range(start, end, freq=f\"{dt_hours}h\", inclusive=\"both\")\n",
    "n_times = len(times)\n",
    "print(f\"Time steps: {n_times}\")\n",
    "\n",
    "# Create time-varying flux (e.g., tidal influence)\n",
    "flux_data = np.zeros((n_nodes, n_times))\n",
    "for i in range(n_nodes):\n",
    "    phase = i * 2 * np.pi / n_nodes\n",
    "    flux_data[i, :] = 0.005 * (1 + np.sin(2 * np.pi * np.arange(n_times) / 4 + phase))\n",
    "\n",
    "# Create generator\n",
    "gen = GroundwaterNetCDFGenerator(\n",
    "    grid_nc=grid_file,\n",
    "    start=start,\n",
    "    end=end,\n",
    "    dt_seconds=dt_hours * 3600,\n",
    "    utm_zone=54,\n",
    "    flux=flux_data,\n",
    "    temperature=15.0,  # Constant temperature\n",
    "    salinity=0.0,      # Fresh water\n",
    ")\n",
    "\n",
    "output_file = output_nc / \"groundwater_timevarying.nc\"\n",
    "gen.write(output_file)\n",
    "print(f\"Generated: {output_file}\")"
   ]
  },
  {
   "cell_type": "markdown",
   "metadata": {},
   "source": [
    "## 6. Time-Varying Selective Nodes (Combined)\n",
    "\n",
    "Combine selective nodes with time-varying patterns."
   ]
  },
  {
   "cell_type": "code",
   "execution_count": null,
   "metadata": {},
   "outputs": [],
   "source": [
    "# Time parameters\n",
    "start_date = \"2025-01-01T00:00:00Z\"\n",
    "end_date = \"2025-01-07T00:00:00Z\"\n",
    "dt_seconds = 3600\n",
    "times_utc = pd.date_range(start_date, end_date, freq=f\"{dt_seconds}s\", inclusive=\"both\")\n",
    "n_timesteps = len(times_utc)\n",
    "\n",
    "# Initialize 2D arrays with zeros\n",
    "flux_selective_2d = np.zeros((n_nodes, n_timesteps))\n",
    "temp_selective_2d = np.zeros((n_nodes, n_timesteps))\n",
    "\n",
    "# Create time-varying patterns for active nodes only\n",
    "for node_id in active_gw_nodes:\n",
    "    idx = node_id - 1\n",
    "    if 0 <= idx < n_nodes:\n",
    "        t_hours = np.arange(n_timesteps)\n",
    "        \n",
    "        # Tidal variation for flux\n",
    "        tidal_period = 12.42\n",
    "        phase = (node_id % 10) * np.pi / 5\n",
    "        flux_selective_2d[idx, :] = 0.001 * (1 + 0.3 * np.sin(2 * np.pi * t_hours / tidal_period + phase))\n",
    "        \n",
    "        # Diurnal variation for temperature\n",
    "        temp_selective_2d[idx, :] = 12.5 + 0.5 * np.sin(2 * np.pi * t_hours / 24)\n",
    "\n",
    "# Generate NetCDF\n",
    "gen = GroundwaterNetCDFGenerator(\n",
    "    grid_nc=grid_file,\n",
    "    start=start_date,\n",
    "    end=end_date,\n",
    "    dt_seconds=dt_seconds,\n",
    "    utm_zone=54,\n",
    "    flux=flux_selective_2d,\n",
    "    temperature=temp_selective_2d,\n",
    "    salinity=0.5,\n",
    ")\n",
    "\n",
    "output_file = output_nc / \"groundwater_selective_timevarying.nc\"\n",
    "gen.write(output_file)\n",
    "print(f\"Generated: {output_file}\")"
   ]
  },
  {
   "cell_type": "markdown",
   "metadata": {},
   "source": [
    "## 7. CSV Input - Wide Format\n",
    "\n",
    "Read time-varying data from CSV files where each column represents a node."
   ]
  },
  {
   "cell_type": "code",
   "execution_count": null,
   "metadata": {},
   "outputs": [],
   "source": [
    "# Select nodes for CSV example (1-based FVCOM node IDs)\n",
    "selected_nodes = [101, 201, 301, 401, 501]\n",
    "\n",
    "# Create time series\n",
    "times_local = pd.date_range(\"2025-01-01\", \"2025-01-07\", freq=\"6h\", tz=\"Asia/Tokyo\")\n",
    "n_times = len(times_local)\n",
    "\n",
    "# Create flux CSV\n",
    "flux_df = pd.DataFrame({'datetime': times_local})\n",
    "for node_id in selected_nodes:\n",
    "    base_flux = 0.001 + 0.002 * np.random.rand()\n",
    "    hours = np.array([t.hour for t in times_local])\n",
    "    daily_var = 0.3 * np.sin(2 * np.pi * hours / 24 - np.pi/2)\n",
    "    flux_df[f'node_{node_id}'] = base_flux * (1 + daily_var)\n",
    "\n",
    "flux_csv = output_csv / \"groundwater_flux_timeseries.csv\"\n",
    "flux_df.to_csv(flux_csv, index=False)\n",
    "print(f\"Created: {flux_csv}\")\n",
    "print(flux_df.head())"
   ]
  },
  {
   "cell_type": "code",
   "execution_count": null,
   "metadata": {},
   "outputs": [],
   "source": [
    "def read_spatiotemporal_csv(csv_file, selected_nodes, total_nodes):\n",
    "    \"\"\"Read CSV and convert to 2D array for FVCOM.\"\"\"\n",
    "    df = pd.read_csv(csv_file)\n",
    "    df['datetime'] = pd.to_datetime(df['datetime'])\n",
    "    \n",
    "    times = pd.DatetimeIndex(df['datetime'])\n",
    "    n_times = len(times)\n",
    "    \n",
    "    # Initialize with zeros\n",
    "    data_array = np.zeros((total_nodes, n_times))\n",
    "    \n",
    "    # Fill data for selected nodes\n",
    "    for node_id in selected_nodes:  # 1-based\n",
    "        col_name = f'node_{node_id}'\n",
    "        if col_name in df.columns:\n",
    "            data_array[node_id - 1, :] = df[col_name].values  # Convert to 0-based\n",
    "    \n",
    "    return times, data_array\n",
    "\n",
    "# Read CSV\n",
    "flux_times, flux_array = read_spatiotemporal_csv(flux_csv, selected_nodes, n_nodes)\n",
    "print(f\"Flux array shape: {flux_array.shape}\")"
   ]
  },
  {
   "cell_type": "markdown",
   "metadata": {},
   "source": [
    "## 8. CSV Input - Long Format\n",
    "\n",
    "Alternative CSV format with node_id column (more memory efficient for sparse data)."
   ]
  },
  {
   "cell_type": "code",
   "execution_count": null,
   "metadata": {},
   "outputs": [],
   "source": [
    "# Create long format CSV\n",
    "long_data = []\n",
    "for t_idx, time in enumerate(flux_times):\n",
    "    for node_id in selected_nodes:  # 1-based\n",
    "        long_data.append({\n",
    "            'datetime': time,\n",
    "            'node_id': node_id,  # Store 1-based\n",
    "            'flux': flux_array[node_id - 1, t_idx],\n",
    "            'temperature': 15.0,\n",
    "        })\n",
    "\n",
    "long_df = pd.DataFrame(long_data)\n",
    "long_csv = output_csv / \"groundwater_long_format.csv\"\n",
    "long_df.to_csv(long_csv, index=False)\n",
    "print(f\"Created: {long_csv}\")\n",
    "print(long_df.head())"
   ]
  },
  {
   "cell_type": "markdown",
   "metadata": {},
   "source": [
    "## 9. Including Dye Concentration\n",
    "\n",
    "Add dye tracer for tracking groundwater influence."
   ]
  },
  {
   "cell_type": "code",
   "execution_count": null,
   "metadata": {},
   "outputs": [],
   "source": [
    "# Constant dye for all nodes\n",
    "gen = GroundwaterNetCDFGenerator(\n",
    "    grid_nc=grid_file,\n",
    "    start=\"2025-01-01T00:00:00Z\",\n",
    "    end=\"2025-01-07T00:00:00Z\",\n",
    "    dt_seconds=3600,\n",
    "    utm_zone=54,\n",
    "    flux=0.001,\n",
    "    temperature=15.0,\n",
    "    salinity=0.5,\n",
    "    dye=100.0,  # Add dye concentration\n",
    ")\n",
    "\n",
    "output_file = output_nc / \"groundwater_with_dye.nc\"\n",
    "gen.write(output_file)\n",
    "print(f\"Generated: {output_file} with dye concentration\")"
   ]
  },
  {
   "cell_type": "code",
   "execution_count": null,
   "metadata": {},
   "outputs": [],
   "source": [
    "# Time-varying dye with pulse releases\n",
    "n_timesteps = 168  # 1 week hourly\n",
    "dye_selective = np.zeros((n_nodes, n_timesteps))\n",
    "\n",
    "for node_id in active_gw_nodes:\n",
    "    idx = node_id - 1\n",
    "    if 0 <= idx < n_nodes:\n",
    "        # Weekly pulse releases\n",
    "        for pulse_start in range(0, n_timesteps, 24 * 7):\n",
    "            for t in range(min(24, n_timesteps - pulse_start)):\n",
    "                dye_selective[idx, pulse_start + t] = 100.0 * np.exp(-t / 12)\n",
    "\n",
    "print(f\"Created dye pulse pattern for {len(active_gw_nodes)} nodes\")"
   ]
  },
  {
   "cell_type": "markdown",
   "metadata": {},
   "source": [
    "## 10. Command Line Interface\n",
    "\n",
    "You can also use the CLI tool for simple cases:"
   ]
  },
  {
   "cell_type": "code",
   "execution_count": null,
   "metadata": {},
   "outputs": [],
   "source": [
    "# Display CLI help\n",
    "!xfvcom-make-groundwater-nc --help"
   ]
  },
  {
   "cell_type": "markdown",
   "metadata": {},
   "source": [
    "### CLI Examples:\n",
    "\n",
    "```bash\n",
    "# Constant values\n",
    "xfvcom-make-groundwater-nc grid.nc \\\n",
    "    --start 2025-01-01T00:00Z --end 2025-01-07T00:00Z \\\n",
    "    --flux 0.001 --temperature 15.0 --salinity 0.0 --dye 100.0\n",
    "\n",
    "# For .dat grid files\n",
    "xfvcom-make-groundwater-nc grid.dat --utm-zone 54 \\\n",
    "    --start 2025-01-01T00:00Z --end 2025-01-02T00:00Z \\\n",
    "    --flux 0.005 --temperature 18.0 --salinity 32.0\n",
    "```"
   ]
  },
  {
   "cell_type": "markdown",
   "metadata": {},
   "source": [
    "## 11. Verification Examples\n",
    "\n",
    "Check the generated NetCDF files."
   ]
  },
  {
   "cell_type": "code",
   "execution_count": null,
   "metadata": {},
   "outputs": [],
   "source": [
    "# Verify constant value output\n",
    "nc_file = output_nc / \"groundwater_constant.nc\"\n",
    "with xr.open_dataset(nc_file, decode_times=False) as ds:\n",
    "    print(f\"Checking {nc_file}\")\n",
    "    print(\"Dataset dimensions:\")\n",
    "    print(f\"  Time steps: {ds.sizes['time']}\")\n",
    "    print(f\"  Nodes: {ds.sizes['node']}\")\n",
    "    print(\"\\nVariables:\")\n",
    "    for var in ds.data_vars:\n",
    "        print(f\"  {var}: {ds[var].dims}\")"
   ]
  },
  {
   "cell_type": "code",
   "execution_count": null,
   "metadata": {},
   "outputs": [],
   "source": [
    "# Verify selective nodes\n",
    "nc_file = output_nc / \"groundwater_selective_nodes.nc\"\n",
    "with xr.open_dataset(nc_file, decode_times=False) as ds:\n",
    "    print(f\"Checking {nc_file}\")\n",
    "    flux_data = ds.groundwater_flux.values\n",
    "    flux_sum = flux_data.sum(axis=0)  # Sum over time\n",
    "    active_indices = np.where(flux_sum > 0)[0]\n",
    "    active_node_ids = active_indices + 1  # Convert to 1-based\n",
    "    \n",
    "    print(f\"Active nodes (1-based): {list(active_node_ids)}\")\n",
    "    print(f\"Number of active nodes: {len(active_node_ids)}\")\n",
    "    print(f\"Total flux per timestep: {flux_sum[active_indices].sum():.6f} m/s\")"
   ]
  },
  {
   "cell_type": "markdown",
   "metadata": {},
   "source": [
    "## 12. Summary\n",
    "\n",
    "This notebook demonstrated groundwater forcing generation for FVCOM, progressing from simple to complex:\n",
    "\n",
    "### Complexity Progression:\n",
    "1. **Constant values** - Simplest case, same values everywhere\n",
    "2. **Selective nodes** - Apply forcing only to specific locations\n",
    "3. **Spatial variation** - Different values per node\n",
    "4. **Temporal variation** - Time-varying patterns\n",
    "5. **Combined variations** - Both spatial and temporal\n",
    "6. **CSV input** - Read from external data files\n",
    "7. **Dye tracers** - Add passive tracer concentration\n",
    "\n",
    "### Key Points for Node Indexing:\n",
    "- **FVCOM uses 1-based node numbering** (Fortran convention)\n",
    "- **CSV files use 1-based node IDs** (e.g., `node_101`, `node_201`)\n",
    "- **Python arrays use 0-based indexing**: convert with `array[node_id - 1]`\n",
    "- NetCDF output maintains proper alignment: array position 0 → FVCOM node 1\n",
    "\n",
    "### Input Options:\n",
    "The `GroundwaterNetCDFGenerator` accepts:\n",
    "- **Scalars**: Single value for all nodes and times\n",
    "- **1D arrays**: Different values per node (constant in time)\n",
    "- **2D arrays**: Full spatio-temporal variation (nodes × time)\n",
    "\n",
    "### Practical Applications:\n",
    "1. **Submarine groundwater discharge** - Coastal freshwater inputs\n",
    "2. **Contaminant tracking** - Using dye tracers\n",
    "3. **Spring locations** - Point sources of groundwater\n",
    "4. **Tidal pumping** - Time-varying flux patterns\n",
    "5. **Temperature impacts** - Cool groundwater affecting stratification\n",
    "\n",
    "### Next Steps:\n",
    "- Integrate with field measurements\n",
    "- Couple with salinity observations\n",
    "- Use dye tracers for model validation\n",
    "- Apply realistic temporal patterns from monitoring data"
   ]
  }
 ],
 "metadata": {
  "kernelspec": {
   "display_name": "Python 3 (ipykernel)",
   "language": "python",
   "name": "python3"
  },
  "language_info": {
   "codemirror_mode": {
    "name": "ipython",
    "version": 3
   },
   "file_extension": ".py",
   "mimetype": "text/x-python",
   "name": "python",
   "nbconvert_exporter": "python",
   "pygments_lexer": "ipython3",
   "version": "3.11.9"
  }
 },
 "nbformat": 4,
 "nbformat_minor": 4
}
