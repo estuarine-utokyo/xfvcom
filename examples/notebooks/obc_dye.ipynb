{
 "cells": [
  {
   "cell_type": "markdown",
   "id": "3e5d46d5-bdb4-48f1-a900-127ab795f6bd",
   "metadata": {},
   "source": [
    "# Check dye input files\n",
    "**Author: Jun Sasaki  Coded 2024-12-26  Updated 2025-04-17**<br>\n",
    "Checking input files for dye simulation. Demonstration of a static plot using matplotlib and an interactive plot using hvplot."
   ]
  },
  {
   "cell_type": "code",
   "execution_count": null,
   "id": "3b10d7ca-72de-4e7c-819f-14ee12b4ae3a",
   "metadata": {},
   "outputs": [],
   "source": [
    "import os\n",
    "from xfvcom import FvcomDataLoader, FvcomPlotConfig, FvcomPlotter\n",
    "from xfvcom.helpers import get_index_by_value\n",
    "import numpy as np\n",
    "import matplotlib.pyplot as plt\n",
    "import pandas as pd\n",
    "\n",
    "from IPython.core.magic import register_cell_magic\n",
    "\n",
    "@register_cell_magic\n",
    "def skip(line, cell):\n",
    "    print(\"This cell is skipped.\")"
   ]
  },
  {
   "cell_type": "code",
   "execution_count": null,
   "id": "056b1d3f-f913-4184-aca8-8f06ef4eca6e",
   "metadata": {},
   "outputs": [],
   "source": [
    "base_path = \"~/Github/TB-FVCOM/goto_dye/input/input_steady/2020\"\n",
    "base_path = os.path.expanduser(base_path)\n",
    "ncfile = \"obc_dye2020.nc\"\n",
    "ncfile_path = os.path.join(base_path, ncfile)\n",
    "ds = FvcomDataLoader(ncfile_path=ncfile_path, time_tolerance=5).ds\n",
    "ds"
   ]
  },
  {
   "cell_type": "markdown",
   "id": "79ab06ab-f48a-4787-8133-bd49feb844cc",
   "metadata": {},
   "source": [
    "### Retrieve a list of open boundary nodes"
   ]
  },
  {
   "cell_type": "code",
   "execution_count": null,
   "id": "0a7b83e9-ea4d-45db-8d61-3577dc56a7d0",
   "metadata": {},
   "outputs": [],
   "source": [
    "obc_nodes =ds.obc_nodes.values\n",
    "print(f\"obc_nodes={obc_nodes}\")"
   ]
  },
  {
   "cell_type": "markdown",
   "id": "3c640353-dfc1-4bc5-802b-133731240987",
   "metadata": {},
   "source": [
    "### Retrieve the node index `node_idx` corresponding to a specified `node` value and create its DataArray."
   ]
  },
  {
   "cell_type": "code",
   "execution_count": null,
   "id": "5c975c11-56ce-472b-a07a-ffea2a59000f",
   "metadata": {},
   "outputs": [],
   "source": [
    "node = 3137\n",
    "node_idx = get_index_by_value(obc_nodes, node)\n",
    "print(f\"node_idx={node_idx}\")\n",
    "da = ds['obc_dye'].isel(nobc=node_idx)"
   ]
  },
  {
   "cell_type": "markdown",
   "id": "ccbe93fa-2d6b-4499-9c0e-b7291319d63b",
   "metadata": {},
   "source": [
    "### Plot timeseries contourf\n",
    "Further costomization can be made using `(fig, ax, cbar)`. "
   ]
  },
  {
   "cell_type": "code",
   "execution_count": null,
   "id": "6d2d96a3-40bb-45f2-b841-4b3b4b004af9",
   "metadata": {},
   "outputs": [],
   "source": [
    "png_dir = \"PNG\"; os.makedirs(png_dir, exist_ok=True)\n",
    "png_file = \"dye_obc.png\"\n",
    "png_path = os.path.join(png_dir, png_file)\n",
    "cfg = FvcomPlotConfig(figsize=(10,2))\n",
    "plotter = FvcomPlotter(ds, cfg)\n",
    "# xlim = (da.time[0].values, da.time[-1].values)\n",
    "ylim = (1, 0)\n",
    "# vmin, vmax = (da.min().item(), da.max().item())\n",
    "vmin, vmax = (2.5, 6)\n",
    "title = f\"Dye at node={node}\"\n",
    "contourf_kwargs=dict(vmin=vmin, vmax=vmax, levels=31)\n",
    "colorbar_kwargs=dict(label=\"Dye\")\n",
    "fig, ax, cbar = plotter.ts_contourf(da, ylim=ylim, title=title, contourf_kwargs=contourf_kwargs, colorbar_kwargs=colorbar_kwargs)\n",
    "fig.savefig(png_path, dpi=600, bbox_inches='tight')"
   ]
  },
  {
   "cell_type": "markdown",
   "id": "e47d033d-3bb3-44d8-9670-d88cf66885fa",
   "metadata": {},
   "source": [
    "## Spatial 2D plot along open boundary nodes at a specified time"
   ]
  },
  {
   "cell_type": "code",
   "execution_count": null,
   "id": "e9dfbb43-6fcd-4679-a7b2-1b4bffd0994d",
   "metadata": {},
   "outputs": [],
   "source": [
    "print(ds[\"siglay\"].dims)      # 何が出ますか?\n",
    "print(ds[\"siglay\"].shape)"
   ]
  },
  {
   "cell_type": "code",
   "execution_count": null,
   "id": "af1e03b8-e5de-436b-9c77-f80e6963814d",
   "metadata": {},
   "outputs": [],
   "source": [
    "# ───────────────────────────────────────────────\n",
    "# 0) prerequisites\n",
    "# ───────────────────────────────────────────────\n",
    "selected_time = np.datetime64(\"2020-01-01\")\n",
    "dye_profile   = ds[\"obc_dye\"].sel(time=selected_time, method=\"nearest\")\n",
    "# dims: ('siglay', 'nobc')\n",
    "\n",
    "# ───────────────────────────────────────────────\n",
    "# 1) build σ-grid, 水深グリッド, 境界ノード番号グリッド\n",
    "# ※ シンボル名は従来コードに合わせる\n",
    "# ───────────────────────────────────────────────\n",
    "siglay_1d   = ds[\"siglay\"].values              # shape: (nsiglay,)\n",
    "water_depth = ds[\"obc_h\"].values               # shape: (nnobc,)\n",
    "\n",
    "# ⇒ ('siglay','nobc') にブロードキャスト\n",
    "siglay_grid  = np.broadcast_to(siglay_1d[:, None],\n",
    "                               (siglay_1d.size, water_depth.size))\n",
    "nobc_indices = np.broadcast_to(np.arange(water_depth.size),\n",
    "                               (siglay_1d.size, water_depth.size))\n",
    "depth        = siglay_grid * water_depth[None, :]     # 実深度（負値）\n",
    "\n",
    "# ───────────────────────────────────────────────\n",
    "# 2) plotting (元コードそのまま動く)\n",
    "# ───────────────────────────────────────────────\n",
    "plt.close()\n",
    "yaxis_siglay = False          # ← True なら σ 座標、False なら実深度\n",
    "plt.figure(figsize=(10, 3))\n",
    "\n",
    "if yaxis_siglay:\n",
    "    plt.contourf(\n",
    "        nobc_indices,          # X 軸（境界ノードインデックス）\n",
    "        siglay_grid,           # Y 軸（σレイヤ値・負値で上が 0）\n",
    "        dye_profile.values,    # Z （濃度）\n",
    "        levels=20, cmap=\"viridis\"\n",
    "    )\n",
    "else:\n",
    "    plt.contourf(\n",
    "        nobc_indices,          # X\n",
    "        depth,                 # Y: 実深度（負値）\n",
    "        dye_profile.values,    # Z\n",
    "        levels=20, cmap=\"viridis\"\n",
    "    )\n",
    "\n",
    "plt.colorbar(label=\"Dye Concentration\")\n",
    "plt.xlabel(\"Boundary Node Index\")\n",
    "plt.ylabel(\"Depth (m)\")\n",
    "plt.title(f\"Dye Concentration Cross-Section on {selected_time}\")\n",
    "plt.gca().invert_yaxis()\n",
    "plt.tight_layout()\n",
    "plt.show()\n"
   ]
  },
  {
   "cell_type": "code",
   "execution_count": null,
   "id": "e97072e6-c2a9-432a-845b-8338d441bb49",
   "metadata": {},
   "outputs": [],
   "source": [
    "%%skip\n",
    "selected_time = '2020-01-01'\n",
    "selected_time = np.datetime64(selected_time)\n",
    "dye_profile = ds['obc_dye'].sel(time=selected_time, method='nearest')\n",
    "siglay = ds['siglay'][:, node_idx]\n",
    "obc_h = ds['obc_h']\n",
    "depth = siglay * obc_h  # Determine the depth at each node\n",
    "depth = depth.transpose('siglay', 'nobc') \n",
    "nobc_indices = np.tile(obc_h.nobc.values, (len(siglay), 1)) \n",
    "nobc_numbers = np.tile(obc_nodes, (len(siglay),1))\n",
    "siglay_grid = np.tile(siglay.values[:, None], (1, len(obc_nodes)))"
   ]
  },
  {
   "cell_type": "code",
   "execution_count": null,
   "id": "55c15218-9b12-40ef-be39-006d7dffb5a9",
   "metadata": {},
   "outputs": [],
   "source": [
    "%%skip\n",
    "plt.close()\n",
    "yaxis_siglay=False\n",
    "plt.figure(figsize=(10, 3))\n",
    "if yaxis_siglay:\n",
    "    plt.contourf(\n",
    "        nobc_indices, siglay_grid, dye_profile.values, levels=20, cmap='viridis'\n",
    "    )\n",
    "else:\n",
    "    plt.contourf(\n",
    "        nobc_indices, depth, dye_profile.values, levels=20, cmap='viridis'\n",
    "    )\n",
    "plt.colorbar(label=\"Dye Concentration\")\n",
    "plt.xlabel(\"Boundary Node Index\")\n",
    "plt.ylabel(\"Depth (m)\")\n",
    "plt.title(f\"Dye Concentration Cross-Section on {selected_time}\")\n",
    "plt.gca().invert_yaxis()  # 水深を正の方向に（深くなるほど下へ）\n",
    "#plt.grid(True)\n",
    "plt.tight_layout()\n",
    "plt.show()"
   ]
  },
  {
   "cell_type": "markdown",
   "id": "a951cfc0-afc8-49f8-8e1d-9c2c73604e31",
   "metadata": {},
   "source": [
    "## Interactive timeseries plot at a specified node\n",
    "Useful for checking values interactively."
   ]
  },
  {
   "cell_type": "code",
   "execution_count": null,
   "id": "45217bb6-e1e9-4bad-b42e-7d1da44e75bd",
   "metadata": {},
   "outputs": [],
   "source": [
    "import holoviews as hv\n",
    "import panel as pn\n",
    "hv.extension('bokeh')\n",
    "pn.extension()"
   ]
  },
  {
   "cell_type": "code",
   "execution_count": null,
   "id": "bfeac881-945e-4862-96a0-7fdace2f87b4",
   "metadata": {},
   "outputs": [],
   "source": [
    "def plot_time_siglay(node):\n",
    "    \"\"\"\n",
    "    The dye concentration at the specified node is plotted as a heatmap based on time series and sigma layers (siglay).\n",
    "\n",
    "    Parameters:\n",
    "    -----------\n",
    "    node(int): Specified node number\n",
    "    \"\"\"\n",
    "    # Retrieve data at the specified node while deleting nob.\n",
    "    dye_profile = ds['obc_dye'].isel(nobc=node, drop=True)  # (time, siglay)\n",
    "    \n",
    "    # plot with 'time' vs 'siglay'\n",
    "    heatmap = dye_profile.hvplot.quadmesh(\n",
    "        x='time',\n",
    "        y='siglay',\n",
    "        cmap='viridis',\n",
    "        colorbar=True,\n",
    "        title=f\"Dye Concentration at Node {node} Over Time\",\n",
    "        xlabel='Time',\n",
    "        ylabel='Sigma Layer'\n",
    "    )\n",
    "    \n",
    "    return heatmap"
   ]
  },
  {
   "cell_type": "code",
   "execution_count": null,
   "id": "bd52000b-487e-4b1e-a5a3-ae11c398b641",
   "metadata": {},
   "outputs": [],
   "source": [
    "node_select = pn.widgets.Select(\n",
    "    name='Node Index',\n",
    "    options=list(range(ds.sizes['nobc'])),  # 0〜12\n",
    "    value=0\n",
    ")\n",
    "\n",
    "interactive_plot1 = pn.bind(plot_time_siglay, node=node_select)\n",
    "\n",
    "# Create a layout\n",
    "layout1 = pn.Column(\n",
    "    \"### Dye Concentration Over Time\",\n",
    "    node_select,\n",
    "    interactive_plot1\n",
    ")\n",
    "final_layout = pn.Row(layout1)\n",
    "final_layout"
   ]
  },
  {
   "cell_type": "markdown",
   "id": "b4cb7b28-d77e-4158-85c7-aff92ca3ad00",
   "metadata": {},
   "source": [
    "## Interactive spatial 2D plot along open boundary nodes at the specified time"
   ]
  },
  {
   "cell_type": "code",
   "execution_count": null,
   "id": "e96d4f62-8b23-4b42-9889-4afbfa995988",
   "metadata": {},
   "outputs": [],
   "source": [
    "import numpy as np\n",
    "import matplotlib.pyplot as plt\n",
    "import panel as pn\n",
    "\n",
    "# ------------------------------------------------------------\n",
    "# 関数本体\n",
    "# ------------------------------------------------------------\n",
    "def plot_node_depth(time: pd.Timestamp) -> plt.Figure:\n",
    "    \"\"\"\n",
    "    Plot dye concentration vs. real depth at all boundary nodes for a given time.\n",
    "\n",
    "    Parameters\n",
    "    ----------\n",
    "    time : pandas.Timestamp\n",
    "        Selected time.\n",
    "    \"\"\"\n",
    "    # 1) slice dye concentration (dims: 'siglay', 'nobc')\n",
    "    dye_prof = ds[\"obc_dye\"].sel(time=time, method=\"nearest\")\n",
    "\n",
    "    # 2) 1-D sigma, 1-D water depth\n",
    "    siglay_1d      = ds[\"siglay\"].values           # shape: (nsiglay,)\n",
    "    water_depth_1d = ds[\"obc_h\"].values            # shape: (nnobc,)\n",
    "\n",
    "    # 3) broadcast to 2-D grids\n",
    "    depth = np.outer(siglay_1d, water_depth_1d)    # ('siglay','nobc')\n",
    "    nobc_indices = np.broadcast_to(\n",
    "        np.arange(water_depth_1d.size),\n",
    "        depth.shape\n",
    "    )\n",
    "\n",
    "    # 4) plot\n",
    "    fig, ax = plt.subplots(figsize=(6, 2))\n",
    "    pcm = ax.contourf(\n",
    "        nobc_indices,        # X: boundary‐node index\n",
    "        depth,               # Y: real depth (negative downward)\n",
    "        dye_prof.values,     # Z: concentration\n",
    "        levels=20, cmap=\"viridis\"\n",
    "    )\n",
    "    fig.colorbar(pcm, ax=ax, label=\"Dye Concentration\")\n",
    "    ax.set(\n",
    "        xlabel=\"Boundary Node Index\",\n",
    "        ylabel=\"Depth (m)\",\n",
    "        title=f\"Dye Concentration Cross-Section on {time}\"\n",
    "    )\n",
    "    ax.invert_yaxis()\n",
    "    fig.tight_layout()\n",
    "    plt.close(fig)\n",
    "    return fig"
   ]
  },
  {
   "cell_type": "code",
   "execution_count": null,
   "id": "e8725071-c416-42e7-980c-a841c9406d68",
   "metadata": {},
   "outputs": [],
   "source": [
    "# A widget for selecting time\n",
    "time_options = [pd.to_datetime(t).strftime('%Y-%m-%d %H:%M') for t in ds['time'].values]\n",
    "\n",
    "time_select = pn.widgets.DiscreteSlider(\n",
    "    name='Time',\n",
    "    options = time_options,  # list of str\n",
    "    value = time_options[0]\n",
    ")\n",
    "\n",
    "# Create an interactive plot\n",
    "interactive_plot2 = pn.bind(plot_node_depth, time=time_select)\n",
    "\n",
    "# Create a layout\n",
    "layout2 = pn.Column(\n",
    "    \"# Dye Concentration by Depth\",\n",
    "    time_select,\n",
    "    interactive_plot2\n",
    ")\n",
    "final_layout = pn.Row(layout2)\n",
    "final_layout"
   ]
  },
  {
   "cell_type": "code",
   "execution_count": null,
   "id": "61ca9585-43c3-43b8-8ad5-756ec5e63760",
   "metadata": {},
   "outputs": [],
   "source": []
  }
 ],
 "metadata": {
  "kernelspec": {
   "display_name": "Python 3 (ipykernel)",
   "language": "python",
   "name": "python3"
  },
  "language_info": {
   "codemirror_mode": {
    "name": "ipython",
    "version": 3
   },
   "file_extension": ".py",
   "mimetype": "text/x-python",
   "name": "python",
   "nbconvert_exporter": "python",
   "pygments_lexer": "ipython3",
   "version": "3.12.8"
  },
  "widgets": {
   "application/vnd.jupyter.widget-state+json": {
    "state": {},
    "version_major": 2,
    "version_minor": 0
   }
  }
 },
 "nbformat": 4,
 "nbformat_minor": 5
}
