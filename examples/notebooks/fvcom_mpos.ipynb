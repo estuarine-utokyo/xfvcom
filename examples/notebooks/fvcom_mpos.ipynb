{
 "cells": [
  {
   "cell_type": "markdown",
   "id": "f561e046-5c09-443c-915c-c0488a1e5daa",
   "metadata": {},
   "source": [
    "# Time series comparison between FVCOM and MPOS\n",
    "**Author: Jun Sasaki, Coded on January 7, 2025, Updated on February 7, 2025 ([MIT License](https://opensource.org/licenses/MIT))**<br>\n",
    "Compare FVCOM output netcdf and Mpos data at a specified node/nele and siglay.\n",
    "- Suppose Mpos netCDF and FVCOM output netCDF are prepared.\n",
    "- FVCOM variables are defined at siglay. The depth at a specified siglay will change with time because of the change in the surface level.\n",
    "- Interpolate Mpos item values at the specified siglay in FVCOM to precisely compare them.\n",
    "\n",
    "## Methods\n",
    "1. Load the FVCOM output netcdf file into xfvcom, specify the node or nele value for the horizontal coordinate in the scalar and the siglay or siglev values for the vertical coordinate in the list, extract the corresponding parts, and plot them.\n",
    "2. Load the Mpos observation data and extract the data closest to the datetime and depth corresponding to 1. In doing so, set the allowable error and extract the data.\n",
    "3. Extract the common parts of 1 and 2.\n",
    "4. Use 3 to evaluate the accuracy of the calculation results."
   ]
  },
  {
   "cell_type": "code",
   "execution_count": null,
   "id": "3321e27c-996c-4347-9780-e1ffc591221e",
   "metadata": {},
   "outputs": [],
   "source": [
    "from xfvcom import FvcomDataLoader, FvcomAnalyzer, FvcomPlotConfig, FvcomPlotter\n",
    "from xfvcom.helpers import FrameGenerator\n",
    "from xfvcom.helpers_utils import evaluate_model_scores, generate_test_data\n",
    "from xmpos import MposDataLoader, MposAnalyzer, MposPlotConfig, MposPlotter\n",
    "import os\n",
    "import matplotlib.pyplot as plt\n",
    "import numpy as np\n",
    "import xarray as xr\n",
    "import pandas as pd\n",
    "import hvplot.xarray\n",
    "import panel.widgets as pnw\n",
    "import holoviews as hv\n",
    "## Global parameters\n",
    "import cartopy.crs as ccrs\n",
    "\n",
    "width=800; height=200"
   ]
  },
  {
   "cell_type": "markdown",
   "id": "3bc96950-6ad1-4f29-8c80-88186ffcf78b",
   "metadata": {},
   "source": [
    "### Load FVCOM output netcdf into xarray.Dataset"
   ]
  },
  {
   "cell_type": "code",
   "execution_count": null,
   "id": "aeb1008c-e613-43b6-a1c9-a3a7258e3116",
   "metadata": {},
   "outputs": [],
   "source": [
    "output_dir = \"./\"\n",
    "output_dir = os.path.expanduser(output_dir)\n",
    "if not os.path.exists(output_dir):\n",
    "    os.makedirs(output_dir)\n",
    "base_path = \"~/Github/TB-FVCOM/goto2023\"\n",
    "base_path = os.path.expanduser(base_path)\n",
    "obcfile_path =  f\"{base_path}/input/TokyoBay18_obc.dat\"\n",
    "ncfiles = [\"TokyoBay18_r16_crossed_0001.nc\"]\n",
    "index_ncfile=0\n",
    "ncfile_path = f\"{base_path}/output/{ncfiles[index_ncfile]}\"\n",
    "fvcom = FvcomDataLoader(ncfile_path=ncfile_path, obcfile_path=obcfile_path, time_tolerance=5)\n",
    "ds_fvcom = fvcom.ds\n",
    "ds_fvcom"
   ]
  },
  {
   "cell_type": "markdown",
   "id": "47fe3509-3b5c-4818-8d1a-1879b2d443e6",
   "metadata": {},
   "source": [
    "### Select a specified `node` of MPOS\n",
    "Note: `nele` is unsupported."
   ]
  },
  {
   "cell_type": "code",
   "execution_count": null,
   "id": "90e9a3ec-fbc1-4bae-a4bf-755b6d408e40",
   "metadata": {},
   "outputs": [],
   "source": [
    "bl_stns = [(140.023333, 35.610833),  # 01kemigawa\n",
    "           (139.833889, 35.490278),  # 02kawasaki\n",
    "           (139.941667, 35.640000),  # 03urayasu\n",
    "           (139.954167, 35.536944)]  # 04chiba1gou\n",
    "stns = [\"01kemigawa\", \"02kawasaki\", \"03urayasu\", \"04chiba1gou\"]\n",
    "index_stn = 1\n",
    "stn = stns[index_stn]\n",
    "lon, lat = bl_stns[index_stn]\n",
    "f_a = FvcomAnalyzer(ds_fvcom)\n",
    "node = f_a.nearest_neighbor(lon, lat, node=True, distances=False)\n",
    "print(f\"node={node} is the nearest node for ({lon}, {lat})\")\n",
    "# Confirm\n",
    "print(f\"The exact (lon, lat) = ({ds_fvcom.lon[node].values.item()}, {ds_fvcom.lat[node].values.item()} for node={node}\")"
   ]
  },
  {
   "cell_type": "markdown",
   "id": "44c395f4-aac2-4064-a23e-0e961cdcc3b2",
   "metadata": {},
   "source": [
    "### Plot the node in a spatial map."
   ]
  },
  {
   "cell_type": "code",
   "execution_count": null,
   "id": "6490f4f1-5842-4194-aa67-256139aa91db",
   "metadata": {},
   "outputs": [],
   "source": [
    "fvcom_plotter = FvcomPlotter(fvcom.ds, FvcomPlotConfig(figsize=(6,8)))\n",
    "# Plot the mesh colored by bathymetry\n",
    "#fig, ax = plt.subplots(1,1, figsize=(6, 8))\n",
    "#ax = fvcom_plotter.plot_mesh(color_by=\"h\", figsize=(8,10))\n",
    "# Plot the mesh as a wireframe\n",
    "#ax = fvcom_plotter.plot_mesh(color_by=None, ax=ax)\n",
    "levels = [0, 1, 2, 3, 4, 5, 6, 7, 8, 9, 10, 50, 100, 200, 300, 400, 500]\n",
    "ax=fvcom_plotter.plot_2d(da=ds_fvcom.h, cmap='jet', with_mesh=True, coastlines=True, obclines=True, add_tiles=True,\n",
    "                         title=None, levels=levels, save_path=\"mesh_latlon_fixed.png\")\n",
    "fvcom_plotter.add_marker(ax=ax, x=lon, y=lat, marker='x')\n",
    "fvcom_plotter.plot_2d(da=ds_fvcom.h, with_mesh=True, use_latlon=False, cmap='jet', levels=20, save_path=\"mesh_latlon_fixed.png\")\n",
    "fvcom_plotter.plot_2d(da=ds_fvcom.temp[20,0,:], cmap='jet', levels=20, with_mesh=True, coastlines=True, obclines=True,\n",
    "                      plot_grid=True, save_path=\"mesh_latlon_fixed.png\")"
   ]
  },
  {
   "cell_type": "markdown",
   "id": "3c9d6871-a589-49dc-ab95-34334adc9f3f",
   "metadata": {},
   "source": [
    "### Plot with `FrameGenerator` to handle dynamic `post_process_func`"
   ]
  },
  {
   "cell_type": "code",
   "execution_count": null,
   "id": "a3e66fd5-2247-4235-8a43-723d35cbb1c9",
   "metadata": {},
   "outputs": [],
   "source": [
    "def dynamic_custom_plot(ax, da, time):\n",
    "    \"\"\"\n",
    "    An example of post_process_func for plotting datetime.\n",
    "    Note: ax can be accessed without special treatment.\n",
    "          However, to access da and time, a wrapper of FrameGenerator is necessary.\n",
    "\n",
    "    Parameters:\n",
    "    - ax: matplotib axis.\n",
    "    - da: DataArray.\n",
    "    - time: Frame time.    \n",
    "    \"\"\"\n",
    "    datetime = pd.Timestamp(da.time.item()).strftime('%Y-%m-%d %H:%M:%S')\n",
    "    ax.set_title(f\"Time: {datetime}\")\n",
    "\n",
    "# Specify var_name and siglay if any\n",
    "var_name = \"temp\"\n",
    "time = 40\n",
    "siglay = 0\n",
    "da = ds_fvcom[var_name][:,siglay,:] # time must be included in da as reusing a tool for animation.\n",
    "time_str = ds_fvcom.time.isel(time=time).values\n",
    "time_str = pd.to_datetime(time_str).strftime(\"%Y%m%d\")\n",
    "# Set plot_kwargs for `ax.tricontourf(**kwargs)`.\n",
    "plot_kwargs={\"verbose\": False, \"vmin\": 9, \"vmax\": 20,\n",
    "             \"levels\": [9, 9.2, 9.4, 9.6, 9.8, 10, 10.5, 11, 11.5, 12, 12.5, 13, 13.5, 14, 15, 16, 17, 18, 19, 20],\n",
    "             \"cmap\":\"jet\"}\n",
    "#plot_kwargs={\"verbose\": False, \"vmin\": 10, \"vmax\": 20, \"levels\": 20, \"cmap\": \"jet\"}\n",
    "#plot_kwargs={\"verbose\": False, \"vmin\": 28, \"vmax\": 34, \"levels\": 20, \"cmap\": \"jet\", \"with_mesh\": True, \"plot_grid\": True, \"add_tiles\": True}\n",
    "#plot_kwargs={}\n",
    "save_path = os.path.join(output_dir, f\"{var_name}_{time_str}.png\")\n",
    "\n",
    "FrameGenerator.plot_data(data_array=da, time=time, plotter=fvcom_plotter,\n",
    "                              save_path=save_path, post_process_func=dynamic_custom_plot,\n",
    "                              plot_kwargs=plot_kwargs)\n",
    "#fig=ax.figure\n",
    "#fig.savefig(save_path, 'bbox_inches'='tight', dpi=300)\n",
    "#fig.savefig(save_path, bbox_inches='tight', dpi=300)"
   ]
  },
  {
   "cell_type": "markdown",
   "id": "726a13d9-6e97-4bec-bdca-8561d733adfe",
   "metadata": {},
   "source": [
    "Multiple siglays can be plotted by defining a list of `siglays` and `colors`."
   ]
  },
  {
   "cell_type": "markdown",
   "id": "a3c87d03-ab62-489a-b9c4-42c73c681d2e",
   "metadata": {},
   "source": [
    "## Load Mpos."
   ]
  },
  {
   "cell_type": "code",
   "execution_count": null,
   "id": "a698c3ee-e425-4353-a71b-c3c2889812b5",
   "metadata": {},
   "outputs": [],
   "source": [
    "#base_path = '~/Github/xmpos/data/MLIT_edited_Mpos/nc_structured/'\n",
    "base_path = f\"{os.environ['DATA_DIR']}/MLIT_edited_Mpos/nc_structured/\"\n",
    "loader = MposDataLoader(base_path=base_path)\n",
    "ds_mpos = loader.load_structured_nc(stn=stn, start=2015, end=2020, dask=False)\n",
    "#print(ds_mpos.temp[30000:,5].values)\n",
    "#print(ds_mpos.z[5].item())"
   ]
  },
  {
   "cell_type": "markdown",
   "id": "be2cc3b6-c9f1-4cc2-a6ea-d0feeea73cb5",
   "metadata": {},
   "source": [
    "### Plot time-series of vertical profile of a `varname`.\n",
    "- Note: `clim=(cmin, cmax)` must be specified while `ylim=None` is acceptable. Add `clim=None` in the future. "
   ]
  },
  {
   "cell_type": "code",
   "execution_count": null,
   "id": "bc09e96a-07df-4f04-95c4-e322b59546f3",
   "metadata": {},
   "outputs": [],
   "source": [
    "var_name = 'temp'\n",
    "time_slice=(pd.Timestamp('2020-01-01'), pd.Timestamp('2020-01-15'))\n",
    "mpos_config = MposPlotConfig(figsize=(8, 2), dpi=72, cmap=\"jet\", levels=21)\n",
    "mpos_plotter = MposPlotter(ds_mpos, config=mpos_config)\n",
    "# Create the contour plot\n",
    "fig, ax, cbar = mpos_plotter.plot_contour(\n",
    "    ds_mpos[var_name], xlim=('2015-01-01', '2021-02-01'), ylim=None, clim=(10,14),\n",
    "    stn=stn, rolling=False, window=25\n",
    ")\n",
    "# Adjust the x-axis and add more annotations\n",
    "#ax.set_xlim(pd.Timestamp('2020-01-01'), pd.Timestamp('2020-01-15'))\n",
    "ax.set_xlim(time_slice)\n",
    "#ax.set_title(\"Adjusted DO at Kemigawa\")\n",
    "plt.show()"
   ]
  },
  {
   "cell_type": "markdown",
   "id": "f57fb9d6-68df-404d-9c5d-6c18bdbd56ad",
   "metadata": {},
   "source": [
    "### Time-series interactive plot at each z "
   ]
  },
  {
   "cell_type": "code",
   "execution_count": null,
   "id": "f50b65fe-98a8-4d14-8a44-07ad744a71ce",
   "metadata": {},
   "outputs": [],
   "source": [
    "z_slider =  pnw.IntSlider(name='z', start=0, end=len(ds_mpos.z) - 1, value=0)\n",
    "ds_mpos[var_name].sel(time=slice(time_slice[0], time_slice[1])).interactive.isel(z=z_slider).hvplot().opts(width=700, height=height)"
   ]
  },
  {
   "cell_type": "markdown",
   "id": "1bcc12c2-7d56-4f85-8100-b447036e2095",
   "metadata": {},
   "source": [
    "## Extract target FVCOM time series depths `z_dfs` at the specified `node` and `siglay`\n",
    "The depths from the surface `zdfs` should be selected referring to MPOS time series above."
   ]
  },
  {
   "cell_type": "markdown",
   "id": "eddac50b-0731-4165-b9d5-217378be8a88",
   "metadata": {},
   "source": [
    "### Slice `ds_fvcom[var_name]` at specified siglays and plot its time-series.\n",
    "First, quick plot interactively."
   ]
  },
  {
   "cell_type": "code",
   "execution_count": null,
   "id": "31613ae5-ea19-4dbf-b8b4-3d612c1ef867",
   "metadata": {},
   "outputs": [],
   "source": [
    "#var_name = 'temp'\n",
    "siglay_slider =  pnw.IntSlider(name='siglay', start=0, end=len(ds_fvcom.siglay) - 1, value=0)\n",
    "ds_fvcom[var_name].isel(node=node).interactive.isel(siglay=siglay_slider).hvplot().opts(width=width, height=height)\n",
    "#print(ds_fvcom[var_name].isel(node=node, time=40, siglay=0))"
   ]
  },
  {
   "cell_type": "code",
   "execution_count": null,
   "id": "939babb3-eefb-4581-b6b9-85b2e8a6a2e9",
   "metadata": {},
   "outputs": [],
   "source": [
    "# Specify the target datetime range.\n",
    "start=None; end=None\n",
    "# Specify siglays where simulated and observed values are compared.\n",
    "siglays=[3, 11, 19]  # siglay values\n",
    "\n",
    "for siglay in siglays:\n",
    "    print(f\"siglay={siglay}: {ds_fvcom.z_dfs[:,siglay,node].min().item()} <= z <= {ds_fvcom.z_dfs[:,siglay,node].max().item()} \")\n",
    "colors = ['blue', 'black', 'red']  # Line colors\n",
    "plot_config = FvcomPlotConfig(width=8, height=2)\n",
    "fvcom_ts_plotter = FvcomPlotter(ds_fvcom, plot_config)\n",
    "save_path = f\"fc_ts_{var_name}.png\"\n",
    "fig, ax = plt.subplots(1, 1, figsize=(8, 2)) \n",
    "for i, siglay in enumerate(siglays):\n",
    "    if i < len(siglays) - 1:\n",
    "        ax=fvcom_ts_plotter.plot_timeseries(var_name, log=False, index=node, k=siglay, start=start, end=end, ax=ax, color=colors[i], alpha=0.7)\n",
    "    else:\n",
    "        fvcom_ts_plotter.plot_timeseries(var_name, log=False, index=node, k=siglay, start=start, end=end, ax=ax, color=colors[i], alpha=0.7, save_path=save_path)"
   ]
  },
  {
   "cell_type": "code",
   "execution_count": null,
   "id": "82c94944-c980-4883-b176-0cdfb6e3bc0d",
   "metadata": {},
   "outputs": [],
   "source": [
    "fvcom_z_dfs=[]\n",
    "for i, siglay in enumerate(siglays):\n",
    "    fvcom_z_dfs.append(ds_fvcom.z_dfs[:,siglay,node])\n",
    "    \n",
    "combined_plot = fvcom_z_dfs[0].hvplot(label=f\"siglay={siglays[0]}\")\n",
    "if len(fvcom_z_dfs) >1:\n",
    "    for i, da in enumerate(fvcom_z_dfs[1:]):\n",
    "        combined_plot *= da.hvplot(label=f\"siglay={siglays[i+1]}\")\n",
    "combined_plot.opts(width=width, height=height, legend_position='right', invert_yaxis=True)"
   ]
  },
  {
   "cell_type": "markdown",
   "id": "66216814-d916-4f59-9275-47d0335159bc",
   "metadata": {},
   "source": [
    "### Interpolate ds_mpos at time-series depth of FVCOM `z_dfs` with interactive plot\n",
    "`da_mpos_interp_list` is a list of DataArrays."
   ]
  },
  {
   "cell_type": "code",
   "execution_count": null,
   "id": "ff4d505a-9f65-4699-b4e3-707d7b46844a",
   "metadata": {},
   "outputs": [],
   "source": [
    "hv.renderer('bokeh').theme = 'caliber'\n",
    "width=800; height=200\n",
    "size=20; alpha=0.5; marker='o'\n",
    "\n",
    "mpos_analyzer = MposAnalyzer(ds_mpos)\n",
    "\n",
    "da_mpos_interp_list = []\n",
    "for i, siglay in enumerate(siglays):\n",
    "    da_mpos_interp_list.append(mpos_analyzer.interpolate_timeseries_by_depth(var_name, fvcom_z_dfs[i]))\n",
    "    # Count the number of valid values (no NaN)\n",
    "    valid_count = (~np.isnan(da_mpos_interp_list[i])).sum().item()\n",
    "    if valid_count < 10:\n",
    "        raise ValueError(f\"Number of valid values is too few of {valid_count} at siglay = {siglays[i]}\")\n",
    "\n",
    "combined_plot = da_mpos_interp_list[0].hvplot.line(alpha=alpha, label=f\"siglay={siglays[0]}\") \\\n",
    "              * da_mpos_interp_list[0].hvplot.scatter(marker=marker, size=size, alpha=alpha)\n",
    "if len(da_mpos_interp_list) >1:\n",
    "    for i, da in enumerate(da_mpos_interp_list[1:]):\n",
    "        combined_plot *= da.hvplot.line(alpha=alpha, label=f\"siglay={siglays[i+1]}\")\n",
    "        combined_plot *= da.hvplot.scatter(marker=marker, size=size, alpha=alpha)\n",
    "combined_plot.opts(width=width, height=height, legend_position='right')\n",
    "hvplot.save(combined_plot.options(toolbar=None), f\"MPOS {var_name} at siglays={siglays}.html\")\n",
    "combined_plot"
   ]
  },
  {
   "cell_type": "markdown",
   "id": "c8010723-a4cf-4c77-a952-e5f1a730a4d0",
   "metadata": {},
   "source": [
    "## Compare FVCOM and MPOS\n",
    "1. `da_mpos_interp_list` is a list of MPOS DataArrays. `da_fvcom = ds_fvcom[var_name].isel(node=node, siglay=siglay))` is a DataArray of FVCOM. Its list is defined as `da_fvcom_list`.\n",
    "2. When either of the two DataArrays contains missing values, a `common_mask` is created to mark those time values as missing.\n",
    "3. Apply `common_mask` to both DataArrays and create DataArray lists of `da_fvcom_cleaned_list` and `da_mpos_interp_cleaned_list`."
   ]
  },
  {
   "cell_type": "code",
   "execution_count": null,
   "id": "dcc83161-aaca-46b5-9bbc-e441a04ad1a2",
   "metadata": {},
   "outputs": [],
   "source": [
    "da_fvcom_list = []\n",
    "for i in range(len(siglays)):\n",
    "    da = ds_fvcom[var_name].isel(node=node, siglay=siglays[i])\n",
    "    da_fvcom_list.append(da)\n",
    "common_mask = []\n",
    "da_mpos_interp_cleaned_list = []\n",
    "da_fvcom_cleaned_list = []\n",
    "for i in range(len(siglays)):\n",
    "    common_mask.append(~np.isnan(da_mpos_interp_list[i]) & ~np.isnan(da_fvcom_list[i]))\n",
    "    da_mpos_interp_cleaned_list.append(da_mpos_interp_list[i].where(common_mask[i]))\n",
    "    da_fvcom_cleaned_list.append(da_fvcom_list[i].where(common_mask[i]))\n",
    "\n",
    "combined_plot = da_mpos_interp_cleaned_list[0].hvplot.line(alpha=alpha, label=f\"siglay={siglays[0]}\") \\\n",
    "              * da_fvcom_cleaned_list[0].hvplot.scatter(marker=marker, size=size, alpha=alpha)\n",
    "\n",
    "if len(siglays) >1:\n",
    "    for i in range(1, len(siglays)):\n",
    "        combined_plot *= da_mpos_interp_cleaned_list[i].hvplot.line(alpha=alpha, label=f\"siglay={siglays[i]}\")\n",
    "        combined_plot *= da_fvcom_cleaned_list[i].hvplot.scatter(marker=marker, size=size, alpha=alpha)\n",
    "\n",
    "combined_plot.opts(width=width, height=height, legend_position='right')\n",
    "hvplot.save(combined_plot.options(toolbar=None), f\"FVCOM-MPOS {var_name} at siglays={siglays}.html\")\n",
    "combined_plot\n"
   ]
  },
  {
   "cell_type": "markdown",
   "id": "e12f5998-4b67-4560-8327-5fb8fc09f83d",
   "metadata": {},
   "source": [
    "## Evaluate simulation results\n",
    "Use `evaluate_model_scores` in xfvcom/helpers_utils.py"
   ]
  },
  {
   "cell_type": "code",
   "execution_count": null,
   "id": "5c073ef2-bffb-4935-b952-9147d5c51a6b",
   "metadata": {},
   "outputs": [],
   "source": [
    "sim_list = da_fvcom_cleaned_list\n",
    "obs_list = da_mpos_interp_cleaned_list\n",
    "scores = evaluate_model_scores(sim_list, obs_list)\n",
    "print(\"Individual Scores:\", scores[\"individual_scores\"])\n",
    "print(\"Combined Score:\", scores[\"combined_score\"])"
   ]
  },
  {
   "cell_type": "code",
   "execution_count": null,
   "id": "6ecdefd4-95b2-44ae-bf13-1dd777e13736",
   "metadata": {},
   "outputs": [],
   "source": [
    "sim_list, obs_list = generate_test_data()\n",
    "sim_list = obs_list\n",
    "scores = evaluate_model_scores(sim_list, obs_list)\n",
    "print(\"Individual Scores:\", scores[\"individual_scores\"])\n",
    "print(\"Combined Score:\", scores[\"combined_score\"])"
   ]
  },
  {
   "cell_type": "markdown",
   "id": "3730dbc7-82fa-4a6f-a0da-324840c65ae8",
   "metadata": {},
   "source": [
    "## Plot example for MPOS using matplotlib"
   ]
  },
  {
   "cell_type": "code",
   "execution_count": null,
   "id": "2ede73e6-901e-465c-8d13-675a01ecdbdb",
   "metadata": {},
   "outputs": [],
   "source": [
    "base_path_mpos = '~/Github/TB-FVCOM/data/MLIT_edited_Mpos/nc_structured/'\n",
    "# base_path_mpos = '~/Github/TB-FVCOM/data/MLIT_edited_Mpos/nc/'\n",
    "mpos_loader = MposDataLoader(base_path=base_path)\n",
    "kemigawa = mpos_loader.load_structured_nc(stn='01kemigawa', start=2010, end=2020, dask=False)\n",
    "kemigawa"
   ]
  },
  {
   "cell_type": "code",
   "execution_count": null,
   "id": "9c9701e6-e8ac-435a-a808-f2a0b620f18d",
   "metadata": {},
   "outputs": [],
   "source": [
    "var_name = 'DO'\n",
    "mpos_config_1 = MposPlotConfig(figsize=(8, 2), dpi=200, cmap=\"coolwarm\", levels=20)\n",
    "mpos_plotter_1 = MposPlotter(kemigawa, config=mpos_config_1)\n",
    "# Create the contour plot\n",
    "fig, ax, cbar = mpos_plotter_1.plot_contour(\n",
    "    kemigawa[var_name],\n",
    "    xlim=('2010-01-01', '2020-01-01'),\n",
    "    ylim=(0, 10),\n",
    "    clim=(0, 15),\n",
    "    stn=\"Kemigawa\",\n",
    "    rolling=False,\n",
    "    window=25\n",
    ")\n",
    "\n",
    "# Adjust the x-axis and add more annotations\n",
    "ax.set_xlim(pd.Timestamp('2015-01-01'), pd.Timestamp('2020-01-01'))\n",
    "ax.set_title(\"Adjusted DO at Kemigawa\")\n",
    "plt.show()"
   ]
  },
  {
   "cell_type": "code",
   "execution_count": null,
   "id": "9eca3350-920f-4f52-a6fc-175fe341b583",
   "metadata": {},
   "outputs": [],
   "source": [
    "var_name = 'DO'\n",
    "mpos_config_2 = MposPlotConfig(figsize=(8, 2), dpi=200, cmap=\"coolwarm\", levels=[0,1,2,3,4,5,6,7,8,9,10,11,12,13,14,15])\n",
    "mpos_plotter_2 = MposPlotter(kemigawa, config=mpos_config_2)\n",
    "fig, ax, cbar = mpos_plotter_2.plot_mean_annual_cycle(\n",
    "    kemigawa[var_name], xlim=(\"2020-01-01\", \"2022-12-31\"),\n",
    "    ylim=(0, 10), clim=(0, 15), stn=\"01kemigawa\",\n",
    "    rolling=True, window=24*30+1\n",
    ")\n",
    "plt.show()"
   ]
  },
  {
   "cell_type": "code",
   "execution_count": null,
   "id": "66f327fa-5207-403e-b5a1-f969c895dad4",
   "metadata": {},
   "outputs": [],
   "source": []
  }
 ],
 "metadata": {
  "kernelspec": {
   "display_name": "Python 3 (ipykernel)",
   "language": "python",
   "name": "python3"
  },
  "language_info": {
   "codemirror_mode": {
    "name": "ipython",
    "version": 3
   },
   "file_extension": ".py",
   "mimetype": "text/x-python",
   "name": "python",
   "nbconvert_exporter": "python",
   "pygments_lexer": "ipython3",
   "version": "3.12.8"
  },
  "widgets": {
   "application/vnd.jupyter.widget-state+json": {
    "state": {},
    "version_major": 2,
    "version_minor": 0
   }
  }
 },
 "nbformat": 4,
 "nbformat_minor": 5
}
