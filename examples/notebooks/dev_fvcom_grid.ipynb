{
 "cells": [
  {
   "cell_type": "markdown",
   "metadata": {},
   "source": [
    "# FVCOM unstructured mesh manipulation using Netcdf output and casename_obc.dat if any\n",
    "#### Author: Jun Sasaki Coded on January 9, 2017, Updated on February 18, 2024\n",
    "Netcdf outputから非構造格子を描画します．また，境界線を描き，さらに存在すれば開境界グリッド情報を読み込み，上書描画します．<br>\n",
    "netcdfの読み込みはPyFVCOMとnetCDF4の両者を使っています．どちらか一方で十分ですが，目的に応じて使い分けています．<br>\n",
    "tri.Triangulationのtriangles=nvのnvの3つのノードの値の順番がFVCOMでは時計回りとなっているようです．triの仕様では反時計回りのため，nvを反転する必要があります．これを行わないと，境界線の抽出が正しくできませんでした．なお，nvはFVCOMでは1始まりですので，1を引いて0始まりにします．"
   ]
  },
  {
   "cell_type": "code",
   "execution_count": null,
   "metadata": {},
   "outputs": [],
   "source": [
    "from PyFVCOM.myread import ncread\n",
    "#import mypyfvcom\n",
    "import numpy as np\n",
    "import matplotlib.pyplot as plt\n",
    "# from PyFVCOM.read import ncread\n",
    "import matplotlib.tri as tri\n",
    "import netCDF4\n",
    "import pandas as pd\n",
    "fvcom_nc='../../goto2023/output/TokyoBay18_r16_crossed_0001_20s.nc'\n",
    "fobc='../../goto2023/input/TokyoBay18_obc.dat' # = None if not exist\n",
    "%matplotlib inline"
   ]
  },
  {
   "cell_type": "markdown",
   "metadata": {},
   "source": [
    "## Taking time\n",
    "The next cell consumes large time. Reconsider the way of reading netcdf."
   ]
  },
  {
   "cell_type": "code",
   "execution_count": null,
   "metadata": {},
   "outputs": [],
   "source": [
    "nc = netCDF4.Dataset(fvcom_nc, 'r').variables\n",
    "FVCOM = ncread(fvcom_nc)\n",
    "# Read open boundary node. delim_whitespace is separator for space and/or \\t (tab)\n",
    "if fobc is not None:\n",
    "  df = pd.read_csv(fobc, header=None, skiprows=1, delim_whitespace=True)\n",
    "# -1 because index in FVCOM starts from 1 while from 0 in Python\n",
    "node_bc = df.iloc[:,1].values - 1"
   ]
  },
  {
   "cell_type": "code",
   "execution_count": null,
   "metadata": {
    "collapsed": false,
    "jupyter": {
     "outputs_hidden": false
    }
   },
   "outputs": [],
   "source": [
    "node_bc # Open boundary nodes (index starts from 0.)"
   ]
  },
  {
   "cell_type": "code",
   "execution_count": null,
   "metadata": {
    "collapsed": false,
    "jupyter": {
     "outputs_hidden": false
    }
   },
   "outputs": [],
   "source": [
    "print(nc.keys()) # Check variables of netcdf output"
   ]
  },
  {
   "cell_type": "code",
   "execution_count": null,
   "metadata": {},
   "outputs": [],
   "source": [
    "# print(min(FVCOM['nv'][0])) # => 1 \n",
    "nv = FVCOM['nv'].T - 1\n",
    "x, y = FVCOM['x'], FVCOM['y']\n",
    "xc, yc = FVCOM['xc'], FVCOM['yc']\n",
    "triang = tri.Triangulation(x, y, triangles=nv)\n",
    "# FVCOMでは時計回りに定義されているので，matplotlib.triの仕様である反時計回りに変更する\n",
    "nv=nv[:,::-1]"
   ]
  },
  {
   "cell_type": "code",
   "execution_count": null,
   "metadata": {
    "collapsed": false,
    "jupyter": {
     "outputs_hidden": false
    }
   },
   "outputs": [],
   "source": [
    "nv"
   ]
  },
  {
   "cell_type": "code",
   "execution_count": null,
   "metadata": {},
   "outputs": [],
   "source": [
    "print(x.min(), x.max())\n",
    "print(y.min(), y.max())"
   ]
  },
  {
   "cell_type": "markdown",
   "metadata": {},
   "source": [
    "## Take a look at a figure and gets x and y ranges"
   ]
  },
  {
   "cell_type": "code",
   "execution_count": null,
   "metadata": {
    "collapsed": false,
    "jupyter": {
     "outputs_hidden": false
    }
   },
   "outputs": [],
   "source": [
    "fig, ax = plt.subplots()\n",
    "plt.gca().set_aspect('equal') ### Aspect ratio\n",
    "ax.triplot(triang)"
   ]
  },
  {
   "cell_type": "markdown",
   "metadata": {},
   "source": [
    "## Plot boundary lines and construct a fancy map figure\n",
    "境界線を描きます．triag.neighbors[n,0], [n,1], [n,2]はcell nに接する3つのcell番号を返します．ただし，接するセルがない，すなわち境界を構成するcellの場合は-1を返します．よって，この-1の値をとるtriag.neighborsのインデックスが[n, j]であるとすると，そのcell nの境界を構成するedge（線分）はノードnv[n,j]とnv[n, (j+2%3]を結ぶものになります．何故nvのjに関わるindexがこのようになるかはよく分かりませんが，試行錯誤の結果，このようにするとうまくいくようです．<br>\n",
    "この段階では開境界と固体境界の区別ができませんので，開境界情報を基に開境界を上書きする必要があります．"
   ]
  },
  {
   "cell_type": "code",
   "execution_count": null,
   "metadata": {},
   "outputs": [],
   "source": [
    "nbe = np.array([[nv[n, j], nv[n, (j+2)%3]] for n in range(len(triang.neighbors)) for j in range(3) if triang.neighbors[n,j] == -1])"
   ]
  },
  {
   "cell_type": "code",
   "execution_count": null,
   "metadata": {
    "collapsed": false,
    "jupyter": {
     "outputs_hidden": false
    }
   },
   "outputs": [],
   "source": [
    "import matplotlib.ticker as ticker\n",
    "fig, ax = plt.subplots()\n",
    "plt.gca().set_aspect('equal') ### Aspect ratio\n",
    "plt.gca().patch.set_facecolor('0.8') ### Background color\n",
    "# Plot triangular grids\n",
    "ax.triplot(triang, color='b', linewidth=0.1)\n",
    "# Plot boundary lines (solid and open)\n",
    "for m in range(len(nbe)):\n",
    "    ax.plot(x[nbe[m,:]], y[nbe[m,:]], color = 'r', linewidth = 0.5)\n",
    "# Plot open boundary lines\n",
    "ax.plot(x[node_bc[:]], y[node_bc[:]], color = 'b', linewidth = 1)\n",
    "# Format x-axis and y-axis\n",
    "xmin,xmax,ymin,ymax=375000, 420000, 3870000, 3952000\n",
    "# xmin,xmax,ymin,ymax=-20000,25000,-50000,-20000 # Set range in m\n",
    "#xmin,xmax,ymin,ymax=-20000,25000,-90000,-20000 # Set range in m\n",
    "#xmin,xmax,ymin,ymax=-20000,25000,-90000,-20000 # Set range in m\n",
    "\n",
    "ax.set_xlim(xmin, xmax); ax.set_ylim(ymin, ymax)\n",
    "ax.xaxis.set_major_locator(ticker.MultipleLocator(10000))  # Set x major tick interval in m\n",
    "ax.xaxis.set_minor_locator(ticker.MultipleLocator(2000))   # Set x minor tick interval in m\n",
    "ax.yaxis.set_major_locator(ticker.MultipleLocator(10000))  # Set y major tick interval in m\n",
    "ax.yaxis.set_minor_locator(ticker.MultipleLocator(2000))   # Set y minor tick interval in m\n",
    "# Format in km without changing coordinates\n",
    "def x_label(value, pos):  # m to km and start from 0\n",
    "    global xmin\n",
    "    value=int(value - xmin)//1000  # Integer\n",
    "    return '{0:d}'.format(value)\n",
    "def y_label(value, pos):  # m to km and start from 0\n",
    "    global ymin\n",
    "    value=int(value - ymin)//1000  # Integer\n",
    "    return '{0:d}'.format(value)\n",
    "ax.xaxis.set_major_formatter(ticker.FuncFormatter(x_label))\n",
    "ax.yaxis.set_major_formatter(ticker.FuncFormatter(y_label))\n",
    "ax.set_xlabel('x (km)')\n",
    "ax.set_ylabel('y (km)')\n",
    "# Plot a marker at node number 10\n",
    "ax.plot(x[10],y[10], marker = 'o', color='k', markersize = 5)\n",
    "# Plot a marker at center of cell number 100\n",
    "ax.plot(xc[100],yc[100], marker = 'o', color='y', markersize = 5)\n",
    "# Put text using map coordinates\n",
    "ax.text(400000,3875000, 'Tokyo Bay', fontsize=12)"
   ]
  },
  {
   "cell_type": "code",
   "execution_count": null,
   "metadata": {
    "collapsed": false,
    "jupyter": {
     "outputs_hidden": false
    }
   },
   "outputs": [],
   "source": [
    "png='fvcom_grid2.png'\n",
    "fig.savefig(png, dpi=1200, bbox_inches='tight')"
   ]
  },
  {
   "cell_type": "code",
   "execution_count": null,
   "metadata": {},
   "outputs": [],
   "source": []
  }
 ],
 "metadata": {
  "anaconda-cloud": {},
  "kernelspec": {
   "display_name": "Python 3 (ipykernel)",
   "language": "python",
   "name": "python3"
  },
  "language_info": {
   "codemirror_mode": {
    "name": "ipython",
    "version": 3
   },
   "file_extension": ".py",
   "mimetype": "text/x-python",
   "name": "python",
   "nbconvert_exporter": "python",
   "pygments_lexer": "ipython3",
   "version": "3.12.8"
  },
  "widgets": {
   "application/vnd.jupyter.widget-state+json": {
    "state": {},
    "version_major": 2,
    "version_minor": 0
   }
  }
 },
 "nbformat": 4,
 "nbformat_minor": 4
}
