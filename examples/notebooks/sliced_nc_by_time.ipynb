{
 "cells": [
  {
   "cell_type": "markdown",
   "id": "4b3b6bc7-2aba-4a0b-ba18-a7868aba90cd",
   "metadata": {},
   "source": [
    "# Slicing FVCOM netCDF by time\n",
    "**Author: Jun Sasaki  Coded: 2025-04-17  Updated: 2025-04-17**<br>\n",
    "Slice FVCOM netCDF using the `slice_by_time` method in an `FVCOMDataLoader` class instance.\n",
    "\n",
    "```Python\n",
    "from xfvcom import FvcomDataLoader\n",
    "# In case of having inaccurate datetime indexes, time_tolerance should be specified in minutes.\n",
    "fvcom = FvcomDataLoader(ncfile_path=ncfile_path, time_tolerance=5)\n",
    "fvcom.slice_by_time(start, end).to_netcdf(output_path)\n",
    "```"
   ]
  },
  {
   "cell_type": "code",
   "execution_count": null,
   "id": "7b3c9371-96ee-4ba6-a747-154ec0ab8717",
   "metadata": {},
   "outputs": [],
   "source": [
    "from xfvcom import FvcomDataLoader\n",
    "import os"
   ]
  },
  {
   "cell_type": "code",
   "execution_count": null,
   "id": "8f64dd71-05b8-482f-91e1-b292b0bbfdba",
   "metadata": {},
   "outputs": [],
   "source": [
    "input_dir = \"~/Github/TB-FVCOM/goto_dye/input/input_steady/2020\"\n",
    "input_dir = os.path.expanduser(input_dir)\n",
    "ncfiles = [\"TokyoBay2020final_tsobc.nc\", \"TokyoBay2020julian_obc.nc\",\n",
    "           \"TokyoBay2020kisarazufinal_sewer.nc\", \"TokyoBay2020final_river.nc\",\n",
    "           \"TokyoBay2020final_sewer.nc\"]\n",
    "output_dir = 'sliced'\n",
    "os.makedirs(output_dir, exist_ok=True)"
   ]
  },
  {
   "cell_type": "code",
   "execution_count": null,
   "id": "9dcc48df-3114-44aa-abfb-afecebd217aa",
   "metadata": {},
   "outputs": [],
   "source": [
    "start, end = \"2020-01-01 00:00:00\", \"2020-01-07 00:00:00\"\n",
    "for ncfile in ncfiles:\n",
    "    input_path = f\"{input_dir}/{ncfile}\"\n",
    "    # Output file formatting to YYYY-MM-DD_HHmmSS to avoid \":\" for Windows.\n",
    "    output_path = os.path.join(output_dir, f\"{ncfile[:-3]}_{start.replace(':','').replace(' ','_')}_{end.replace(':','').replace(' ','_')}.nc\")\n",
    "    fvcom = FvcomDataLoader(ncfile_path=input_path, time_tolerance=5)\n",
    "    fvcom.slice_by_time(start, end).to_netcdf(output_path)"
   ]
  },
  {
   "cell_type": "code",
   "execution_count": null,
   "id": "fdb508b1-5bb4-4c93-a0b0-5b055c3fc583",
   "metadata": {},
   "outputs": [],
   "source": []
  }
 ],
 "metadata": {
  "kernelspec": {
   "display_name": "Python 3 (ipykernel)",
   "language": "python",
   "name": "python3"
  },
  "language_info": {
   "codemirror_mode": {
    "name": "ipython",
    "version": 3
   },
   "file_extension": ".py",
   "mimetype": "text/x-python",
   "name": "python",
   "nbconvert_exporter": "python",
   "pygments_lexer": "ipython3",
   "version": "3.12.8"
  },
  "widgets": {
   "application/vnd.jupyter.widget-state+json": {
    "state": {},
    "version_major": 2,
    "version_minor": 0
   }
  }
 },
 "nbformat": 4,
 "nbformat_minor": 5
}
