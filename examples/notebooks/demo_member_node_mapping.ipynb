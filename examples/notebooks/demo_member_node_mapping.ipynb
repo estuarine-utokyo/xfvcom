{
 "cells": [
  {
   "cell_type": "markdown",
   "metadata": {},
   "source": [
    "# FVCOM Member-Node Mapping Demo\n",
    "**Author: Jun Sasaki  Coded on 2025-10-16**<br>\n",
    "\n",
    "This notebook demonstrates how to extract and visualize member-to-node mappings from FVCOM ensemble dye runs.\n",
    "\n",
    "## Features\n",
    "- Parse FVCOM namelist files to extract dye source configurations\n",
    "- Identify which nodes are active in each ensemble member\n",
    "- Extract node coordinates from NetCDF output files\n",
    "- Visualize member-node mappings in tables and maps"
   ]
  },
  {
   "cell_type": "markdown",
   "metadata": {},
   "source": [
    "## 1. Setup and Imports"
   ]
  },
  {
   "cell_type": "code",
   "execution_count": null,
   "metadata": {},
   "outputs": [],
   "source": [
    "import sys\n",
    "from pathlib import Path\n",
    "\n",
    "# Add xfvcom to path\n",
    "xfvcom_root = Path.cwd().parents[1]\n",
    "sys.path.insert(0, str(xfvcom_root))\n",
    "\n",
    "import pandas as pd\n",
    "import matplotlib.pyplot as plt\n",
    "\n",
    "from xfvcom.ensemble_analysis.member_info import (\n",
    "    extract_member_node_mapping,\n",
    "    get_member_summary,\n",
    "    get_node_coordinates,\n",
    "    export_member_mapping,\n",
    ")\n",
    "from xfvcom.io.nml_parser import NamelistParser\n",
    "\n",
    "print(\"✓ Imports successful\")\n",
    "print(f\"xfvcom root: {xfvcom_root}\")"
   ]
  },
  {
   "cell_type": "markdown",
   "metadata": {},
   "source": [
    "## 2. Configuration"
   ]
  },
  {
   "cell_type": "code",
   "execution_count": null,
   "metadata": {},
   "outputs": [],
   "source": [
    "# Path configuration\n",
    "tb_fvcom_dir = Path(\"~/Github/TB-FVCOM\").expanduser()\n",
    "nml_dir = tb_fvcom_dir / \"goto2023/dye_run\"\n",
    "output_dir = tb_fvcom_dir / \"goto2023/dye_run/output/2021\"\n",
    "\n",
    "# Case configuration\n",
    "basename = \"tb_w18_r16\"\n",
    "year = 2021\n",
    "members = list(range(19))  # Members 0-18\n",
    "\n",
    "print(f\"TB-FVCOM directory: {tb_fvcom_dir}\")\n",
    "print(f\"Namelist directory: {nml_dir}\")\n",
    "print(f\"Output directory: {output_dir}\")\n",
    "print(f\"Configuration: {basename}, year {year}, members {members}\")"
   ]
  },
  {
   "cell_type": "markdown",
   "metadata": {},
   "source": [
    "## 3. Extract Member-Node Mapping\n",
    "\n",
    "Parse all namelist files to extract which nodes are active in each member."
   ]
  },
  {
   "cell_type": "code",
   "execution_count": null,
   "metadata": {},
   "outputs": [],
   "source": [
    "# Extract full member-node mapping\n",
    "mapping_df = extract_member_node_mapping(\n",
    "    nml_dir=nml_dir,\n",
    "    basename=basename,\n",
    "    year=year,\n",
    "    members=members,\n",
    ")\n",
    "\n",
    "print(f\"Extracted mapping for {len(mapping_df)} source-member combinations\")\n",
    "print(f\"\\nDataFrame shape: {mapping_df.shape}\")\n",
    "print(f\"Columns: {list(mapping_df.columns)}\")\n",
    "mapping_df.head(10)"
   ]
  },
  {
   "cell_type": "markdown",
   "metadata": {},
   "source": [
    "## 4. Member Summary\n",
    "\n",
    "Get a summary of active sources for each member."
   ]
  },
  {
   "cell_type": "code",
   "execution_count": null,
   "metadata": {},
   "outputs": [],
   "source": [
    "# Get member summary\n",
    "summary_df = get_member_summary(\n",
    "    nml_dir=nml_dir,\n",
    "    basename=basename,\n",
    "    year=year,\n",
    "    members=members,\n",
    ")\n",
    "\n",
    "print(\"Member Summary:\")\n",
    "print(\"=\" * 80)\n",
    "# Display without truncation\n",
    "pd.set_option('display.max_colwidth', None)\n",
    "summary_df"
   ]
  },
  {
   "cell_type": "markdown",
   "metadata": {},
   "source": [
    "## 5. Examine Specific Members\n",
    "\n",
    "Look at detailed configuration for specific members."
   ]
  },
  {
   "cell_type": "code",
   "execution_count": null,
   "metadata": {},
   "outputs": [],
   "source": [
    "# Member 0: All sources (reference)\n",
    "print(\"Member 0 (All sources):\")\n",
    "print(\"=\" * 60)\n",
    "member_0 = mapping_df[mapping_df['member'] == 0]\n",
    "print(f\"Total sources: {len(member_0)}\")\n",
    "print(f\"Total dye release rate: {member_0['strength'].sum():.2f}\")\n",
    "print(\"\\nSources:\")\n",
    "member_0[['source_name', 'node_id', 'strength', 'source_type']]"
   ]
  },
  {
   "cell_type": "code",
   "execution_count": null,
   "metadata": {},
   "outputs": [],
   "source": [
    "# Member 1: Arakawa group\n",
    "print(\"Member 1 (Arakawa group):\")\n",
    "print(\"=\" * 60)\n",
    "member_1 = mapping_df[mapping_df['member'] == 1]\n",
    "print(f\"Total sources: {len(member_1)}\")\n",
    "print(f\"Total dye release rate: {member_1['strength'].sum():.2f}\")\n",
    "print(\"\\nSources:\")\n",
    "member_1[['source_name', 'node_id', 'strength', 'source_type']]"
   ]
  },
  {
   "cell_type": "code",
   "execution_count": null,
   "metadata": {},
   "outputs": [],
   "source": [
    "# Member 2: Sumidagawa group\n",
    "print(\"Member 2 (Sumidagawa group):\")\n",
    "print(\"=\" * 60)\n",
    "member_2 = mapping_df[mapping_df['member'] == 2]\n",
    "print(f\"Total sources: {len(member_2)}\")\n",
    "print(f\"Total dye release rate: {member_2['strength'].sum():.2f}\")\n",
    "print(\"\\nSources:\")\n",
    "member_2[['source_name', 'node_id', 'strength', 'source_type']]"
   ]
  },
  {
   "cell_type": "markdown",
   "metadata": {},
   "source": [
    "## 6. Extract Node Coordinates\n",
    "\n",
    "Get geographic coordinates for all active nodes from a sample NetCDF file."
   ]
  },
  {
   "cell_type": "code",
   "execution_count": null,
   "metadata": {},
   "outputs": [],
   "source": [
    "# Get unique node IDs across all members\n",
    "unique_nodes = mapping_df['node_id'].unique()\n",
    "print(f\"Total unique nodes across all members: {len(unique_nodes)}\")\n",
    "print(f\"Node IDs: {sorted(unique_nodes)}\")\n",
    "\n",
    "# Sample NetCDF file (use member 0 or 1)\n",
    "sample_nc = output_dir / \"0\" / f\"{basename}_2021_0_0001.nc\"\n",
    "\n",
    "if sample_nc.exists():\n",
    "    # Extract coordinates\n",
    "    coords_df = get_node_coordinates(sample_nc, unique_nodes.tolist())\n",
    "    \n",
    "    print(f\"\\nExtracted coordinates for {len(coords_df)} nodes\")\n",
    "    coords_df.head(10)\n",
    "else:\n",
    "    print(f\"Warning: Sample NetCDF file not found: {sample_nc}\")\n",
    "    print(\"Skipping coordinate extraction\")"
   ]
  },
  {
   "cell_type": "markdown",
   "metadata": {},
   "source": [
    "## 7. Merge Mapping with Coordinates\n",
    "\n",
    "Combine member-node mapping with geographic coordinates."
   ]
  },
  {
   "cell_type": "code",
   "execution_count": null,
   "metadata": {},
   "outputs": [],
   "source": [
    "if 'coords_df' in locals():\n",
    "    # Merge mapping with coordinates\n",
    "    mapping_with_coords = mapping_df.merge(\n",
    "        coords_df,\n",
    "        on='node_id',\n",
    "        how='left'\n",
    "    )\n",
    "    \n",
    "    print(f\"Merged DataFrame shape: {mapping_with_coords.shape}\")\n",
    "    print(f\"Columns: {list(mapping_with_coords.columns)}\")\n",
    "    mapping_with_coords.head(10)\n",
    "else:\n",
    "    print(\"Skipping merge (coordinates not available)\")"
   ]
  },
  {
   "cell_type": "markdown",
   "metadata": {},
   "source": [
    "## 8. Visualize Node Locations\n",
    "\n",
    "Plot the locations of dye release nodes on a map."
   ]
  },
  {
   "cell_type": "code",
   "execution_count": null,
   "metadata": {},
   "outputs": [],
   "source": [
    "if 'coords_df' in locals():\n",
    "    # Create a simple scatter plot of node locations\n",
    "    fig, ax = plt.subplots(figsize=(12, 8))\n",
    "    \n",
    "    # Plot all unique nodes\n",
    "    ax.scatter(\n",
    "        coords_df['lon'],\n",
    "        coords_df['lat'],\n",
    "        c='blue',\n",
    "        s=100,\n",
    "        alpha=0.6,\n",
    "        edgecolors='black',\n",
    "        linewidth=1\n",
    "    )\n",
    "    \n",
    "    # Add node IDs as labels\n",
    "    for _, row in coords_df.iterrows():\n",
    "        ax.annotate(\n",
    "            str(int(row['node_id'])),\n",
    "            xy=(row['lon'], row['lat']),\n",
    "            xytext=(5, 5),\n",
    "            textcoords='offset points',\n",
    "            fontsize=8,\n",
    "            bbox=dict(boxstyle='round,pad=0.3', facecolor='white', alpha=0.7)\n",
    "        )\n",
    "    \n",
    "    ax.set_xlabel('Longitude', fontsize=12)\n",
    "    ax.set_ylabel('Latitude', fontsize=12)\n",
    "    ax.set_title('Dye Release Node Locations', fontsize=14)\n",
    "    ax.grid(True, alpha=0.3)\n",
    "    \n",
    "    plt.tight_layout()\n",
    "    plt.show()\n",
    "    \n",
    "    print(f\"Plotted {len(coords_df)} dye release nodes\")\n",
    "else:\n",
    "    print(\"Skipping visualization (coordinates not available)\")"
   ]
  },
  {
   "cell_type": "markdown",
   "metadata": {},
   "source": [
    "## 9. Source Type Analysis\n",
    "\n",
    "Analyze the distribution of rivers vs sewers across members."
   ]
  },
  {
   "cell_type": "code",
   "execution_count": null,
   "metadata": {},
   "outputs": [],
   "source": [
    "# Count sources by type for each member\n",
    "source_type_counts = mapping_df.groupby(['member', 'source_type']).size().unstack(fill_value=0)\n",
    "\n",
    "print(\"Source Type Distribution by Member:\")\n",
    "print(\"=\" * 60)\n",
    "source_type_counts"
   ]
  },
  {
   "cell_type": "code",
   "execution_count": null,
   "metadata": {},
   "outputs": [],
   "source": [
    "# Visualize source type distribution\n",
    "fig, ax = plt.subplots(figsize=(12, 6))\n",
    "\n",
    "source_type_counts.plot(\n",
    "    kind='bar',\n",
    "    ax=ax,\n",
    "    color=['#1f77b4', '#ff7f0e'],\n",
    "    width=0.8\n",
    ")\n",
    "\n",
    "ax.set_xlabel('Member', fontsize=12)\n",
    "ax.set_ylabel('Number of Sources', fontsize=12)\n",
    "ax.set_title('Number of Active Sources by Member and Type', fontsize=14)\n",
    "ax.legend(title='Source Type', fontsize=10)\n",
    "ax.grid(True, alpha=0.3, axis='y')\n",
    "\n",
    "plt.tight_layout()\n",
    "plt.show()"
   ]
  },
  {
   "cell_type": "markdown",
   "metadata": {},
   "source": [
    "## 10. Export Results\n",
    "\n",
    "Export member-node mappings to various formats for documentation."
   ]
  },
  {
   "cell_type": "code",
   "execution_count": null,
   "metadata": {},
   "outputs": [],
   "source": [
    "# Create output directory\n",
    "export_dir = Path.cwd().parent / \"output\"\n",
    "export_dir.mkdir(exist_ok=True)\n",
    "\n",
    "print(f\"Export directory: {export_dir}\")\n",
    "\n",
    "# Export full mapping to CSV\n",
    "export_member_mapping(\n",
    "    mapping_df,\n",
    "    export_dir / \"member_node_mapping.csv\",\n",
    "    format='csv'\n",
    ")\n",
    "\n",
    "# Export summary to CSV\n",
    "summary_df.to_csv(export_dir / \"member_summary.csv\", index=False)\n",
    "print(f\"Exported to: {export_dir / 'member_summary.csv'}\")\n",
    "\n",
    "# Export to markdown\n",
    "export_member_mapping(\n",
    "    mapping_df,\n",
    "    export_dir / \"member_node_mapping.md\",\n",
    "    format='markdown'\n",
    ")\n",
    "\n",
    "# Export coordinates if available\n",
    "if 'coords_df' in locals():\n",
    "    coords_df.to_csv(export_dir / \"node_coordinates.csv\", index=False)\n",
    "    print(f\"Exported to: {export_dir / 'node_coordinates.csv'}\")\n",
    "\n",
    "print(\"\\n✓ Export complete\")"
   ]
  },
  {
   "cell_type": "markdown",
   "metadata": {},
   "source": [
    "## 11. Summary\n",
    "\n",
    "Review the key findings."
   ]
  },
  {
   "cell_type": "code",
   "execution_count": null,
   "metadata": {},
   "outputs": [],
   "source": [
    "print(\"MEMBER-NODE MAPPING SUMMARY\")\n",
    "print(\"=\" * 80)\n",
    "print(f\"Configuration:\")\n",
    "print(f\"  Case: {basename}\")\n",
    "print(f\"  Year: {year}\")\n",
    "print(f\"  Members analyzed: {len(members)}\")\n",
    "print()\n",
    "print(f\"Results:\")\n",
    "print(f\"  Total unique nodes: {len(mapping_df['node_id'].unique())}\")\n",
    "print(f\"  Total unique sources: {len(mapping_df['source_name'].unique())}\")\n",
    "print(f\"  Source-member combinations: {len(mapping_df)}\")\n",
    "print()\n",
    "print(f\"Source breakdown:\")\n",
    "print(f\"  Rivers: {len(mapping_df[mapping_df['source_type'] == 'River']['source_name'].unique())}\")\n",
    "print(f\"  Sewers: {len(mapping_df[mapping_df['source_type'] == 'Sewer']['source_name'].unique())}\")\n",
    "print()\n",
    "print(f\"Member configuration patterns:\")\n",
    "for member in [0, 1, 2, 3, 4, 5]:\n",
    "    member_data = summary_df[summary_df['member'] == member]\n",
    "    if not member_data.empty:\n",
    "        n_sources = member_data['n_sources'].iloc[0]\n",
    "        sources = member_data['source_names'].iloc[0]\n",
    "        print(f\"  Member {member}: {n_sources} sources - {sources}\")\n",
    "print(\"=\" * 80)"
   ]
  }
 ],
 "metadata": {
  "kernelspec": {
   "display_name": "Python 3 (ipykernel)",
   "language": "python",
   "name": "python3"
  },
  "language_info": {
   "codemirror_mode": {
    "name": "ipython",
    "version": 3
   },
   "file_extension": ".py",
   "mimetype": "text/x-python",
   "name": "python",
   "nbconvert_exporter": "python",
   "pygments_lexer": "ipython3",
   "version": "3.11.9"
  }
 },
 "nbformat": 4,
 "nbformat_minor": 4
}
